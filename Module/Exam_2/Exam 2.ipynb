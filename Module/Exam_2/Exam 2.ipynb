{
 "cells": [
  {
   "cell_type": "markdown",
   "metadata": {},
   "source": [
    "## Exam 2 (Due April 17, 2018 at 11:59 pm)\n",
    "\n",
    "Please read each question carefully and apply the necessary exploratory analysis to each data set, as well as test for the assumptions relevant to each method when appropriate.\n",
    "\n",
    "Write the answers in the space provided below each question."
   ]
  },
  {
   "cell_type": "markdown",
   "metadata": {},
   "source": [
    "$1$. Small sample sizes affects accuracy of a one tail t-test because it resembles a normal distribution.\n",
    "\n",
    "a. True\n",
    "\n",
    "b. False"
   ]
  },
  {
   "cell_type": "code",
   "execution_count": null,
   "metadata": {
    "collapsed": true
   },
   "outputs": [],
   "source": []
  },
  {
   "cell_type": "markdown",
   "metadata": {},
   "source": [
    "$2$. Data on 102 male and 100 female athletes were collected at the Australian Institute of Sport. The data are  in the file ais.txt.\n",
    "\n",
    "Develop a logistic regression model for gender ( y = 1 corresponds to female) or ( y = 0 corresponds to male) based on the following predictors (which is a subset of those available):\n",
    "\n",
    "- RCC, read cell count\n",
    "- WCC, white cell count\n",
    "- BMI, body mass index\n",
    " \n",
    "Remember to check for the model assumptions."
   ]
  },
  {
   "cell_type": "code",
   "execution_count": null,
   "metadata": {
    "collapsed": true
   },
   "outputs": [],
   "source": []
  },
  {
   "cell_type": "markdown",
   "metadata": {},
   "source": [
    "$3$. If scores are normally distributed with a mean of 42 and a standard deviation of 8, what percent of the scores is: \n",
    "\n",
    "(a) greater than 25? \n",
    "\n",
    "(b) smaller than 31? \n",
    "\n",
    "(c) between 25 and 31?"
   ]
  },
  {
   "cell_type": "code",
   "execution_count": null,
   "metadata": {
    "collapsed": true
   },
   "outputs": [],
   "source": []
  },
  {
   "cell_type": "markdown",
   "metadata": {},
   "source": [
    "$4$. From the following table:\n",
    "![title](table1.png)\n",
    "\n",
    "a. Apply the appropiate tests to evaluate the null hypothesis that there is no difference in the noise values means at different vehicle sizes. \n",
    "\n",
    "b. Examine all assumptions related to the test and make sure that the data follows all of those assumptions."
   ]
  },
  {
   "cell_type": "code",
   "execution_count": null,
   "metadata": {
    "collapsed": true
   },
   "outputs": [],
   "source": []
  },
  {
   "cell_type": "markdown",
   "metadata": {},
   "source": [
    "$5$. The Central Limit Theorem states that as we increase our sample size sufficiently, the mean of all samples drawn from the population will be approximately equal to the mean of the population.\n",
    "\n",
    "a. True\n",
    "\n",
    "b. False"
   ]
  },
  {
   "cell_type": "code",
   "execution_count": null,
   "metadata": {
    "collapsed": true
   },
   "outputs": [],
   "source": []
  },
  {
   "cell_type": "markdown",
   "metadata": {},
   "source": [
    "$6$. Consider the following scenario: A data scientist has been asked to conduct a research on the effect of a treatment on anorexia patients. The data corresponded to weight change data for young female anorexia patient. The data contain three columns:\n",
    "\n",
    "\n",
    "- treat: Factor of three levels: \"Cont\" (control), \"CBT\" (Cognitive Behavioural treatment) and \"FT\" (family treatment).\n",
    "- Prewt: Weight of patient before study period, in lbs.\n",
    "- Postwt:Weight of patient after study period, in lbs.\n",
    "\n",
    "A. Is there a difference between the mean female patiente weights before and after the study across all treatments?"
   ]
  },
  {
   "cell_type": "code",
   "execution_count": 28,
   "metadata": {},
   "outputs": [
    {
     "name": "stderr",
     "output_type": "stream",
     "text": [
      "The following objects are masked from anorexia (pos = 3):\n",
      "\n",
      "    Postwt, Prewt, Treat\n",
      "\n"
     ]
    },
    {
     "data": {
      "text/html": [
       "<table>\n",
       "<thead><tr><th scope=col>Treat</th><th scope=col>Prewt</th><th scope=col>Postwt</th></tr></thead>\n",
       "<tbody>\n",
       "\t<tr><td>Cont</td><td>80.7</td><td>80.2</td></tr>\n",
       "\t<tr><td>Cont</td><td>89.4</td><td>80.1</td></tr>\n",
       "\t<tr><td>Cont</td><td>91.8</td><td>86.4</td></tr>\n",
       "\t<tr><td>Cont</td><td>74.0</td><td>86.3</td></tr>\n",
       "\t<tr><td>Cont</td><td>78.1</td><td>76.1</td></tr>\n",
       "\t<tr><td>Cont</td><td>88.3</td><td>78.1</td></tr>\n",
       "</tbody>\n",
       "</table>\n"
      ],
      "text/latex": [
       "\\begin{tabular}{r|lll}\n",
       " Treat & Prewt & Postwt\\\\\n",
       "\\hline\n",
       "\t Cont & 80.7 & 80.2\\\\\n",
       "\t Cont & 89.4 & 80.1\\\\\n",
       "\t Cont & 91.8 & 86.4\\\\\n",
       "\t Cont & 74.0 & 86.3\\\\\n",
       "\t Cont & 78.1 & 76.1\\\\\n",
       "\t Cont & 88.3 & 78.1\\\\\n",
       "\\end{tabular}\n"
      ],
      "text/markdown": [
       "\n",
       "Treat | Prewt | Postwt | \n",
       "|---|---|---|---|---|---|\n",
       "| Cont | 80.7 | 80.2 | \n",
       "| Cont | 89.4 | 80.1 | \n",
       "| Cont | 91.8 | 86.4 | \n",
       "| Cont | 74.0 | 86.3 | \n",
       "| Cont | 78.1 | 76.1 | \n",
       "| Cont | 88.3 | 78.1 | \n",
       "\n",
       "\n"
      ],
      "text/plain": [
       "  Treat Prewt Postwt\n",
       "1 Cont  80.7  80.2  \n",
       "2 Cont  89.4  80.1  \n",
       "3 Cont  91.8  86.4  \n",
       "4 Cont  74.0  86.3  \n",
       "5 Cont  78.1  76.1  \n",
       "6 Cont  88.3  78.1  "
      ]
     },
     "metadata": {},
     "output_type": "display_data"
    }
   ],
   "source": [
    "library(MASS)\n",
    "attach(anorexia)\n",
    "head(anorexia)"
   ]
  },
  {
   "cell_type": "markdown",
   "metadata": {},
   "source": [
    "$7$. In Hypothesis testing, the critical region is the probability that the test statistic equals the observed value or a more extreme value under the assumption that the null hypthothesis is true.\n",
    "\n",
    "a. True\n",
    "\n",
    "b. False"
   ]
  },
  {
   "cell_type": "code",
   "execution_count": null,
   "metadata": {
    "collapsed": true
   },
   "outputs": [],
   "source": []
  },
  {
   "cell_type": "markdown",
   "metadata": {},
   "source": [
    "$8$. The following data reports the calorie content of beef hot dogs. Here are the numbers of calories of a random sample of 20 different hot dogs:\n",
    "\n",
    "186, 181, 176, 149, 184, 190, 158, 139, 175, 148, 152, 111, 141, 153, 190, 157, 131, 149, 135, 132.\n",
    "\n",
    "Assume that these numbers are the observed values from a random sample of twenty independent normal random variables with mean μ and variance σ2, both unknown. Find the 90% confidence intervals for the mean number of calories μ."
   ]
  },
  {
   "cell_type": "code",
   "execution_count": null,
   "metadata": {
    "collapsed": true
   },
   "outputs": [],
   "source": []
  },
  {
   "cell_type": "markdown",
   "metadata": {},
   "source": [
    "$9$. Which type of predictor variables can be included in a General Linear Model\n",
    "\n",
    "a. Logistic\n",
    "\n",
    "b. Normal\n",
    "\n",
    "c. Categorical\n",
    "\n",
    "d. continuous\n",
    "\n",
    "e. Mixed\n"
   ]
  },
  {
   "cell_type": "code",
   "execution_count": null,
   "metadata": {
    "collapsed": true
   },
   "outputs": [],
   "source": []
  },
  {
   "cell_type": "markdown",
   "metadata": {},
   "source": [
    "$10$. The dataset anscombe.txt represent 4 different datasets constructed by Anscombe in 1973. The x and y variables are matched to each dataset respectively (e.g. x1 corresponds to y1, etc). Produce a Simple linear regression for each dataset (write the linear equation for each model), generate residuals plots, and discuss which is the most appropiate model from the 4 datasets and why."
   ]
  },
  {
   "cell_type": "code",
   "execution_count": 29,
   "metadata": {},
   "outputs": [
    {
     "data": {
      "text/html": [
       "<table>\n",
       "<thead><tr><th scope=col>V1</th><th scope=col>V2</th><th scope=col>V3</th><th scope=col>V4</th><th scope=col>V5</th><th scope=col>V6</th><th scope=col>V7</th><th scope=col>V8</th><th scope=col>V9</th></tr></thead>\n",
       "<tbody>\n",
       "\t<tr><td>case </td><td>x1   </td><td>x2   </td><td>x3   </td><td>x4   </td><td>y1   </td><td>y2   </td><td>y3   </td><td>y4   </td></tr>\n",
       "\t<tr><td>1    </td><td>10   </td><td>10   </td><td>10   </td><td>8    </td><td>8.04 </td><td>9.14 </td><td>7.46 </td><td>6.58 </td></tr>\n",
       "\t<tr><td>2    </td><td>8    </td><td>8    </td><td>8    </td><td>8    </td><td>6.95 </td><td>8.14 </td><td>6.77 </td><td>5.76 </td></tr>\n",
       "\t<tr><td>3    </td><td>13   </td><td>13   </td><td>13   </td><td>8    </td><td>7.58 </td><td>8.74 </td><td>12.74</td><td>7.71 </td></tr>\n",
       "\t<tr><td>4    </td><td>9    </td><td>9    </td><td>9    </td><td>8    </td><td>8.81 </td><td>8.77 </td><td>7.11 </td><td>8.84 </td></tr>\n",
       "\t<tr><td>5    </td><td>11   </td><td>11   </td><td>11   </td><td>8    </td><td>8.33 </td><td>9.26 </td><td>7.81 </td><td>8.47 </td></tr>\n",
       "</tbody>\n",
       "</table>\n"
      ],
      "text/latex": [
       "\\begin{tabular}{r|lllllllll}\n",
       " V1 & V2 & V3 & V4 & V5 & V6 & V7 & V8 & V9\\\\\n",
       "\\hline\n",
       "\t case  & x1    & x2    & x3    & x4    & y1    & y2    & y3    & y4   \\\\\n",
       "\t 1     & 10    & 10    & 10    & 8     & 8.04  & 9.14  & 7.46  & 6.58 \\\\\n",
       "\t 2     & 8     & 8     & 8     & 8     & 6.95  & 8.14  & 6.77  & 5.76 \\\\\n",
       "\t 3     & 13    & 13    & 13    & 8     & 7.58  & 8.74  & 12.74 & 7.71 \\\\\n",
       "\t 4     & 9     & 9     & 9     & 8     & 8.81  & 8.77  & 7.11  & 8.84 \\\\\n",
       "\t 5     & 11    & 11    & 11    & 8     & 8.33  & 9.26  & 7.81  & 8.47 \\\\\n",
       "\\end{tabular}\n"
      ],
      "text/markdown": [
       "\n",
       "V1 | V2 | V3 | V4 | V5 | V6 | V7 | V8 | V9 | \n",
       "|---|---|---|---|---|---|\n",
       "| case  | x1    | x2    | x3    | x4    | y1    | y2    | y3    | y4    | \n",
       "| 1     | 10    | 10    | 10    | 8     | 8.04  | 9.14  | 7.46  | 6.58  | \n",
       "| 2     | 8     | 8     | 8     | 8     | 6.95  | 8.14  | 6.77  | 5.76  | \n",
       "| 3     | 13    | 13    | 13    | 8     | 7.58  | 8.74  | 12.74 | 7.71  | \n",
       "| 4     | 9     | 9     | 9     | 8     | 8.81  | 8.77  | 7.11  | 8.84  | \n",
       "| 5     | 11    | 11    | 11    | 8     | 8.33  | 9.26  | 7.81  | 8.47  | \n",
       "\n",
       "\n"
      ],
      "text/plain": [
       "  V1   V2 V3 V4 V5 V6   V7   V8    V9  \n",
       "1 case x1 x2 x3 x4 y1   y2   y3    y4  \n",
       "2 1    10 10 10 8  8.04 9.14 7.46  6.58\n",
       "3 2    8  8  8  8  6.95 8.14 6.77  5.76\n",
       "4 3    13 13 13 8  7.58 8.74 12.74 7.71\n",
       "5 4    9  9  9  8  8.81 8.77 7.11  8.84\n",
       "6 5    11 11 11 8  8.33 9.26 7.81  8.47"
      ]
     },
     "metadata": {},
     "output_type": "display_data"
    }
   ],
   "source": [
    "ansc = read.table(file = \"anscombe.txt\", stringsAsFactors = F)\n",
    "head(ansc)"
   ]
  },
  {
   "cell_type": "code",
   "execution_count": null,
   "metadata": {
    "collapsed": true
   },
   "outputs": [],
   "source": []
  }
 ],
 "metadata": {
  "kernelspec": {
   "display_name": "R",
   "language": "R",
   "name": "ir"
  },
  "language_info": {
   "codemirror_mode": "r",
   "file_extension": ".r",
   "mimetype": "text/x-r-source",
   "name": "R",
   "pygments_lexer": "r",
   "version": "3.3.2"
  }
 },
 "nbformat": 4,
 "nbformat_minor": 2
}
