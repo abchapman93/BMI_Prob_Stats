{
 "cells": [
  {
   "cell_type": "markdown",
   "metadata": {},
   "source": [
    "# Types of Data\n",
    "\n",
    "### As with any programming language R offers the common types of data objects.\n",
    "#### Similar to python with can use the console to run mathematical operations.\n"
   ]
  },
  {
   "cell_type": "code",
   "execution_count": 1,
   "metadata": {},
   "outputs": [
    {
     "data": {
      "text/html": [
       "3"
      ],
      "text/latex": [
       "3"
      ],
      "text/markdown": [
       "3"
      ],
      "text/plain": [
       "[1] 3"
      ]
     },
     "metadata": {},
     "output_type": "display_data"
    },
    {
     "data": {
      "text/html": [
       "5"
      ],
      "text/latex": [
       "5"
      ],
      "text/markdown": [
       "5"
      ],
      "text/plain": [
       "[1] 5"
      ]
     },
     "metadata": {},
     "output_type": "display_data"
    }
   ],
   "source": [
    "1 + 2\n",
    "\n",
    "a = 1+2\n",
    "var_x = a + 2\n",
    "var_x"
   ]
  },
  {
   "cell_type": "markdown",
   "metadata": {},
   "source": [
    "Very good explanation of data structures on Page 23 of\n",
    "[ftp://ftp.micronet-rostov.ru/linux-support/books/programming/R/Kabacoff%20Robert%20I.%20-%20R%20in%20Action%20-%202011.pdf](ftp://ftp.micronet-rostov.ru/linux-support/books/programming/R/Kabacoff%20Robert%20I.%20-%20R%20in%20Action%20-%202011.pdf)"
   ]
  },
  {
   "cell_type": "markdown",
   "metadata": {},
   "source": [
    "# Vectors \n",
    "## linear – one dimensional structures (numerical, character or logical) – but only one type."
   ]
  },
  {
   "cell_type": "code",
   "execution_count": null,
   "metadata": {
    "collapsed": true
   },
   "outputs": [],
   "source": [
    "vector1 = c(\"a\",\"b\",\"c\",\"d\")\n",
    "vector2 = c(1,2,3,4)\n",
    "vector3 = c(1,2,3,\"1\",4)"
   ]
  },
  {
   "cell_type": "code",
   "execution_count": null,
   "metadata": {
    "collapsed": true
   },
   "outputs": [],
   "source": [
    "class(vector3)"
   ]
  },
  {
   "cell_type": "code",
   "execution_count": null,
   "metadata": {
    "collapsed": true
   },
   "outputs": [],
   "source": [
    "vector3 = as.numeric(vector3)"
   ]
  },
  {
   "cell_type": "code",
   "execution_count": null,
   "metadata": {},
   "outputs": [],
   "source": [
    "vector4 = c(1,2,3,\"a\",4)\n",
    "vector4\n",
    "class(vector4)"
   ]
  },
  {
   "cell_type": "code",
   "execution_count": null,
   "metadata": {},
   "outputs": [],
   "source": [
    "vector4 = as.numeric(vector4)"
   ]
  },
  {
   "cell_type": "code",
   "execution_count": null,
   "metadata": {},
   "outputs": [],
   "source": [
    "vector4"
   ]
  },
  {
   "cell_type": "code",
   "execution_count": null,
   "metadata": {
    "collapsed": true
   },
   "outputs": [],
   "source": [
    "vector1[2]"
   ]
  },
  {
   "cell_type": "code",
   "execution_count": null,
   "metadata": {
    "collapsed": true
   },
   "outputs": [],
   "source": [
    "vector1[2:3]"
   ]
  },
  {
   "cell_type": "code",
   "execution_count": null,
   "metadata": {},
   "outputs": [],
   "source": [
    "vector1[2,4]"
   ]
  },
  {
   "cell_type": "code",
   "execution_count": null,
   "metadata": {},
   "outputs": [],
   "source": [
    "vector1[c(2,4)]"
   ]
  },
  {
   "cell_type": "markdown",
   "metadata": {},
   "source": [
    "### We can name vectors "
   ]
  },
  {
   "cell_type": "code",
   "execution_count": null,
   "metadata": {},
   "outputs": [],
   "source": [
    "names(vector1)= c(\"first\",\"second\",\"third\",\"fourth\")\n",
    "vector1\n",
    "vector1[\"first\"]"
   ]
  },
  {
   "cell_type": "markdown",
   "metadata": {},
   "source": [
    "# Lists:\n",
    "## Multilevel set of vectors : multiple classes of objects\n",
    "#### example taken from (this link includes more lists uses and manipulations):\n",
    "[https://rforpublichealth.blogspot.com/2015/03/basics-of-lists.html](https://rforpublichealth.blogspot.com/2015/03/basics-of-lists.html)"
   ]
  },
  {
   "cell_type": "code",
   "execution_count": null,
   "metadata": {
    "collapsed": true
   },
   "outputs": [],
   "source": [
    "vec <- 1:4\n",
    "df <- data.frame(y = c(1:3), x = c(\"m\", \"m\", \"f\"))\n",
    "char <- \"Hello!\""
   ]
  },
  {
   "cell_type": "code",
   "execution_count": null,
   "metadata": {},
   "outputs": [],
   "source": [
    "list1 <- list(vec, df, char)\n",
    "list1"
   ]
  },
  {
   "cell_type": "markdown",
   "metadata": {},
   "source": [
    "We can name lists as well - we can use this named lists similar to dictionaries in python\n",
    "\n",
    "# Exercise 2\n",
    "### name all elements of list1"
   ]
  },
  {
   "cell_type": "code",
   "execution_count": null,
   "metadata": {},
   "outputs": [],
   "source": []
  },
  {
   "cell_type": "markdown",
   "metadata": {},
   "source": [
    "   Calling elements from lists.   \n",
    "   What’s the difference between.   \n",
    "   list1[[3]] vs list1[3]."
   ]
  },
  {
   "cell_type": "markdown",
   "metadata": {},
   "source": [
    "# Logical : \n",
    "## for a complete reference of logical variables see [http://www.dummies.com/programming/r/how-to-compare-values-in-logical-vectors-in-r/](http://www.dummies.com/programming/r/how-to-compare-values-in-logical-vectors-in-r/)"
   ]
  },
  {
   "cell_type": "code",
   "execution_count": null,
   "metadata": {
    "collapsed": true
   },
   "outputs": [],
   "source": [
    "a = c(1,3,6,9,12,4,6)"
   ]
  },
  {
   "cell_type": "code",
   "execution_count": null,
   "metadata": {},
   "outputs": [],
   "source": [
    "a>5"
   ]
  },
  {
   "cell_type": "code",
   "execution_count": null,
   "metadata": {},
   "outputs": [],
   "source": [
    "which(a>5) ##position of values > 5"
   ]
  },
  {
   "cell_type": "code",
   "execution_count": null,
   "metadata": {},
   "outputs": [],
   "source": [
    "a[which(a>5)] ##actual values > 5"
   ]
  },
  {
   "cell_type": "markdown",
   "metadata": {},
   "source": [
    "# Factors: \n",
    "### in our bird malaria example, columns 2 and 3 are factors. Nominal or ordinal variables cataloged within the variable – and classified within levels (number of categories within the variable).\n",
    "### how many levels are in columns 2 and 3? \n",
    "##### another example from [https://www.stat.berkeley.edu/classes/s133/factors.html](https://www.stat.berkeley.edu/classes/s133/factors.html)"
   ]
  },
  {
   "cell_type": "code",
   "execution_count": null,
   "metadata": {},
   "outputs": [],
   "source": [
    "data = c(1,2,2,3,1,2,3,3,1,2,3,3,1)\n",
    "fdata = factor(data)\n",
    "fdata"
   ]
  },
  {
   "cell_type": "code",
   "execution_count": null,
   "metadata": {},
   "outputs": [],
   "source": [
    "plot(fdata)"
   ]
  },
  {
   "cell_type": "markdown",
   "metadata": {},
   "source": [
    "# Matrix: \n",
    "### two-dimensional array – but only one class elements"
   ]
  },
  {
   "cell_type": "code",
   "execution_count": null,
   "metadata": {
    "collapsed": true
   },
   "outputs": [],
   "source": [
    "matrix1 = matrix(1:20, nrow = 5, ncol = 4)"
   ]
  },
  {
   "cell_type": "code",
   "execution_count": null,
   "metadata": {},
   "outputs": [],
   "source": [
    "matrix1"
   ]
  },
  {
   "cell_type": "code",
   "execution_count": null,
   "metadata": {
    "collapsed": true
   },
   "outputs": [],
   "source": [
    "matrix1[,2]"
   ]
  },
  {
   "cell_type": "code",
   "execution_count": null,
   "metadata": {
    "collapsed": true
   },
   "outputs": [],
   "source": [
    "matrix1[2,3]"
   ]
  },
  {
   "cell_type": "markdown",
   "metadata": {},
   "source": [
    "#### Arrays: Multidimensional matrices, only one element."
   ]
  },
  {
   "cell_type": "markdown",
   "metadata": {},
   "source": [
    "# Missing values"
   ]
  },
  {
   "cell_type": "code",
   "execution_count": null,
   "metadata": {
    "collapsed": true
   },
   "outputs": [],
   "source": [
    "x = NA \n",
    "x <- NA"
   ]
  },
  {
   "cell_type": "code",
   "execution_count": null,
   "metadata": {
    "collapsed": true
   },
   "outputs": [],
   "source": [
    "is.na(x)"
   ]
  },
  {
   "cell_type": "code",
   "execution_count": null,
   "metadata": {},
   "outputs": [],
   "source": [
    "is.na(vector4)"
   ]
  },
  {
   "cell_type": "markdown",
   "metadata": {},
   "source": [
    "# Functions: \n",
    "### Set of instructions to do a repetitive, and define tasks e.g. mean(), seq(1, 10).\n",
    ">You can create your own functions. More on functions: [https://www.datacamp.com/community/tutorials/functions-in-r-a-tutorial](https://www.datacamp.com/community/tutorials/functions-in-r-a-tutorial).\n",
    "\n",
    "## Exercise 3\n",
    "### Find the mean for each population in the elevation dataset.\n",
    "### (Hint) review function aggregate()."
   ]
  },
  {
   "cell_type": "markdown",
   "metadata": {},
   "source": [
    "# Dataframes:\n",
    "\n",
    "### Dataframes are the main structure for statistical analysis. They are organized by columns and rows, and each column can contain any type of object (numerical, character, logical, factor).\n",
    "\n",
    "### When we imported our csv malaria example, it imported as a dataframe."
   ]
  },
  {
   "cell_type": "code",
   "execution_count": null,
   "metadata": {},
   "outputs": [],
   "source": [
    "malaria_bird = read.csv(file = \"BirdMalaria.csv\",header=TRUE, sep=\",\")\n",
    "class(malaria_bird)\n",
    "elev = read.csv(file = \"HumanHemoglobinElevation.csv\", header=TRUE, sep=\",\")\n",
    "class(elev)"
   ]
  },
  {
   "cell_type": "markdown",
   "metadata": {},
   "source": [
    "### We can create dataframes directly on the command line"
   ]
  },
  {
   "cell_type": "code",
   "execution_count": null,
   "metadata": {},
   "outputs": [],
   "source": [
    "Data1 = c(\"a\",\"b\",\"c\")\n",
    "Data2 = c(TRUE,FALSE,TRUE)\n",
    "Data3 = c(1,4,6)\n",
    "Data_total = data.frame(Data1,Data2,Data3)\n",
    "Data_total\n",
    "class(Data_total)"
   ]
  },
  {
   "cell_type": "markdown",
   "metadata": {},
   "source": [
    "## There are built in datasets we can use to test functions or packages"
   ]
  },
  {
   "cell_type": "code",
   "execution_count": null,
   "metadata": {
    "collapsed": true
   },
   "outputs": [],
   "source": [
    "data(\"mtcars\")\n",
    "data(\"iris\")\n",
    "data(\"ToothGrowth\")"
   ]
  },
  {
   "cell_type": "markdown",
   "metadata": {},
   "source": [
    "## For a more in depth description of these and other built in datasets see [http://www.sthda.com/english/wiki/r-built-in-data-sets](http://www.sthda.com/english/wiki/r-built-in-data-sets)."
   ]
  },
  {
   "cell_type": "code",
   "execution_count": null,
   "metadata": {
    "collapsed": true
   },
   "outputs": [],
   "source": []
  }
 ],
 "metadata": {
  "kernelspec": {
   "display_name": "R",
   "language": "R",
   "name": "ir"
  },
  "language_info": {
   "codemirror_mode": "r",
   "file_extension": ".r",
   "mimetype": "text/x-r-source",
   "name": "R",
   "pygments_lexer": "r",
   "version": "3.3.2"
  }
 },
 "nbformat": 4,
 "nbformat_minor": 2
}
