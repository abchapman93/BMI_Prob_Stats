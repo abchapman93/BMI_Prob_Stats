{
 "cells": [
  {
   "cell_type": "markdown",
   "metadata": {},
   "source": [
    "## 2. Contingency tables"
   ]
  },
  {
   "cell_type": "markdown",
   "metadata": {},
   "source": [
    "We have already seen some contingency tables and its uses in calculating different types of probabilities, lets explore code to produce and analyze contingency tables in R.\n",
    "\n"
   ]
  },
  {
   "cell_type": "markdown",
   "metadata": {},
   "source": [
    "First lets define joint, marginal, and conditional probabilities:\n",
    "\n",
    "### Joint probabilities: Are the chances of two events occurring at the same time p(A$\\bigcap$B) or P(A and B), the intersection of two events, these can be mutually exclusive or not mutually exclusive. \n",
    "\n",
    "### Marginal probability: Is the probability of occurring one single event, this can be calculated by adding all joint probabilities for that event. \n",
    "\n",
    "### Conditional Probabilities: As we have seen, conditional probabilities is the probability of event A occurring given event B."
   ]
  },
  {
   "cell_type": "markdown",
   "metadata": {},
   "source": [
    "The equation: $$P(A|B) = \\frac{P(A and B)}{P(B)}$$"
   ]
  },
  {
   "cell_type": "markdown",
   "metadata": {},
   "source": [
    "Lets create a contingency table in R, for this we will use a different way of writing code in R. The package dyplr is a very useful package for data analysis, here is the introductory vignette \n",
    "\n",
    "[https://cran.r-project.org/web/packages/dplyr/vignettes/dplyr.html](https://cran.r-project.org/web/packages/dplyr/vignettes/dplyr.html)"
   ]
  },
  {
   "cell_type": "markdown",
   "metadata": {},
   "source": [
    "This exercise was modified from [http://tinyheero.github.io/2016/03/20/basic-prob.html](http://tinyheero.github.io/2016/03/20/basic-prob.html)\n",
    "\n",
    "Other examples see\n",
    "[https://www.youtube.com/watch?time_continue=236&v=pIfpHdGVwLU](https://www.youtube.com/watch?time_continue=236&v=pIfpHdGVwLU)"
   ]
  },
  {
   "cell_type": "markdown",
   "metadata": {},
   "source": [
    "### Remember, it is extremely important to know the direction of the conditional probability it is not the same to have P(A|B) P(is going to rain given that it is spring) than P(B|A) P(It is spring given that it is going to rain).\n",
    "\n",
    "Always ask, which variable is hidden? which is out prior information (observed variable), What is the direction of the probability."
   ]
  },
  {
   "cell_type": "markdown",
   "metadata": {},
   "source": [
    "### Let's use the attached dataset BCHI2.csv in order to explore contigency tables and multiple probabilities calculations"
   ]
  },
  {
   "cell_type": "markdown",
   "metadata": {},
   "source": [
    "## The Big cities Health Coalition, maintains a set of databases from multiple issues related to health and safety the country's largest metropolitan area. see [http://www.bigcitieshealth.org/](http://www.bigcitieshealth.org/).\n",
    "\n",
    "### Today we will using a dataset that explores the major components of opioid addiction and unintentional opioid overdoses. This dataset contains more than 50 health status indicators, death rates, socio-economic and demographic factors. This dataset includes multiple years"
   ]
  },
  {
   "cell_type": "code",
   "execution_count": 1,
   "metadata": {},
   "outputs": [
    {
     "name": "stderr",
     "output_type": "stream",
     "text": [
      "\n",
      "Attaching package: ‘dplyr’\n",
      "\n",
      "The following objects are masked from ‘package:stats’:\n",
      "\n",
      "    filter, lag\n",
      "\n",
      "The following objects are masked from ‘package:base’:\n",
      "\n",
      "    intersect, setdiff, setequal, union\n",
      "\n"
     ]
    }
   ],
   "source": [
    "library(\"ggplot2\")\n",
    "library(\"dplyr\")\n",
    "library(\"reshape2\")\n",
    "library(\"knitr\")"
   ]
  },
  {
   "cell_type": "code",
   "execution_count": 2,
   "metadata": {},
   "outputs": [],
   "source": [
    "BCHI = read.csv(file = \"BCHI2.csv\")"
   ]
  },
  {
   "cell_type": "code",
   "execution_count": 3,
   "metadata": {},
   "outputs": [],
   "source": [
    "BCHI.sex.region.df <-\n",
    "  BCHI %>%\n",
    "  group_by(Sex, Region) %>%\n",
    "  filter(Sex != \"Both\") %>%\n",
    "  summarize(n = n())"
   ]
  },
  {
   "cell_type": "code",
   "execution_count": 6,
   "metadata": {},
   "outputs": [
    {
     "name": "stderr",
     "output_type": "stream",
     "text": [
      "Using n as value column: use value.var to override.\n"
     ]
    }
   ],
   "source": [
    "df <- BCHI.sex.region.df %>%\n",
    "  dcast(Sex ~ Region, value.nar = \"n\") %>%\n",
    "  kable(align = \"l\", format = \"markdown\",\n",
    "        table.attr='class=\"table table-striped table-hover\"')"
   ]
  },
  {
   "cell_type": "code",
   "execution_count": 7,
   "metadata": {},
   "outputs": [
    {
     "data": {
      "text/plain": [
       "\n",
       "\n",
       "|Sex    |East |West |\n",
       "|:------|:----|:----|\n",
       "|Female |1580 |1471 |\n",
       "|Male   |1137 |1056 |"
      ]
     },
     "metadata": {},
     "output_type": "display_data"
    }
   ],
   "source": [
    "df"
   ]
  },
  {
   "cell_type": "markdown",
   "metadata": {},
   "source": [
    "|Sex    |East |West |\n",
    "|:------|:----|:----|\n",
    "|Female |1580 |1471 |\n",
    "|Male   |1137 |1056 |"
   ]
  },
  {
   "cell_type": "markdown",
   "metadata": {},
   "source": [
    "## Lets calculate now that joint probabilities:\n",
    "which is the probability of two different events occurring at the same time"
   ]
  },
  {
   "cell_type": "code",
   "execution_count": 8,
   "metadata": {},
   "outputs": [
    {
     "data": {
      "text/plain": [
       "\n",
       "\n",
       "|Sex    |East      |West      |\n",
       "|:------|:---------|:---------|\n",
       "|Female |0.3012967 |0.2805111 |\n",
       "|Male   |0.2168192 |0.2013730 |"
      ]
     },
     "metadata": {},
     "output_type": "display_data"
    }
   ],
   "source": [
    "BCHI.sex.region.prop.df <- \n",
    "  BCHI.sex.region.df %>%\n",
    "  ungroup() %>%\n",
    "  mutate(prop = n / sum(n))\n",
    "\n",
    "BCHI.sex.region.prop.df %>%\n",
    "  dcast(Sex ~ Region, value.var = \"prop\") %>%\n",
    "  kable(align = \"l\", format = \"markdown\", \n",
    "        table.attr = 'class=\"table table-striped table-hover\"')"
   ]
  },
  {
   "cell_type": "markdown",
   "metadata": {},
   "source": [
    "Joint probabilities can be calculated by taking the proportion of times a specific Sex-Region combination occurs divided by total number of all sex-regions combinations (i.e. frequency):\n",
    "\n",
    "### What can we say about this trend?"
   ]
  },
  {
   "cell_type": "markdown",
   "metadata": {},
   "source": [
    "## How about the Marginal probabilities:\n",
    "Marginal probabilities focuses on single events, to calculate marginal probabilities we let constant our random variable we are interested for example: Males, and we sum all of the joint probabilities of the random variable Regions."
   ]
  },
  {
   "cell_type": "code",
   "execution_count": 9,
   "metadata": {},
   "outputs": [],
   "source": [
    "Sex.marginal.df <- \n",
    "  BCHI.sex.region.prop.df %>%\n",
    "  group_by(Sex) %>%\n",
    "  summarize(marginal = sum(prop))\n",
    "\n",
    "Region.marginal.df <- \n",
    "  BCHI.sex.region.prop.df %>%\n",
    "  group_by(Region) %>%\n",
    "  summarize(marginal = sum(prop))"
   ]
  },
  {
   "cell_type": "code",
   "execution_count": 10,
   "metadata": {},
   "outputs": [
    {
     "name": "stderr",
     "output_type": "stream",
     "text": [
      "Warning message in bind_rows_(x, .id):\n",
      "“binding factor and character vector, coercing into character vector”Warning message in bind_rows_(x, .id):\n",
      "“binding character and factor vector, coercing into character vector”"
     ]
    },
    {
     "data": {
      "text/plain": [
       "\n",
       "\n",
       "|Sex      |East      |West      |marginal  |\n",
       "|:--------|:---------|:---------|:---------|\n",
       "|Female   |0.3012967 |0.2805111 |0.5818078 |\n",
       "|Male     |0.2168192 |0.2013730 |0.4181922 |\n",
       "|marginal |0.5181159 |0.4818841 |NA        |"
      ]
     },
     "metadata": {},
     "output_type": "display_data"
    }
   ],
   "source": [
    "BCHI.sex.region.prop.df %>%\n",
    "  dcast(Sex ~ Region, value.var = \"prop\") %>%\n",
    "  left_join(Sex.marginal.df, by = \"Sex\") %>%\n",
    "  bind_rows(\n",
    "    Region.marginal.df %>%\n",
    "      mutate(Sex = \"marginal\") %>%\n",
    "      dcast(Sex ~ Region, value.var = \"marginal\")\n",
    "  ) %>%\n",
    "  kable(align = \"l\", format = \"markdown\",\n",
    "        table.attr = 'class=\"table table-striped table-hover\"')"
   ]
  },
  {
   "cell_type": "markdown",
   "metadata": {},
   "source": [
    "|Sex      |East      |West      |marginal  |\n",
    "|:--------|:---------|:---------|:---------|\n",
    "|Female   |0.3012967 |0.2805111 |0.5818078 |\n",
    "|Male     |0.2168192 |0.2013730 |0.4181922 |\n",
    "|marginal |0.5181159 |0.4818841 |NA        |"
   ]
  },
  {
   "cell_type": "markdown",
   "metadata": {},
   "source": [
    "### Conditional Probabilities"
   ]
  },
  {
   "cell_type": "markdown",
   "metadata": {},
   "source": [
    "Lets calculate the conditional probability that Females given that they are from the East coast. lets review the equation:\n",
    "\n",
    "$$P(Female|East) = \\frac{P(Females, East)}{P(East)}$$"
   ]
  },
  {
   "cell_type": "markdown",
   "metadata": {},
   "source": [
    "P(Females,East) becomes the joint probability and P(East) is our marginal probability of female addiction in the East region."
   ]
  },
  {
   "cell_type": "code",
   "execution_count": 11,
   "metadata": {},
   "outputs": [
    {
     "data": {
      "text/html": [
       "0.581523739418476"
      ],
      "text/latex": [
       "0.581523739418476"
      ],
      "text/markdown": [
       "0.581523739418476"
      ],
      "text/plain": [
       "[1] 0.5815237"
      ]
     },
     "metadata": {},
     "output_type": "display_data"
    }
   ],
   "source": [
    "joint.prob <- \n",
    "  BCHI.sex.region.prop.df %>%\n",
    "  filter(Sex == \"Female\", Region == \"East\") %>%\n",
    "  .$prop\n",
    "\n",
    "marg.prob <- \n",
    "  Region.marginal.df %>%\n",
    "  filter(Region == \"East\") %>%\n",
    "  .$marginal\n",
    "\n",
    "cond.prob <- joint.prob / marg.prob\n",
    "cond.prob"
   ]
  },
  {
   "cell_type": "code",
   "execution_count": null,
   "metadata": {
    "collapsed": true
   },
   "outputs": [],
   "source": []
  }
 ],
 "metadata": {
  "kernelspec": {
   "display_name": "R",
   "language": "R",
   "name": "ir"
  },
  "language_info": {
   "codemirror_mode": "r",
   "file_extension": ".r",
   "mimetype": "text/x-r-source",
   "name": "R",
   "pygments_lexer": "r",
   "version": "3.3.2"
  }
 },
 "nbformat": 4,
 "nbformat_minor": 2
}
