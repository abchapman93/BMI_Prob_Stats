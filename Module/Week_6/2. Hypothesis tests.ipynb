{
 "cells": [
  {
   "cell_type": "markdown",
   "metadata": {},
   "source": [
    "# 2. Hypothesis Tests"
   ]
  },
  {
   "cell_type": "markdown",
   "metadata": {},
   "source": [
    "So far we have only dealt with descriptive statistics, which is very useful to have a very good sense of the type of data we are managing. However, if we have a sample or operational dataset chosen correctly and large enough, we can do some inferential statistics.\n",
    "\n",
    "Essentially, we infer onto the population from which the sample was drawn the characteristics we have seen in the sample."
   ]
  },
  {
   "cell_type": "markdown",
   "metadata": {},
   "source": [
    "### But first, some vocabulary:\n",
    "\n",
    "##### POPULATION - aka REFERENCE GROUP, TARGET GROUP or STUDY GROUP is the entire group of interest.  \n",
    "\n",
    "If I am interested in obesity in children ages 5 - 12 in NYS,  then the population is all 5 - 12 year olds living in NYS. \n",
    "\n",
    "##### RANDOM SAMPLE - a selection of members of a population such that each member is chosen independently and has a non-zero probability of being chosen.  \n",
    "\n",
    "Random digit dialing is not a random sample of the whole population, only of the population with a land line.  Those without a land line have a 0 chance of being chosen.  \n",
    "\n",
    "##### SIMPLE RANDOM SAMPLE - a random sample in which each member has an equally likely probability of being selected\n",
    "\n",
    "If a family has more than one land line, then those particular families have a greater chance of being chosen then those with only one land line.  So it may be a random sample of land line owners, but not a simple random sample.\n",
    "\n",
    "There are other types of samples, e.g. cluster, stratified, block etc. \n",
    "\n",
    "#### BLINDING - A devise used in clinical trials to minimize bias.  Double blind implies neither the administrating individual nor the receiving unit is aware of which treatment is being rendered.  Single blind is when only the receiving unit is unaware of treatment."
   ]
  },
  {
   "cell_type": "code",
   "execution_count": null,
   "metadata": {
    "collapsed": true
   },
   "outputs": [],
   "source": []
  },
  {
   "cell_type": "markdown",
   "metadata": {},
   "source": [
    "PARAMETER - numerical descriptive measure of a population.  Because it is based on the observations in the population, its value is almost always unknown.  Querying the population is usually not possible as it is too big. \n",
    " \n",
    "\n",
    "ESTIMATOR - a rule or function (statistic) of the sample is called an estimator and is used to estimate a population parameter:\n",
    "\n",
    "\tPOINT ESTIMATOR - calculates a single number - mean, median, variance\n",
    "\tINTERVAL ESTIMATOR - calculates an interval - confidence interval\n",
    "\n",
    "![title](parameter.jpg)"
   ]
  },
  {
   "cell_type": "markdown",
   "metadata": {},
   "source": [
    "We want to choose estimators of the population that are unbiased and have minimum variance.  That is, the expected value of the estimator is the value of the parameter and all such values vary tightly around the parameter."
   ]
  },
  {
   "cell_type": "markdown",
   "metadata": {},
   "source": [
    "# SAMPLING DISTRIBUTION \n",
    "of a sample statistic calculated from a sample of n measurements is the probability distribution (PDF) of the statistic."
   ]
  },
  {
   "cell_type": "markdown",
   "metadata": {},
   "source": [
    "The above definition is a critical one in understanding inferential statistics.  \n",
    "\n",
    "\n",
    "For the time being, we will be considering only those variables which are quantitative, continuous.  Thus the estimators of interest are  $\\bar{x}$ for μ and $s^2$ for $\\sigma^2$.   First we will proceed to learn about point and interval estimators for the mean, then later the variance.\n",
    "\n",
    "Say I have a population of 50 people and I take a simple random sample (SRS) of 10 people.  There are $50 \\choose 10$  = 10,272,270,000 such samples I can get: all with different people in them. \n",
    "\n",
    "If I were to take the mean age ($\\bar{x}$) of my sample of ten, I will get a number.  \n",
    "\n",
    "Now choose another one of the $1.02 x 10^{10}$ samples and find the mean age($\\bar{x}$).  It will be a different number.  In fact, in all the possible $1.02 x 10^{10}$ samples, the $\\bar{x}$'s will be slightly different.  Thus, the $\\bar{x}$'s of all the possible samples (of size 10 in this example) have a distribution (i.e. I can create a histogram of all the $\\bar{x}$'s) and will happen with a specific probability.  This also means that, for all these $\\bar{x}$'s, we can calculate a mean and a variance.  \n",
    "\n",
    "\n",
    "#### Knowledge of this distribution will allow us to make inferences from the sample onto the population."
   ]
  },
  {
   "cell_type": "markdown",
   "metadata": {},
   "source": [
    "The first important piece of information about the distribution of $\\bar{x}$ is:\n",
    "\n",
    "IF THE UNDERLYING DISTRIBUTION OF X ~ N($\\mu$ ,$\\sigma^2$), then  $\\bar{x}$ ~ N($\\mu$ ,$\\sigma{^2_x})$.\n",
    "\n",
    "where  $sigma{^2_x}$ =  $\\sigma^2$ is called the standard error of the mean (SEM)\n",
    "\n",
    "Note that as the sample size n gets larger, the SEM gets smaller!  \n",
    "\n",
    "So, if X ~ N($\\mu$ ,$\\sigma^2$) I can find the probability of getting the $\\bar{x}$  I obtained from my one sample:\n",
    "\n",
    "#### Example:\n",
    "\n",
    "Suppose we have a quantitative, continuous variable X ~ N(100,100).  \n",
    "\n",
    "I take an SRS of size n = 25 and want to know the probability that the sample mean, not an individual value of X, falls between 99 and 102.    \n",
    "\n",
    "The above statement tells me that all the  of sample size 25 taken from this population will have a distribution ~ N(100,100/25) or ~ N(100, 4) {note how much small the variance of the means are}:\n",
    "\n",
    "$P(99 < \\bar{x} < 102) = P(\\frac {99-100}{\\sqrt4} < \\frac {\\bar{x}-\\mu}{\\sigma_x} < \\frac {102-100}{\\sqrt4}) = P(-0.5 < \\bar{x} < 1.00)$\n",
    "\n",
    "= 0.8413 - 0.3085\n",
    "\n",
    "= 0.5328"
   ]
  },
  {
   "cell_type": "code",
   "execution_count": null,
   "metadata": {
    "collapsed": true
   },
   "outputs": [],
   "source": []
  },
  {
   "cell_type": "markdown",
   "metadata": {},
   "source": [
    "## To recoup, $\\bar{x}$  is an estimator of $\\mu$.  In fact it is a point estimator.  Now we will learn how to create and interpret an interval estimator."
   ]
  },
  {
   "cell_type": "markdown",
   "metadata": {},
   "source": [
    "First, another definition:\n",
    "\n",
    "### DEGREES OF FREEDOM (DF) of a set of observations is the number of values that could be assigned arbitrarily within the specifications of the system.  In other words, the number of values that are free to vary in the calculation of a statistic, in this case the mean.  \n",
    "\n",
    "This value varies dependeing on the type of distribution we are sampling.\n",
    "\n",
    "Normally, it is infered from the number of groups that are free to vary. \n",
    "\n"
   ]
  },
  {
   "cell_type": "code",
   "execution_count": null,
   "metadata": {
    "collapsed": true
   },
   "outputs": [],
   "source": []
  },
  {
   "cell_type": "markdown",
   "metadata": {},
   "source": [
    "## What to do if $\\sigma^2$ is unknown?  For that we need a sampling distribution, a distribution of the sample means where $\\sigma^2$ is unknown."
   ]
  },
  {
   "cell_type": "markdown",
   "metadata": {},
   "source": [
    "## The t Distribution (or Student's t Distribution)\n",
    "\n",
    "the t distribution is a family of distributions whose shape depends on the parameters degree of freedom (DF). The t distribution is similar to the normal distribution - symmetric and mound shaped - but it is thicker at the tails to allow for more uncertainty.\n",
    "\n",
    "![title](t_dist.png)\n",
    "\n",
    "As df increases, t --> N.\n",
    "\n",
    "THE 100(U)th PERCENTILE of a t distribution with d degrees of freedom is denoted $t_{d,u}$, thus P($t_d$ < $t_{d,u}$) = u.  \n",
    "\n",
    "The u is the cumulative probability and d the degrees of freedom.\n",
    "\n",
    "So, now we need to use the t distribution table to find the probabilities (area under the curve).  \n",
    "\n",
    "As we noted above, the t is a family of distributions, each of which are defined by the df.  Thus, using the table for the t distribution, $t_{29,0.80} = 0.854$, $t_{15, 0.975}$ = 2.131, etc.  \n",
    "\n"
   ]
  },
  {
   "cell_type": "code",
   "execution_count": 2,
   "metadata": {},
   "outputs": [
    {
     "data": {
      "text/html": [
       "0.854191985881856"
      ],
      "text/latex": [
       "0.854191985881856"
      ],
      "text/markdown": [
       "0.854191985881856"
      ],
      "text/plain": [
       "[1] 0.854192"
      ]
     },
     "metadata": {},
     "output_type": "display_data"
    },
    {
     "data": {
      "text/html": [
       "2.13144954555978"
      ],
      "text/latex": [
       "2.13144954555978"
      ],
      "text/markdown": [
       "2.13144954555978"
      ],
      "text/plain": [
       "[1] 2.13145"
      ]
     },
     "metadata": {},
     "output_type": "display_data"
    }
   ],
   "source": [
    "qt(0.8,29)\n",
    "qt(0.975,15)"
   ]
  },
  {
   "cell_type": "markdown",
   "metadata": {},
   "source": [
    "Like the standard normal Z distribution, the t distribution is also symmetrical, centered around 0 - we need only the upper half of the t values.  For example: $t_{15, 0.975}$ = 2.131 so $t_{15, 0.025}$ = -2.131.\n",
    "\n",
    "Putting these two together we can estimate μ, not using one number, but an interval within which we think the true μ will lie."
   ]
  },
  {
   "cell_type": "markdown",
   "metadata": {},
   "source": [
    "### INTERVAL ESTIMATION - UNKNOWN VARIANCE, since in reality, we do not know the variance.\n",
    "\n",
    "If x1, x2, … xn ~ N($\\mu,\\sigma^2$) and are independent, then ($\\bar{x}-\\mu$)/(s/$\\sqrt{n}$) is distributed as a t distribution with (n-1) degrees of freedom (df).\n",
    " \n",
    "$$t_{n-1} = \\frac {\\bar{x} - \\mu}{s/\\sqrt{n}}$$\n",
    "\n",
    "A 100%(1-$\\alpha$ ) CONFIDENCE INTERVAL (CI) for $\\mu$  is defined by the interval:\n",
    "\n",
    " \n",
    "$(\\bar{x} - t_{n-1,1_{-\\alpha/2}}s/\\sqrt{n},\\bar{x} + t_{n-1,1_{-\\alpha/2}}s/\\sqrt{n}) $\n",
    "\n",
    "Interval estimates of  \n",
    "Twenty-five samples, 95% CI\n",
    "![title](CI.png)"
   ]
  },
  {
   "cell_type": "markdown",
   "metadata": {},
   "source": [
    "That is, over all possible 95% confidence intervals that can be constructed about the  $\\bar{x}$'s, calculated from all the possible random samples of size n that can be chosen, 95% will contain the parameter   $\\mu$  Our confidence is in the process of how we constructed the interval, not the values themselves.\n",
    "\n",
    "The interval is exact when the underlying population distribution is normal; otherwise, when n is large, the interval is an approximation.  When n is small we cannot invoke the CLT and therefore cannot construct the confidence interval.\n",
    "\n",
    "Example: A 95% CI for μ where $\\bar{x}$ = 15, n = 25 and $s^2$ = 49:\n",
    "\t\n",
    "95% CI → 100(1-α) CI → α = 0.05; α/2 = 0.025 therefore want ±$t_{24, 0.975}$ = 2.064\n",
    "\n",
    "$(\\bar{x} - t_{n-1,1_{-\\alpha/2}}s/\\sqrt{n},\\bar{x} + t_{n-1,1_{-\\alpha/2}}s/\\sqrt{n}) $\n",
    "\n",
    "(15 - 2.064(7/5), 15 + 2.064(7/5))\n",
    "\n",
    "(15 - 2.8896, 15 + 2.8896)\n",
    "\n",
    "(12.11, 17.89)\n",
    "\n",
    "95% of all confidence intervals constructed from all samples of sample size 25 taken from this population will contain μ, I can only hope that I have chosen a sample in which the constructed CI does, in fact, contain μ.  I will never really know!!"
   ]
  },
  {
   "cell_type": "markdown",
   "metadata": {},
   "source": [
    "#### WHAT AFFECTS THE LENGTH OF A CONFIDENCE INTERVAL?\n",
    "\n",
    "\n",
    "n:  As the sample size increases, the length of the CI decreases.\n",
    "\n",
    "$\\alpha$   As the confidence wanted increases, the length of the CI  increases.\n",
    "\n",
    "\n",
    "I can construct an interval in which 100% of the intervals will capture μ: (-∞, ∞).  But that really does not give me any information - so it is always a tug between the amount of information the interval gives you and the number of intervals that will contain the μ.\n",
    "\n",
    "CAUTIONS: To use  $\\mp t_{n-1,1-\\alpha}\\sigma/\\sqrt{n}$ \n",
    "\n",
    "1.    Data must be an SRS from the population or can be thought of as independent observations,\n",
    "2.   If data is the result of more complex sampling, CI must be calculated from other formulae.\n",
    "3.   Nothing can be done to rescue badly produced data.\n",
    "4.\tOutliners can have a large effect on the above CI, so beware and check data.\n",
    "5.\tIf n is small and the population not close to normally distributed, the above choice is incorrect.\n",
    "must use non-parametric methods!\n"
   ]
  },
  {
   "cell_type": "markdown",
   "metadata": {},
   "source": [
    "### Lets do an example: We draw a random sample n = 100 where the average blood pressure is 130.1 mm Hg with a standard deviation of 21.21.mm Hg. We know from a prior research that the population mean is 120 mm Hg.\n",
    "\n",
    "Is the group significantly different (with respect to systolic blood pressure!) from the regular population?"
   ]
  },
  {
   "cell_type": "code",
   "execution_count": 56,
   "metadata": {},
   "outputs": [
    {
     "data": {
      "text/html": [
       "4.76190476190476"
      ],
      "text/latex": [
       "4.76190476190476"
      ],
      "text/markdown": [
       "4.76190476190476"
      ],
      "text/plain": [
       "[1] 4.761905"
      ]
     },
     "metadata": {},
     "output_type": "display_data"
    }
   ],
   "source": [
    "xbar = 130.1            # sample mean \n",
    "mu0 = 120           # hypothesized value \n",
    "s = 21.21                # sample standard deviation \n",
    "n = 100                 # sample size \n",
    "\n",
    "##Lets calculate the t critical value\n",
    "t = (xbar-mu0)/(s/sqrt(n))\n",
    "t"
   ]
  },
  {
   "cell_type": "code",
   "execution_count": 57,
   "metadata": {},
   "outputs": [
    {
     "data": {
      "text/html": [
       "<ol class=list-inline>\n",
       "\t<li>-1.98421695158642</li>\n",
       "\t<li>1.98421695158642</li>\n",
       "</ol>\n"
      ],
      "text/latex": [
       "\\begin{enumerate*}\n",
       "\\item -1.98421695158642\n",
       "\\item 1.98421695158642\n",
       "\\end{enumerate*}\n"
      ],
      "text/markdown": [
       "1. -1.98421695158642\n",
       "2. 1.98421695158642\n",
       "\n",
       "\n"
      ],
      "text/plain": [
       "[1] -1.984217  1.984217"
      ]
     },
     "metadata": {},
     "output_type": "display_data"
    }
   ],
   "source": [
    "alpha = .05\n",
    "t.half.alpha = qt(1-alpha/2, n-1)\n",
    "c(-t.half.alpha, t.half.alpha)"
   ]
  },
  {
   "cell_type": "markdown",
   "metadata": {},
   "source": [
    "The Confidence intervals for the critical values confirm that the t statistic falls outside the 95% probability."
   ]
  },
  {
   "cell_type": "code",
   "execution_count": 58,
   "metadata": {},
   "outputs": [
    {
     "data": {
      "text/html": [
       "6.56270181720863e-06"
      ],
      "text/latex": [
       "6.56270181720863e-06"
      ],
      "text/markdown": [
       "6.56270181720863e-06"
      ],
      "text/plain": [
       "[1] 6.562702e-06"
      ]
     },
     "metadata": {},
     "output_type": "display_data"
    }
   ],
   "source": [
    "pval = 2*pt(t, n-1, lower=F)\n",
    "pval"
   ]
  },
  {
   "cell_type": "markdown",
   "metadata": {},
   "source": [
    "### Let's calculate the 95% confidence interval from this data\n",
    "$(\\bar{x} - t_{n-1,1_{-\\alpha/2}}s/\\sqrt{n},\\bar{x} + t_{n-1,1_{-\\alpha/2}}s/\\sqrt{n}) $"
   ]
  },
  {
   "cell_type": "code",
   "execution_count": 59,
   "metadata": {},
   "outputs": [
    {
     "data": {
      "text/html": [
       "134.308524154315"
      ],
      "text/latex": [
       "134.308524154315"
      ],
      "text/markdown": [
       "134.308524154315"
      ],
      "text/plain": [
       "[1] 134.3085"
      ]
     },
     "metadata": {},
     "output_type": "display_data"
    },
    {
     "data": {
      "text/html": [
       "125.891475845685"
      ],
      "text/latex": [
       "125.891475845685"
      ],
      "text/markdown": [
       "125.891475845685"
      ],
      "text/plain": [
       "[1] 125.8915"
      ]
     },
     "metadata": {},
     "output_type": "display_data"
    }
   ],
   "source": [
    "(130.1+qt(1-(alpha/2),n-1)*(s/sqrt(n)))\n",
    "(130.1-qt(1-(alpha/2),n-1)*(s/sqrt(n)))"
   ]
  },
  {
   "cell_type": "markdown",
   "metadata": {},
   "source": [
    "## Normally the variance is often unknown.\n",
    "\n",
    "Point Estimation Variance\n",
    "\n",
    "The sampling distribution that describes the distribution of all the $s^2$'s is the Chi-square\n",
    "\n",
    "This $X^2$ test can be used to test if the variance of a population is equal to a specified value\n",
    "\n",
    "### Chi-Square ($\\chi^2$) Distribution:\n",
    "\n",
    "If x1, x2, …xn ~ N(0,1) and are independent, then  $\\Sigma{xi^2}$ is said to follow a chi-square distribution with n degrees of freedom, written $\\chi^2_n$\n",
    "\n",
    "![title](chi.png)\n",
    "\n",
    "The sampling distribution of $\\sigma^2$, if we assume X ~ N($\\mu, \\sigma^2$) is:\n",
    "\n",
    "$$\\chi^2_n-1 ~ \\frac{(n-1)s^2}{\\sigma^2}$$"
   ]
  },
  {
   "cell_type": "markdown",
   "metadata": {},
   "source": [
    "A 100%(1-$\\alpha$ ) CONFIDENCE INTERVAL for $\\sigma$ 2 is given by\n",
    "\n",
    "$$[(n-1)S^2/\\chi^2_{n-1,1-\\alpha/2},(n-1)S^2/\\chi^2_{n-1,\\alpha/2}]$$\n",
    "\n"
   ]
  },
  {
   "cell_type": "markdown",
   "metadata": {},
   "source": [
    "![title](t_table.png)"
   ]
  },
  {
   "cell_type": "markdown",
   "metadata": {},
   "source": [
    "![title](x2_table.png)"
   ]
  }
 ],
 "metadata": {
  "kernelspec": {
   "display_name": "R",
   "language": "R",
   "name": "ir"
  },
  "language_info": {
   "codemirror_mode": "r",
   "file_extension": ".r",
   "mimetype": "text/x-r-source",
   "name": "R",
   "pygments_lexer": "r",
   "version": "3.3.2"
  }
 },
 "nbformat": 4,
 "nbformat_minor": 2
}
