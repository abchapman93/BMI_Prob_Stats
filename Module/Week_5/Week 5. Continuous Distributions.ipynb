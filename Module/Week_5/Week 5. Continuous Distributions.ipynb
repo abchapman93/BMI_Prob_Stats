{
 "cells": [
  {
   "cell_type": "markdown",
   "metadata": {},
   "source": [
    "# Week 5. Continuous Distributions\n",
    "\n",
    "All distributions we have seen up until now refer to cases where we the set S, contains countable random variables. These were the discrete distributions. We will start working on cases where the sets S can be finite or countable infinite, the continuous distributions hence, contains an infinite interval of possible outcomes, \n",
    "\n",
    "For continuous random variables the probability that X takes on any particular value x is 0, therefore we'll need to find the probability that X falls in some interval (a, b), <br><br>\n",
    "\n",
    "![title](integral.gif)\n",
    "\n",
    "### Example of continuous random variables<br>\n",
    "\n",
    "1. Height of randomly selected corn plants <br><br>\n",
    "\n",
    "2. Volume in a randomly selected experimental pond<br><br>\n",
    "\n",
    "In this case we cannot use a PMF as there will be an infinite number of possible outcomes between any given two values, therefore we need to use a function where two constants lie between $-\\infty \\leq a \\leq b \\leq \\infty $\n",
    "\n",
    "$$P(a\\leq X \\leq b) = \\int_{a}^{b} f(x) dx $$\n",
    "\n",
    "\n",
    "\n",
    "f(x) is then a PDF (Probability Density Function) \n",
    "\n"
   ]
  },
  {
   "cell_type": "markdown",
   "metadata": {},
   "source": [
    "Properties:\n",
    "\n",
    "$\\large \\int_{-\\infty}^{\\infty} f(x) dx = 1 $  **The Area under the curve for all the Set S is 1**\n",
    "\n",
    "$\\large f(x) \\geq 0 $ **Always possitive**\n",
    "\n",
    "Note that any given value of a random variable can be larger than 1"
   ]
  },
  {
   "cell_type": "markdown",
   "metadata": {},
   "source": [
    "## For Example:\n",
    "\n",
    "Given the function\n",
    "\n",
    "#### $f(x) = 3x^2$\n",
    "\n",
    "#### Take a random variable x = 0.9, $f(0.9) = 3(0.9)^2 = 2.43 \\geq 1$\n",
    "\n",
    "In this case x is not a probability instead it is the height of the curve"
   ]
  },
  {
   "cell_type": "code",
   "execution_count": null,
   "metadata": {
    "scrolled": true
   },
   "outputs": [],
   "source": [
    "curve(3*x^2, 0,1)\n",
    "abline(v=0.9, col = \"red\")\n",
    "abline(h=2.43, col = \"red\")\n",
    "points(0.9,2.43,col = \"blue\", pch = 15)"
   ]
  },
  {
   "cell_type": "markdown",
   "metadata": {},
   "source": [
    "## Exercise:\n",
    "\n",
    "What is the probability that X falls between ½ and 1?  That is, what is P(½ < X < 1)?\n",
    "\n",
    "Lets draw first the function and get the x and y points"
   ]
  },
  {
   "cell_type": "code",
   "execution_count": null,
   "metadata": {
    "scrolled": true
   },
   "outputs": [],
   "source": [
    "curve(3*x^2, 0,1)\n",
    "##What kind of curve is this??"
   ]
  },
  {
   "cell_type": "markdown",
   "metadata": {},
   "source": [
    "when x = 0.5 then y  = 3*(0.5^2) \n",
    "\n",
    "= 0.75\n",
    "\n",
    "and when x = 1 then y = 3 * (1 ^2)\n",
    "\n",
    "= 3"
   ]
  },
  {
   "cell_type": "code",
   "execution_count": null,
   "metadata": {},
   "outputs": [],
   "source": [
    "curve(3*(x^2), 0,1)\n",
    "points(0.5,0.75,col = \"red\")\n",
    "points(1,3, col = \"red\")"
   ]
  },
  {
   "cell_type": "markdown",
   "metadata": {},
   "source": [
    "### To get the probability we need to calculate the area under the curve between these two points"
   ]
  },
  {
   "cell_type": "code",
   "execution_count": null,
   "metadata": {},
   "outputs": [],
   "source": [
    "curve(3*x^2, 0,1)\n",
    "x=seq(0.5,1,length=200)\n",
    "y=dexp(x,rate=0)\n",
    "polygon(c(0.5,x,1),c(0.75,y,3),col=\"skyblue\")\n",
    "points(0.5,0.75,col = \"red\", pch = 19)\n",
    "points(1,3, col = \"red\",pch = 19)"
   ]
  },
  {
   "cell_type": "markdown",
   "metadata": {},
   "source": [
    "To get the are under the curve we need to integrate the function using the interval as the limits of the integral\n",
    "\n",
    "$$P(0.5\\leq X \\leq 1) = \\int_{0.5}^{1} 3x^2 dx $$\n",
    "\n",
    "$$ = \\bigg[ x^3 \\bigg] _{x=0.5}^{x=1} $$\n",
    "\n",
    "$$ = (1^3) - (0.5^3) $$\n",
    "\n",
    "$$ = 1- 0.125 $$\n",
    "\n",
    "## $$ P = 0.825 $$\n",
    "\n",
    "# Let's do it the easy way"
   ]
  },
  {
   "cell_type": "code",
   "execution_count": null,
   "metadata": {},
   "outputs": [],
   "source": [
    "f_ex = function(x) {3*(x^2)} ##create the function\n",
    "integrate(f_ex,0.5,1) ##Integrate using the boundaries"
   ]
  },
  {
   "cell_type": "markdown",
   "metadata": {},
   "source": [
    "Similarly a CDF of a continuous distribution is defined as:\n",
    "\n",
    "$$F(x) = \\int_{-\\infty}^{x} f(t) dt $$\n",
    "\n",
    "$$for -\\infty < x < \\infty$$\n",
    "\n",
    "Remember that the CDF accumulates the probability until reaching 1. \n",
    "\n",
    "Looking at our previous example for our function $(3*(x)^2)$\n",
    "To calculate the CDF we use the integral of the function but our limits now go from 0 to 1\n",
    "Where P = 1 is the total area."
   ]
  },
  {
   "cell_type": "code",
   "execution_count": null,
   "metadata": {},
   "outputs": [],
   "source": [
    "curve(x^3,0,1)"
   ]
  },
  {
   "cell_type": "markdown",
   "metadata": {},
   "source": [
    "## The Uniform Distribution\n",
    "\n",
    "the PDF of a random variable X that has an Uniform distribution is:\n",
    "\n",
    "$$f(x) = \\frac {1} {b-a}$$\n",
    "\n",
    "The CDF is:\n",
    "\n",
    "$$ F(x) = \\frac {x-a}{b-a}$$\n",
    "\n",
    "where a < x < b\n",
    "\n",
    "This distribution is has a constant probability over all points of the interval"
   ]
  },
  {
   "cell_type": "code",
   "execution_count": null,
   "metadata": {},
   "outputs": [],
   "source": [
    "par(mfrow=c(1,2))\n",
    "plot(x = 0, y = 0, type = \"n\",         # Set up a blank plot\n",
    "     xlim = c(0, 1), ylim = c(0, 2),    # Define x and y range\n",
    "     xlab = \"\", ylab = \"\",main = \"PDF\")                # Turn off axis labels\n",
    "\n",
    "polygon(x = c(0, 0.4),             # Set x & y values for rectangle \n",
    "        y = c(0, 0), border = \"red\")   \n",
    "polygon(x = c(.4, 0.4),             # Set x & y values for rectangle \n",
    "        y = c(0, 1), border = \"red\")   \n",
    "polygon(x = c(.4, 0.6),             # Set x & y values for rectangle \n",
    "        y = c(1, 1), border = \"red\")   \n",
    "polygon(x = c(.6, 0.6),             # Set x & y values for rectangle \n",
    "        y = c(0,1), border = \"red\") \n",
    "polygon(x = c(.6, 1),             # Set x & y values for rectangle \n",
    "        y = c(0, 0), border = \"red\") \n",
    "\n",
    "plot(x = 0, y = 0, type = \"n\",         # Set up a blank plot\n",
    "     xlim = c(0, 1), ylim = c(0, 2),    # Define x and y range\n",
    "     xlab = \"\", ylab = \"\", main = \"CDF\")                # Turn off axis labels\n",
    "\n",
    "polygon(x = c(0, 0.4),             # Set x & y values for rectangle \n",
    "        y = c(0, 1), border = \"red\")   \n",
    "polygon(x = c(.4, 1),             # Set x & y values for rectangle \n",
    "        y = c(1, 1), border = \"red\")   "
   ]
  },
  {
   "cell_type": "markdown",
   "metadata": {},
   "source": [
    "## One of the most important applications of the uniform distribution is in the generation of random numbers. "
   ]
  },
  {
   "cell_type": "code",
   "execution_count": null,
   "metadata": {},
   "outputs": [],
   "source": [
    "runif(1,0,1) ##generates one random number taken from the uniform distribution between the range of 0 and 1"
   ]
  },
  {
   "cell_type": "markdown",
   "metadata": {},
   "source": [
    "## The Normal Distribution\n",
    "\n",
    "The most widely used model for random variables with continuous distributions is the family of normal distributions\n",
    "\n",
    "\n",
    "$$ PDF = f(x | \\mu, \\sigma^2) = \\frac {1} {\\sigma \\sqrt {2\\pi}} e^ -{\\frac {({x - \\mu })^2} {2\\sigma^2}} $$\n",
    "\n",
    "$$mean = \\mu$$\n",
    "\n",
    "$$Variance = \\sigma^2$$\n",
    "\n",
    "Because the normal distribution belongs to a family of continuous distributions where integration of the pdfs cannot be done manually (at least not practically) and thus tables of the CDF or computer programs are necessary in order to compute probabilities and quantiles\n",
    "\n",
    "\n",
    "Physicists called the Gaussian distribution, and due to its shape it is also called a bell curve"
   ]
  },
  {
   "cell_type": "code",
   "execution_count": null,
   "metadata": {
    "collapsed": true
   },
   "outputs": [],
   "source": [
    "x = seq(-4,4,length=100)\n",
    "hx = dnorm(x)\n",
    "dh = pnorm(x)"
   ]
  },
  {
   "cell_type": "code",
   "execution_count": null,
   "metadata": {},
   "outputs": [],
   "source": [
    "plot(x,hx, type = \"l\")"
   ]
  },
  {
   "cell_type": "code",
   "execution_count": null,
   "metadata": {},
   "outputs": [],
   "source": [
    "plot(x,dh, type = \"l\")"
   ]
  },
  {
   "cell_type": "markdown",
   "metadata": {},
   "source": [
    "## Problem 1\n",
    "If scores are normally distributed with a mean of 35 and a standard deviation of 10, what percent of the scores is: (a) greater than 34? (b) smaller than 42? (c) between 28 and 34?"
   ]
  },
  {
   "cell_type": "code",
   "execution_count": null,
   "metadata": {},
   "outputs": [],
   "source": [
    "#a\n"
   ]
  },
  {
   "cell_type": "code",
   "execution_count": null,
   "metadata": {
    "collapsed": true
   },
   "outputs": [],
   "source": [
    "#b"
   ]
  },
  {
   "cell_type": "code",
   "execution_count": null,
   "metadata": {
    "collapsed": true
   },
   "outputs": [],
   "source": [
    "#c"
   ]
  },
  {
   "cell_type": "markdown",
   "metadata": {},
   "source": [
    "## Problem 2\n",
    "A test is normally distributed with a mean of 70 and a standard deviation of 8. (a) What score would be needed to be in the 85th percentile? (b) What score would be needed to be in the 22nd percentile?"
   ]
  },
  {
   "cell_type": "code",
   "execution_count": null,
   "metadata": {
    "collapsed": true
   },
   "outputs": [],
   "source": [
    "#a"
   ]
  },
  {
   "cell_type": "code",
   "execution_count": null,
   "metadata": {
    "collapsed": true
   },
   "outputs": [],
   "source": [
    "#b"
   ]
  },
  {
   "cell_type": "code",
   "execution_count": null,
   "metadata": {
    "collapsed": true
   },
   "outputs": [],
   "source": [
    "##You could for fun plot one of the distributions with the percentile \n",
    "##We will not do this in class"
   ]
  },
  {
   "cell_type": "markdown",
   "metadata": {},
   "source": [
    "## Histograms\n",
    "\n",
    "As we have seen previously, histograms are useful when we want to check for normality (which is important if we want to apply some statistical tests). The histogram aims to show the center and distribution of the data\n",
    "\n",
    "To create an histogram we first create a frequency table,\n"
   ]
  },
  {
   "cell_type": "code",
   "execution_count": null,
   "metadata": {},
   "outputs": [],
   "source": [
    "x = round(rnorm(1000,0,1),1)\n"
   ]
  },
  {
   "cell_type": "code",
   "execution_count": null,
   "metadata": {},
   "outputs": [],
   "source": [
    "table(x)"
   ]
  },
  {
   "cell_type": "code",
   "execution_count": null,
   "metadata": {
    "collapsed": true
   },
   "outputs": [],
   "source": [
    "hist(x)"
   ]
  },
  {
   "cell_type": "code",
   "execution_count": null,
   "metadata": {},
   "outputs": [],
   "source": [
    "#Lets run another example let's run the dataset sparrows and select one species\n",
    "##lets plot the histogram of weights\n",
    "\n",
    "Sparrows = read.table(file = \"Sparrows.txt\", header = TRUE)\n",
    "Sparrows2 = Sparrows[Sparrows$Species == \"SSTS\",]\n",
    "hist(Sparrows2$Wt, xlab = \"Weight in grams\", main = expression(italic(\"Ammodramus caudacutus\")))"
   ]
  },
  {
   "cell_type": "markdown",
   "metadata": {},
   "source": [
    "### We can also draw multiple histograms using the lattice package"
   ]
  },
  {
   "cell_type": "code",
   "execution_count": null,
   "metadata": {},
   "outputs": [],
   "source": [
    "Sparrows2"
   ]
  },
  {
   "cell_type": "code",
   "execution_count": null,
   "metadata": {},
   "outputs": [],
   "source": [
    "library(lattice)\n",
    "histogram(~Wt|factor(Observer),\n",
    "         data = Sparrows2,\n",
    "         layout = c(1,7),\n",
    "         nint = 30,\n",
    "         xlab = \"Weight in grams\",\n",
    "         strip = FALSE,\n",
    "         strip.left = TRUE,\n",
    "         ylab = \"Frequencies\")"
   ]
  },
  {
   "cell_type": "markdown",
   "metadata": {},
   "source": [
    "## Going back to our initial example we can change the size of the bins to make it more define as a continuous distribution"
   ]
  },
  {
   "cell_type": "code",
   "execution_count": null,
   "metadata": {},
   "outputs": [],
   "source": [
    "hist(x, breaks = 40)"
   ]
  },
  {
   "cell_type": "code",
   "execution_count": null,
   "metadata": {},
   "outputs": [],
   "source": [
    "hist(x, breaks = 400) ##but we loose resolution"
   ]
  },
  {
   "cell_type": "markdown",
   "metadata": {},
   "source": [
    "#### However, with this shape, it is still a little difficult to assess whether the raw data follows a normal distribution. Ir order to solve this problem we can use Kernel Density Curves"
   ]
  },
  {
   "cell_type": "markdown",
   "metadata": {},
   "source": [
    "## Kernel Density Curves\n",
    "\n",
    "A kernel density is a non-parametric way to calculate an empirical PDF of a random variable X, it uses a basic smooting parameter that affects the shape of the curves.\n",
    "\n",
    "As explained by Leno and Zuur 2015, a kernel defines small functions that are added up as a smoothing function. "
   ]
  },
  {
   "cell_type": "code",
   "execution_count": null,
   "metadata": {
    "collapsed": true
   },
   "outputs": [],
   "source": [
    "d = density(Sparrows$Wt)"
   ]
  },
  {
   "cell_type": "code",
   "execution_count": null,
   "metadata": {},
   "outputs": [],
   "source": [
    "plot(d)"
   ]
  },
  {
   "cell_type": "code",
   "execution_count": null,
   "metadata": {},
   "outputs": [],
   "source": [
    "Sparrows$fSpecies <- factor(Sparrows$Species,\n",
    "                            levels = c(\"SESP\",\"SSTS\"),\n",
    "                            labels = c(\"A.maritimus\",\n",
    "                                       \"A.caudacutus\"))\n",
    "                                  \n",
    "par(mar = c(5,5,2,2), cex.lab = 1.5)\n",
    "\n",
    "\n",
    "plot(d,\n",
    "     xlab = \"Weights (in grams)\",\n",
    "     cex.lab = 1.5,\n",
    "     cex.main = 1.5,\n",
    "     main = \"\",\n",
    "     xlim = c(15,28),\n",
    "     ylim = c(0, 0.35),\n",
    "     lwd = 5)\n",
    "\n",
    "d1 <- density(Sparrows$Wt[Sparrows$fSpecies == \"A.maritimus\"])\n",
    "d2 <- density(Sparrows$Wt[Sparrows$fSpecies == \"A.caudacutus\"])\n",
    "\n",
    "lines(d1, lty = 2, lwd = 2)\n",
    "lines(d2, lty = 3, lwd = 2)\n",
    "\n",
    "legend(\"topright\",\n",
    "        legend = expression(\"Both Species\",\n",
    "                        italic(\"A. maritimus\"),\n",
    "                        italic(\"A. caudacutus\")),\n",
    "        lty = c(1, 2, 3),\n",
    "        lwd = c(5, 2, 2))"
   ]
  },
  {
   "cell_type": "markdown",
   "metadata": {},
   "source": [
    "### How does the smoothing function works?\n",
    "\n",
    "#### In the density function the smoothing parameter is called bw (bandwith) it ranges from 0 to 1 "
   ]
  },
  {
   "cell_type": "code",
   "execution_count": null,
   "metadata": {},
   "outputs": [],
   "source": [
    "d_ex = density(x, bw = 0.01)\n",
    "plot(d_ex)"
   ]
  },
  {
   "cell_type": "code",
   "execution_count": null,
   "metadata": {},
   "outputs": [],
   "source": [
    "bw_ex = c(0.1,0.5,1)\n",
    "col2 = c(\"red\",\"blue\",\"forestgreen\")\n",
    "plot(d_ex)\n",
    "for (i in 1:3){\n",
    "    d_ex = density(x, bw = bw_ex[i])\n",
    "    lines(d_ex, col = col2[i])\n",
    "}"
   ]
  },
  {
   "cell_type": "markdown",
   "metadata": {},
   "source": [
    "## Another way to graph the distribution of a continuous variables is using a quantile-quantile plot (Q-Q plot)\n",
    "\n",
    "### Q-Q plots\n",
    "\n",
    "The basic idea is to plot the quantiles distributions of two variables against each other. We then draw a straight line and if the plots approximately fall within the boundaries of the line then we can infer that the distributions are similar.\n",
    "\n",
    "We can plot the quantiles from the raw data against any distribution quantiles and check for similitudes of the distributions.\n",
    "\n",
    "Following our initial example"
   ]
  },
  {
   "cell_type": "code",
   "execution_count": null,
   "metadata": {},
   "outputs": [],
   "source": [
    "qqnorm(x)\n",
    "qqline(x)"
   ]
  },
  {
   "cell_type": "markdown",
   "metadata": {},
   "source": [
    "### In the sparrow example, we can also compare the distribution of weights for the two species using the Q-Q plots using the package lattice"
   ]
  },
  {
   "cell_type": "code",
   "execution_count": null,
   "metadata": {},
   "outputs": [],
   "source": [
    "qqmath (~Wt|fSpecies,\n",
    "        data = Sparrows,\n",
    "        cex = 1, col = 1,\n",
    "        ylab = list(\"Weight (in grams)\", cex.lab = 1.5),\n",
    "        xlab = list(\"Theoretical Quantiles\", cex.lab = 1.5),\n",
    "       prepanel = prepanel.qqmathline,\n",
    "       panel = function(x, ...) {\n",
    "          panel.qqmathline(x, ...)\n",
    "          panel.qqmath(x, ...)\n",
    "       })"
   ]
  },
  {
   "cell_type": "code",
   "execution_count": null,
   "metadata": {
    "collapsed": true
   },
   "outputs": [],
   "source": []
  }
 ],
 "metadata": {
  "kernelspec": {
   "display_name": "R",
   "language": "R",
   "name": "ir"
  },
  "language_info": {
   "codemirror_mode": "r",
   "file_extension": ".r",
   "mimetype": "text/x-r-source",
   "name": "R",
   "pygments_lexer": "r",
   "version": "3.3.2"
  }
 },
 "nbformat": 4,
 "nbformat_minor": 2
}
