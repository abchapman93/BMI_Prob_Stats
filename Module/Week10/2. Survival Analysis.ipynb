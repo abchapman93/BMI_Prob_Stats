{
 "cells": [
  {
   "cell_type": "markdown",
   "metadata": {},
   "source": [
    "# 2. Survival Analysis\n",
    "\n",
    "Reference: Hosmer, Lemeshow and May **Applied Survival Analysis**"
   ]
  },
  {
   "cell_type": "markdown",
   "metadata": {},
   "source": [
    "Up to this point, we focused on the analysis of continuous and dichotomous outcomes\n",
    "\n",
    "– For continuous outcomes, we compared groups using a t-test and we completed more advanced analyses using linear regression\n",
    "\n",
    "– For dichotomous outcomes, we compared groups using a χ2-test and we completed more advanced analyses using logistic regression\n",
    "\n",
    "Another common outcome in health research is a time to event or survival outcome"
   ]
  },
  {
   "cell_type": "markdown",
   "metadata": {},
   "source": [
    "##### Survival analysis was originally developed to analyze clinical studies of who survived longer\n",
    "\n",
    "Although the original goal was to describe survival, the approaches can be applied to any time to event outcome\n",
    "- Time to recurrence of cancer\n",
    "- Time to hospital discharge"
   ]
  },
  {
   "cell_type": "markdown",
   "metadata": {},
   "source": [
    "###### Time to event\n",
    "\n",
    "In order to determine a time to event for each patient, we must know\n",
    "\n",
    "- When the follow-up of the subject begins (time origin)\n",
    "- When the patient begins to be at risk for the event of interest\n",
    "- When the subject has had the event (event definition)\n",
    "- Appropriate measure of time (time scale)\n",
    "\n",
    "Although these sound easy to define, eeach are critical to complete a survival analysis"
   ]
  },
  {
   "cell_type": "markdown",
   "metadata": {},
   "source": [
    "##### Example\n",
    "\n",
    "An important marker of disease activity in MS is the occurrence of a relapse. This is the presence of new symptoms that lasts for at least 24 hours\n",
    "\n",
    "A recent study investigated the effect of genetic factors on the time to next relapse in relapsing-remitting MS patients\n",
    "\n",
    "Scientific questions: What is the distribution of survival times (i.e. time to relapse)? Does the genotype change the time to relapse?"
   ]
  },
  {
   "cell_type": "markdown",
   "metadata": {},
   "source": [
    "##### Time origin\n",
    "\n",
    "For the analysis of genetic effects on the time to next relapse while on a treatment, the time origin is 6 months after the beginning of the treatment"
   ]
  },
  {
   "cell_type": "markdown",
   "metadata": {},
   "source": [
    "Time to event distribution in RRMS patients at Partners MS Center\n",
    "\n",
    "Time origin was 6 months after the beginning of a specific treatment\n",
    "\n",
    "The analysis time is the number of weeks\n",
    "\n",
    "![title](KM_curve.png)"
   ]
  },
  {
   "cell_type": "markdown",
   "metadata": {},
   "source": [
    "Failure distribution\n",
    "\n",
    "An alternative way to describe the time to event is to show the failure distribution, which shows how many people have had the event\n",
    "\n",
    "![title](CDF_Failure.png)"
   ]
  },
  {
   "cell_type": "markdown",
   "metadata": {},
   "source": [
    "##### What makes time to event data special?\n",
    "\n",
    "If every subject was (1) observed from the moment they were at risk and (2) every subject had the event, the time to event is just a type of continuous outcome\n",
    "\n",
    "Since the distribution is likely not normal, a t-test might not be appropriate, but a Wilcoxon test or other approaches could be used\n",
    "\n",
    "\n",
    "Unfortunately, one or both of the conditions above often do not hold in clinical studies"
   ]
  },
  {
   "cell_type": "markdown",
   "metadata": {},
   "source": [
    "### Censoring\n",
    "\n",
    "When we do not observe a patient's survival time but we know incomplete information about the survival time, we call the survival time censored\n",
    "\n",
    "##### Three forms of censoring\n",
    "\n",
    "- Right censoring-We know the event occurred after a specific date\n",
    "- Left censoring-We know the event occurred before a specific date\n",
    "- Interval censoring-We know the event occurred between two dates"
   ]
  },
  {
   "cell_type": "markdown",
   "metadata": {},
   "source": [
    "### Right censoring\n",
    "\n",
    "Right censoring occurs when subjects are observed for a specific amount of time, but the event does not occur\n",
    "\n",
    "\n",
    "Right censoring is the most common form of censoring in health research\n",
    "\n",
    "- It is also the easiest to handle because the most forms of survival analysis directly handle uninformative right censoring\n",
    "\n",
    "![title](Rigth_cen.png)"
   ]
  },
  {
   "cell_type": "markdown",
   "metadata": {},
   "source": [
    "#### Quantities of interest\n",
    "\n",
    "**For a continuous outcome**, we are usually interested in measures of location\n",
    "\n",
    "- Primary outcome measure: Mean or Median\n",
    "\n",
    "- Difference in means can be used to compare groups\n",
    "\n",
    "Usually we assume the data come from a normal distribution, which is defined by mean (μ) and standard deviation (σ)\n",
    "\n",
    "\n",
    "**With a dichotomous outcome**\n",
    "\n",
    "\n",
    "- Primary outcome measure: Proportion\n",
    "\n",
    "- Risk difference, relative risk, odds ratio can be used to compare groups\n",
    "\n",
    "Usually we assume the data come from a binomial distribution, which is defined by the proportion (p)"
   ]
  },
  {
   "cell_type": "markdown",
   "metadata": {},
   "source": [
    "#### Survival and hazard function: In survival analysis, our goal is to estimate several quantities\n",
    "\n",
    "Survival function: The probability of surviving longer than a specific time\n",
    "\n",
    "- S(t)=𝑃(𝑇>𝑡)\n",
    "\n",
    "- $S(t)=1-Ft=1−𝑃(T \\leq t)$\n",
    "\n",
    "\n",
    "Hazard function: The risk of having the event in the next interval conditional on surviving to the beginning of the interval\n",
    "\n",
    "- h(t) "
   ]
  },
  {
   "cell_type": "markdown",
   "metadata": {},
   "source": [
    "### Relationship between survival and hazard\n",
    "\n",
    "The survival function and the hazard function are related to each other through the cumulative hazard\n",
    "\n",
    "\n",
    "H(t) = -log(S(t))\n",
    "\n",
    "The cumulative hazard is equal to the negative log of the survival\n",
    "\n",
    "h(t) = $\\frac {dH(t)}{dt}$\n",
    "\n",
    "Hazard is the derivative of the cumulative hazard\n",
    "\n",
    "h(t) = $\\frac {f(t)}{s(t)}$\n",
    "Hazard and survival function are directly related to each other as well"
   ]
  },
  {
   "cell_type": "markdown",
   "metadata": {},
   "source": [
    "#### Parametric survival distributions\n",
    "\n",
    "Since time to event data is not normally distributed because it is only positive, alternative parametric distributions can be used\n",
    "\n",
    "- Exponential\n",
    "\n",
    "Assumes constant hazard\n",
    "\n",
    "- Weibull\n",
    "\n",
    "Adds a second parameter to the exponential\n",
    "\n",
    "\n",
    "- For parametric distributions, we estimate the parameters since these define the survival distribution"
   ]
  },
  {
   "cell_type": "markdown",
   "metadata": {},
   "source": [
    "Hazard and survival curves\n",
    "•\n",
    "For an exponential distribution the hazard and survival curve look like this\n",
    "\n",
    "![title](Haz_surv.png)"
   ]
  },
  {
   "cell_type": "markdown",
   "metadata": {},
   "source": [
    "#### Parametric analysis of survival times is sometimes used\n",
    "\n",
    "Known distribution of survival times: Some survival times are known to follow specific distributions and using the known distribution can improve the analysis\n",
    "\n",
    "- Complex censoring pattern: In the presence of left or interval censoring, parametric analysis may be only option\n",
    "\n",
    "- In addition to the survival distribution, we often report the median survival time as the main summary statistic\n",
    "\n",
    "- Since survival distributions are usually skewed, median is preferred to the mean"
   ]
  },
  {
   "cell_type": "markdown",
   "metadata": {},
   "source": [
    "### Kaplan-Meier curve\n",
    "\n",
    "Nonparametric survival\n",
    "\n",
    "Although sometimes we use the common survival distributions, a more general technique is to estimate the survival distribution nonparametrically\n",
    "\n",
    "Three things to estimate\n",
    "\n",
    "- Kaplan-Meier survival curve\n",
    "- Nelson-Aalen cumulative hazard curve\n",
    "- Smoothed hazard function"
   ]
  },
  {
   "cell_type": "markdown",
   "metadata": {},
   "source": [
    "#### Example\n",
    "\n",
    "As described previously, our focus will be the time to next relapse while on treatment for RRMS patients\n",
    "\n",
    "\n",
    "Initially, we will focus on a small subgroup of patients for simplicity, but the same approach is followed for larger datasets\n",
    "\n",
    "\n",
    "When there are multiple groups (i.e. different genotypes), we will use the same technique for each genotype"
   ]
  },
  {
   "cell_type": "markdown",
   "metadata": {},
   "source": [
    "Dataset\n",
    "\n",
    "For simplicity, let’s focus on 8 patients whose time to relapse is provided here\n",
    "\n",
    "We assume that no one is censored initially\n",
    "\n",
    "We would like to estimate S(t) using Kaplan-Meier method\n",
    "\n",
    "![title](MS_ex.png)"
   ]
  },
  {
   "cell_type": "markdown",
   "metadata": {},
   "source": [
    "Estimating survival curve\n",
    "\n",
    "To estimate the survival curve, we first order the event times (t1,t2,t3,…,tj)\n",
    "\n",
    "Then, we estimate the hazard at each time as\n",
    "\n",
    "If event: \n",
    "\n",
    "$ \\hat {h}(t_j) = \\frac {No.\\ events}{No.\\ at\\ risk} = \\frac {n_j}{r_j} $\n",
    "\n",
    "\n",
    "If no event: $ \\hat {h} = 0$\n",
    "\n",
    "To calculate estimated survival function at a specific time, we use:\n",
    "\n",
    "$\\large \\hat {S}(t) = \\prod_{j}{^{t<t_j}}(1- \\frac {n_j}{r_j}) \\large$"
   ]
  },
  {
   "cell_type": "markdown",
   "metadata": {},
   "source": [
    "Estimating survival curve\n",
    "\n",
    "![title](surv_curve.png)\n",
    "\n",
    "![title](KM_curve2.png)"
   ]
  },
  {
   "cell_type": "markdown",
   "metadata": {},
   "source": [
    "Survival curve is flat when there is not event. This corresponds to the fact that the hazard of an event=0\n",
    "Drops occur at the observed event times only\n",
    "Size of drop depends on number of events\n",
    "We can also construct confidence intervals\n"
   ]
  },
  {
   "cell_type": "markdown",
   "metadata": {},
   "source": [
    "Example-censoring\n",
    "\n",
    "As we have described, often patients are right censored and leave the risk set rather than having the event\n",
    "\n",
    "- To account for this, we must include another variable called a censoring or failure indicator\n",
    "\n",
    "- Calculation of KM curve is basically unchanged\n",
    "\n",
    "![title](Censoring.png)"
   ]
  },
  {
   "cell_type": "markdown",
   "metadata": {},
   "source": [
    "Estimating survival curve\n",
    "![title](Cen_table.png)\n",
    "Note that the hazard of an event is 0 for censoring times\n",
    "Censored patient leaves the risk set so they are no longer at risk\n",
    "\n",
    "![title](KM_cen_fig.png)"
   ]
  },
  {
   "cell_type": "markdown",
   "metadata": {},
   "source": [
    "### Comparison of survival curves\n",
    "\n",
    "The Kaplan-Meier curve provides a description of the distribution of survival times\n",
    "\n",
    "Another important aspect of survival analysis is the comparison of survival curves\n",
    "\n",
    "\n",
    "Null hypothesis: S1(t)=S2(t)\n",
    "\n",
    "Methods:\n",
    "\n",
    "- Log-rank test-most common"
   ]
  },
  {
   "cell_type": "markdown",
   "metadata": {},
   "source": [
    "### Example\n",
    "\n",
    "In our dataset, all patients had data on a specific single nucleotide polymorphism (SNP)\n",
    "\n",
    "\n",
    "For this analysis, patients will be classified as not having the SNP (SNP=0) or having at least one copy of the SNP (SNP=1)\n",
    "\n",
    "##### Question: Is there an effect of the SNP on the survival distribution\n",
    "\n",
    "![title](logrank_curve.png)\n",
    "\n",
    "From looking at this graph, it does not seem that there is much difference, but the KM curve for the SNP group is generally lower\n",
    "Is the difference statistically significant?"
   ]
  },
  {
   "cell_type": "markdown",
   "metadata": {},
   "source": [
    "####Comparing the groups\n",
    "\n",
    "One way to think about the comparison of two groups is to construct a 2x2 table at each event time"
   ]
  },
  {
   "cell_type": "markdown",
   "metadata": {},
   "source": [
    "#### Testing for an association\n",
    "\n",
    "There are two components that we must consider to see if there is an effect of SNP on the event\n",
    "\n",
    "- Within each table, is there an association between SNP and event?\n",
    "- Is the observed table different from what we expect?\n",
    "\n",
    "χ2 test\n",
    "\n",
    "- How do we combine the information across the tables?\n",
    "\n",
    "Mantel-Haenszel Q (test) which has a chi-square distribution with one degree of freedom"
   ]
  },
  {
   "cell_type": "markdown",
   "metadata": {},
   "source": [
    "Hypothesis test\n",
    "1. H0: S1(t)=S2(t)\n",
    "2. Time to event outcome, dichotomous predictor\n",
    "3. Log rank test\n",
    "4. Test statistic: χ2=0.22\n",
    "5. p-value=0.64\n",
    "6. Since the p-value is more than 0.05, we fail to reject the null hypothesis\n",
    "7. We conclude that there is no significant difference in the survival time between the two groups"
   ]
  },
  {
   "cell_type": "markdown",
   "metadata": {},
   "source": [
    "## Cox proportional hazards regression models\n",
    "\n",
    "The natural extension is to assess the effect of continuous covariates and more complex models on the survival time distribution\n",
    "\n",
    "\n",
    "Just as linear regression and logistic regression extended the t-test and χ2 test, we would like a version of regression for survival"
   ]
  },
  {
   "cell_type": "markdown",
   "metadata": {},
   "source": [
    "Regression for time to event outcomes\n",
    "\n",
    "- Linear and logistic regression are not appropriate for time to event outcomes\n",
    "\n",
    "- Linear regression assumes residuals are normally distributed and time to event outcomes rarely have this distribution\n",
    "\n",
    "- Logistic regression would be appropriate for survival at a specific time point only\n",
    "\n",
    "- Neither of these approaches handle censoring"
   ]
  },
  {
   "cell_type": "markdown",
   "metadata": {},
   "source": [
    "The Cox proportional hazards model\n",
    "\n",
    "Model the hazard as opposd to the survival time\n",
    "\n",
    "$$\\large h_i(t) = h_o(t)e ^{\\beta_1*x_1+\\beta_2*x_2+...+\\beta_n*x_n}\\large$$\n",
    "\n",
    "- h0(t) is the baseline hazard. This acts like the intercept term in other forms of regression\n",
    "- eβ1*x is the change in the hazard due to the predictor\n",
    "- Note that x1 changes the hazard by multiplication, which means"
   ]
  },
  {
   "cell_type": "markdown",
   "metadata": {},
   "source": [
    "We Will now follow a tutorial for survival analysis in R presented in: [https://rviews.rstudio.com/2017/09/25/survival-analysis-with-r/](https://rviews.rstudio.com/2017/09/25/survival-analysis-with-r/)"
   ]
  },
  {
   "cell_type": "code",
   "execution_count": null,
   "metadata": {},
   "outputs": [],
   "source": [
    "#install.packages(\"ggfortify\")\n",
    "#install.packages(\"ranger\")##Used for Random Forest Analysis\n",
    "#install.packages(\"survival\")\n",
    "#library(ranger)\n",
    "library(survival)\n",
    "library(ggplot2)\n",
    "library(dplyr)\n",
    "library(ggfortify)\n"
   ]
  },
  {
   "cell_type": "code",
   "execution_count": null,
   "metadata": {},
   "outputs": [],
   "source": [
    "#veteran containas data from a two-treatment, \n",
    "#randomized trial for lung cancer.\n",
    "data(veteran)\n",
    "head(veteran)"
   ]
  },
  {
   "cell_type": "markdown",
   "metadata": {},
   "source": [
    "The variables in veteran are: * trt: 1=standard 2=test * celltype: 1=squamous, 2=small cell, 3=adeno, 4=large * time: survival time in days * status: censoring status * karno: Karnofsky performance score (100=good) * diagtime: months from diagnosis to randomization * age: in years * prior: prior therapy 0=no, 10=yes"
   ]
  },
  {
   "cell_type": "markdown",
   "metadata": {},
   "source": [
    "The first thing to do is to use Surv() to build the standard survival object. \n",
    "\n",
    "The variable time records survival time; status indicates whether the patient’s death was observed (status = 1) or that survival time was censored (status = 0). \n",
    "\n",
    "Note that a “+” after the time in the print out of km indicates censoring."
   ]
  },
  {
   "cell_type": "code",
   "execution_count": null,
   "metadata": {},
   "outputs": [],
   "source": [
    "km <- with(veteran, Surv(time, status))\n",
    "head(km,80)"
   ]
  },
  {
   "cell_type": "code",
   "execution_count": null,
   "metadata": {},
   "outputs": [],
   "source": [
    "#Probability of survival over time \n",
    "km_fit <- survfit(Surv(time, status) ~ 1, data=veteran)\n",
    "summary(km_fit, times = c(1,30,60,90*(1:10)))"
   ]
  },
  {
   "cell_type": "code",
   "execution_count": null,
   "metadata": {},
   "outputs": [],
   "source": [
    "#plot(km_fit, xlab=\"Days\", main = 'Kaplan Meyer Plot') #base graphics is always ready\n",
    "autoplot(km_fit)"
   ]
  },
  {
   "cell_type": "markdown",
   "metadata": {},
   "source": [
    "Next, we look at survival curves by treatment."
   ]
  },
  {
   "cell_type": "code",
   "execution_count": null,
   "metadata": {},
   "outputs": [],
   "source": [
    "km_trt_fit <- survfit(Surv(time, status) ~ trt, data=veteran)\n",
    "autoplot(km_trt_fit)"
   ]
  },
  {
   "cell_type": "code",
   "execution_count": null,
   "metadata": {},
   "outputs": [],
   "source": [
    "survdiff(Surv(time, status) ~ trt, data=veteran)"
   ]
  },
  {
   "cell_type": "markdown",
   "metadata": {},
   "source": [
    "And, to show one more small exploratory plot, we can rearrange the data to look at survival by age. \n",
    "\n",
    "First, create a new data frame with a categorical variable AG that has values LT60 and GT60, which respectively describe veterans younger and older than sixty. \n",
    "\n",
    "then we make trt and prior into factor variables. "
   ]
  },
  {
   "cell_type": "code",
   "execution_count": null,
   "metadata": {},
   "outputs": [],
   "source": [
    "vet <- mutate(veteran, AG = ifelse((age < 60), \"LT60\", \"OV60\"),\n",
    "              AG = factor(AG),\n",
    "              trt = factor(trt,labels=c(\"standard\",\"test\")),\n",
    "              prior = factor(prior,labels=c(\"N0\",\"Yes\")))\n",
    "\n",
    "km_AG_fit <- survfit(Surv(time, status) ~ AG, data=vet)\n",
    "autoplot(km_AG_fit)"
   ]
  },
  {
   "cell_type": "code",
   "execution_count": null,
   "metadata": {},
   "outputs": [],
   "source": [
    "survdiff(Surv(time, status) ~  AG, data=vet)"
   ]
  },
  {
   "cell_type": "markdown",
   "metadata": {},
   "source": [
    "## Cox Proportional Hazards Model\n",
    "\n",
    "Next, I’ll fit a Cox Proportional Hazards Model that makes use of all of the covariates in the data set."
   ]
  },
  {
   "cell_type": "code",
   "execution_count": null,
   "metadata": {},
   "outputs": [],
   "source": [
    "cox <- coxph(Surv(time, status) ~ trt + celltype + karno                   + diagtime + age + prior , data = vet)\n",
    "summary(cox)"
   ]
  },
  {
   "cell_type": "code",
   "execution_count": null,
   "metadata": {},
   "outputs": [],
   "source": [
    "cox_fit <- survfit(cox)\n",
    "#plot(cox_fit, main = \"cph model\", xlab=\"Days\")\n",
    "autoplot(cox_fit)"
   ]
  },
  {
   "cell_type": "code",
   "execution_count": null,
   "metadata": {},
   "outputs": [],
   "source": [
    "aa_fit <-aareg(Surv(time, status) ~ trt + celltype +\n",
    "                 karno + diagtime + age + prior , \n",
    "                 data = vet)\n",
    "aa_fit"
   ]
  },
  {
   "cell_type": "code",
   "execution_count": null,
   "metadata": {},
   "outputs": [],
   "source": [
    "autoplot(aa_fit)"
   ]
  },
  {
   "cell_type": "markdown",
   "metadata": {},
   "source": [
    "The plots show how the effects of the covariates change over time. Notice the steep slope and then abrupt change in slope of karno.\n",
    "\n",
    "[https://rviews.rstudio.com/2017/09/25/survival-analysis-with-r/](https://rviews.rstudio.com/2017/09/25/survival-analysis-with-r/)"
   ]
  },
  {
   "cell_type": "code",
   "execution_count": null,
   "metadata": {
    "collapsed": true
   },
   "outputs": [],
   "source": []
  }
 ],
 "metadata": {
  "kernelspec": {
   "display_name": "R",
   "language": "R",
   "name": "ir"
  },
  "language_info": {
   "codemirror_mode": "r",
   "file_extension": ".r",
   "mimetype": "text/x-r-source",
   "name": "R",
   "pygments_lexer": "r",
   "version": "3.3.2"
  }
 },
 "nbformat": 4,
 "nbformat_minor": 2
}
