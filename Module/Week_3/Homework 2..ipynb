{
 "cells": [
  {
   "cell_type": "code",
   "execution_count": 24,
   "metadata": {},
   "outputs": [
    {
     "name": "stderr",
     "output_type": "stream",
     "text": [
      "\n",
      "Attaching package: ‘tidyr’\n",
      "\n",
      "The following object is masked from ‘package:reshape2’:\n",
      "\n",
      "    smiths\n",
      "\n"
     ]
    }
   ],
   "source": [
    "library(dplyr)\n",
    "library(reshape2)\n",
    "library(knitr)\n",
    "library(tidyr)"
   ]
  },
  {
   "cell_type": "markdown",
   "metadata": {},
   "source": [
    "## Homework 2"
   ]
  },
  {
   "cell_type": "markdown",
   "metadata": {},
   "source": [
    "### 1. Generate a tree graph that represents flipping a coin 4 times,  let A be the event “the first outcome is tails” , B the event “ the second outcome is head” and C the event “the third outcome is tails” calculate \n",
    "\n",
    "p(AUBUC) = P (A U B U C) = P(A) + P(B) + P(C) - P(A ∩ B) - P(A ∩ C) - P(B ∩ C) + P(A ∩ B ∩ C)\n",
    "\n",
    "**Note**: Couldn't get `igraph` to work on JupyterHub. Did in R Studio instead."
   ]
  },
  {
   "cell_type": "code",
   "execution_count": null,
   "metadata": {},
   "outputs": [],
   "source": [
    "#p(AUBUC) = P (A U B U C) = P(A) + P(B) + P(C) - P(A ∩ B) - P(A ∩ C) - P(B ∩ C) + P(A ∩ B ∩ C)\n",
    "prob <- .5 + 0.5 + 0.5 - 0.5**2 - 0.5** 2 - 0.5**2 - 0.5**3\n",
    "prob"
   ]
  },
  {
   "cell_type": "markdown",
   "metadata": {},
   "source": [
    "![Decision Tree](./DecisionTree.png)"
   ]
  },
  {
   "cell_type": "code",
   "execution_count": null,
   "metadata": {},
   "outputs": [],
   "source": [
    "g <- graph.tree(n = 2^5 - 1, children = 2) \n",
    "\n",
    "n_l = c(\"H\",\"T\")\n",
    "node_labels <- c(\"\",replicate(15,n_l))\n",
    "\n",
    "edge_labels <- c(\"1/2\")\n",
    "edge_label2 = replicate(30,edge_labels)\n",
    "\n",
    "\n",
    "V(g)$color <- \"#8bc4a9\"\n",
    "\n",
    "coords <- layout_(g, as_tree())\n",
    "coord2 = matrix(c(-coords[,2],-coords[,1]),ncol = 2)\n",
    "\n",
    "plot(g,\n",
    "     layout = coord2,           # draw graph as tree\n",
    "     vertex.size = 20,                  # node size\n",
    "     vertex.color = V(g)$color,          # node color\n",
    "     vertex.label = node_labels,        # node labels\n",
    "     vertex.label.cex = 1,             # node label size\n",
    "     vertex.label.family = \"Helvetica\", # node label family\n",
    "     vertex.label.font = 2,             # node label type (bold)\n",
    "     vertex.label.color = '#000000',    # node label size\n",
    "     edge.label = edge_label2,          # edge labels\n",
    "     edge.label.cex = .7,               # edge label size\n",
    "     edge.label.family = \"Helvetica\",   # edge label family\n",
    "     edge.label.font = 1,               # edge label font type (bold)\n",
    "     edge.label.color = '#000000',      # edge label color\n",
    "     edge.arrow.size = 0.2,              # arrow size\n",
    "     edge.arrow.width = 1              # arrow width\n",
    ")"
   ]
  },
  {
   "cell_type": "markdown",
   "metadata": {},
   "source": [
    "### 2. From the Dataset Diabetes, construct contingency tables for the following variable combinations:\n",
    "\n",
    "A: location Vs gender\n",
    "B: Gender Vs frame\n",
    "C: Gender Vs Age (Convert age to an discrete ordinal variable with three categories)\n",
    "D: Cholesterol Vs Age (Convert age and cholesterol to an discrete ordinal variable with three categories)\n",
    "\n",
    "calculate the joint and marginal probabilities, and from the above contingency tables choose 5 conditional probability examples with the probabilities calculations and one or two sentences explaining the results."
   ]
  },
  {
   "cell_type": "code",
   "execution_count": 2,
   "metadata": {},
   "outputs": [
    {
     "data": {
      "text/html": [
       "<table>\n",
       "<thead><tr><th scope=col>id</th><th scope=col>chol</th><th scope=col>stab.glu</th><th scope=col>hdl</th><th scope=col>ratio</th><th scope=col>glyhb</th><th scope=col>location</th><th scope=col>age</th><th scope=col>gender</th><th scope=col>height</th><th scope=col>weight</th><th scope=col>frame</th><th scope=col>bp.1s</th><th scope=col>bp.1d</th><th scope=col>bp.2s</th><th scope=col>bp.2d</th><th scope=col>waist</th><th scope=col>hip</th><th scope=col>time.ppn</th></tr></thead>\n",
       "<tbody>\n",
       "\t<tr><td>1000      </td><td>203       </td><td>82        </td><td>56        </td><td>3.6       </td><td>4.31      </td><td>Buckingham</td><td>46        </td><td>female    </td><td>62        </td><td>121       </td><td>medium    </td><td>118       </td><td>59        </td><td> NA       </td><td>NA        </td><td>29        </td><td>38        </td><td>720       </td></tr>\n",
       "\t<tr><td>1001      </td><td>165       </td><td>97        </td><td>24        </td><td>6.9       </td><td>4.44      </td><td>Buckingham</td><td>29        </td><td>female    </td><td>64        </td><td>218       </td><td>large     </td><td>112       </td><td>68        </td><td> NA       </td><td>NA        </td><td>46        </td><td>48        </td><td>360       </td></tr>\n",
       "\t<tr><td>1002      </td><td>228       </td><td>92        </td><td>37        </td><td>6.2       </td><td>4.64      </td><td>Buckingham</td><td>58        </td><td>female    </td><td>61        </td><td>256       </td><td>large     </td><td>190       </td><td>92        </td><td>185       </td><td>92        </td><td>49        </td><td>57        </td><td>180       </td></tr>\n",
       "\t<tr><td>1003      </td><td> 78       </td><td>93        </td><td>12        </td><td>6.5       </td><td>4.63      </td><td>Buckingham</td><td>67        </td><td>male      </td><td>67        </td><td>119       </td><td>large     </td><td>110       </td><td>50        </td><td> NA       </td><td>NA        </td><td>33        </td><td>38        </td><td>480       </td></tr>\n",
       "\t<tr><td>1005      </td><td>249       </td><td>90        </td><td>28        </td><td>8.9       </td><td>7.72      </td><td>Buckingham</td><td>64        </td><td>male      </td><td>68        </td><td>183       </td><td>medium    </td><td>138       </td><td>80        </td><td> NA       </td><td>NA        </td><td>44        </td><td>41        </td><td>300       </td></tr>\n",
       "\t<tr><td>1008      </td><td>248       </td><td>94        </td><td>69        </td><td>3.6       </td><td>4.81      </td><td>Buckingham</td><td>34        </td><td>male      </td><td>71        </td><td>190       </td><td>large     </td><td>132       </td><td>86        </td><td> NA       </td><td>NA        </td><td>36        </td><td>42        </td><td>195       </td></tr>\n",
       "</tbody>\n",
       "</table>\n"
      ],
      "text/latex": [
       "\\begin{tabular}{r|lllllllllllllllllll}\n",
       " id & chol & stab.glu & hdl & ratio & glyhb & location & age & gender & height & weight & frame & bp.1s & bp.1d & bp.2s & bp.2d & waist & hip & time.ppn\\\\\n",
       "\\hline\n",
       "\t 1000       & 203        & 82         & 56         & 3.6        & 4.31       & Buckingham & 46         & female     & 62         & 121        & medium     & 118        & 59         &  NA        & NA         & 29         & 38         & 720       \\\\\n",
       "\t 1001       & 165        & 97         & 24         & 6.9        & 4.44       & Buckingham & 29         & female     & 64         & 218        & large      & 112        & 68         &  NA        & NA         & 46         & 48         & 360       \\\\\n",
       "\t 1002       & 228        & 92         & 37         & 6.2        & 4.64       & Buckingham & 58         & female     & 61         & 256        & large      & 190        & 92         & 185        & 92         & 49         & 57         & 180       \\\\\n",
       "\t 1003       &  78        & 93         & 12         & 6.5        & 4.63       & Buckingham & 67         & male       & 67         & 119        & large      & 110        & 50         &  NA        & NA         & 33         & 38         & 480       \\\\\n",
       "\t 1005       & 249        & 90         & 28         & 8.9        & 7.72       & Buckingham & 64         & male       & 68         & 183        & medium     & 138        & 80         &  NA        & NA         & 44         & 41         & 300       \\\\\n",
       "\t 1008       & 248        & 94         & 69         & 3.6        & 4.81       & Buckingham & 34         & male       & 71         & 190        & large      & 132        & 86         &  NA        & NA         & 36         & 42         & 195       \\\\\n",
       "\\end{tabular}\n"
      ],
      "text/markdown": [
       "\n",
       "id | chol | stab.glu | hdl | ratio | glyhb | location | age | gender | height | weight | frame | bp.1s | bp.1d | bp.2s | bp.2d | waist | hip | time.ppn | \n",
       "|---|---|---|---|---|---|\n",
       "| 1000       | 203        | 82         | 56         | 3.6        | 4.31       | Buckingham | 46         | female     | 62         | 121        | medium     | 118        | 59         |  NA        | NA         | 29         | 38         | 720        | \n",
       "| 1001       | 165        | 97         | 24         | 6.9        | 4.44       | Buckingham | 29         | female     | 64         | 218        | large      | 112        | 68         |  NA        | NA         | 46         | 48         | 360        | \n",
       "| 1002       | 228        | 92         | 37         | 6.2        | 4.64       | Buckingham | 58         | female     | 61         | 256        | large      | 190        | 92         | 185        | 92         | 49         | 57         | 180        | \n",
       "| 1003       |  78        | 93         | 12         | 6.5        | 4.63       | Buckingham | 67         | male       | 67         | 119        | large      | 110        | 50         |  NA        | NA         | 33         | 38         | 480        | \n",
       "| 1005       | 249        | 90         | 28         | 8.9        | 7.72       | Buckingham | 64         | male       | 68         | 183        | medium     | 138        | 80         |  NA        | NA         | 44         | 41         | 300        | \n",
       "| 1008       | 248        | 94         | 69         | 3.6        | 4.81       | Buckingham | 34         | male       | 71         | 190        | large      | 132        | 86         |  NA        | NA         | 36         | 42         | 195        | \n",
       "\n",
       "\n"
      ],
      "text/plain": [
       "  id   chol stab.glu hdl ratio glyhb location   age gender height weight frame \n",
       "1 1000 203  82       56  3.6   4.31  Buckingham 46  female 62     121    medium\n",
       "2 1001 165  97       24  6.9   4.44  Buckingham 29  female 64     218    large \n",
       "3 1002 228  92       37  6.2   4.64  Buckingham 58  female 61     256    large \n",
       "4 1003  78  93       12  6.5   4.63  Buckingham 67  male   67     119    large \n",
       "5 1005 249  90       28  8.9   7.72  Buckingham 64  male   68     183    medium\n",
       "6 1008 248  94       69  3.6   4.81  Buckingham 34  male   71     190    large \n",
       "  bp.1s bp.1d bp.2s bp.2d waist hip time.ppn\n",
       "1 118   59     NA   NA    29    38  720     \n",
       "2 112   68     NA   NA    46    48  360     \n",
       "3 190   92    185   92    49    57  180     \n",
       "4 110   50     NA   NA    33    38  480     \n",
       "5 138   80     NA   NA    44    41  300     \n",
       "6 132   86     NA   NA    36    42  195     "
      ]
     },
     "metadata": {},
     "output_type": "display_data"
    }
   ],
   "source": [
    "df <- read.csv(file='diabetes.csv')\n",
    "head(df)"
   ]
  },
  {
   "cell_type": "code",
   "execution_count": 63,
   "metadata": {},
   "outputs": [],
   "source": [
    "# Helper functions\n",
    "\n",
    "# grouped_df - grouped by two variables\n",
    "group_df_by_vars = function(x, y, df) {\n",
    "    grouped <- df %>%\n",
    "    group_by_at(.vars=c(x, y)) %>%\n",
    "    summarize(n=n())\n",
    "    \n",
    "    return(grouped)\n",
    "\n",
    "}\n",
    "\n",
    "# con_table - contingency table\n",
    "create_con_table = function(x, y, grouped_df) {\n",
    "    #df <- df %>% \n",
    "        #group_by_at(.vars=c(x, y)) %>%\n",
    "        #summarize(n=n())\n",
    "    \n",
    "    con_table <- \n",
    "        grouped_df %>%\n",
    "        ungroup() %>%\n",
    "        dcast(paste(x, \"~\", y), value.nar = \"n\")\n",
    "        \n",
    "    \n",
    "    return(con_table)\n",
    "        \n",
    "}\n",
    "\n",
    "\n",
    "# prop_df - grouped by two variables, turned into proportions\n",
    "create_prop_df = function(grouped_df) {\n",
    "    prop_df <- \n",
    "        grouped_df %>%\n",
    "        ungroup() %>%\n",
    "        mutate(prop = n/sum(n))\n",
    "    \n",
    "    return(prop_df)\n",
    "}\n",
    "\n",
    "\n",
    "\n",
    "\n",
    "\n",
    "# joint_df - proportions dcast, joint probabilities\n",
    "compute_joint_probs = function(x, y, prop_df) {\n",
    "    joint_df <-\n",
    "        prop_df %>%\n",
    "        #ungroup() %>%\n",
    "        #mutate(prop = n / sum(n)) %>% \n",
    "        dcast(paste(x, \"~\", y), value.var = \"prop\")\n",
    "    return (joint_df)\n",
    "}\n",
    "\n",
    "\n",
    "\n",
    "# Now compute the marginal probs for x and y\n",
    "# x_marginal_df - marginal probs for x\n",
    "\n",
    "compute_marg_probs_one_var = function(col, prop_df) {\n",
    "    marg_df <- prop_df %>%\n",
    "    group_by_at(.vars=c(col)) %>%\n",
    "    #group_by(col)\n",
    "    summarize(marginal = sum(prop))\n",
    "}\n",
    "\n",
    "#x_marg_df = compute_marg_probs_one_var(\"location\", prop_df)\n",
    "\n",
    "\n",
    "# Now join them\n",
    "# marginal_df - marginal tables joined together\n",
    "#x = \"location\"\n",
    "#y = \"gender\"\n",
    "\n",
    "compute_marginal_probs = function(x, y, prop_df) {\n",
    "    x_marg_df <- compute_marg_probs_one_var(x, prop_df)\n",
    "    y_marg_df = compute_marg_probs_one_var(y, prop_df)\n",
    "    marginal_df <- prop_df %>%\n",
    "        dcast(paste(x, \"~\", y), value.var=\"prop\") %>%\n",
    "        left_join(x_marg_df, by=x) %>%\n",
    "        bind_rows(\n",
    "            y_marg_df %>%\n",
    "                mutate(!!x := \"marginal\") %>%\n",
    "                #dcast(location ~ gender, value.var = \"marginal\")\n",
    "                dcast(paste(x, \"~\", y), value.var = \"marginal\")\n",
    "        )\n",
    "}"
   ]
  },
  {
   "cell_type": "markdown",
   "metadata": {},
   "source": [
    "## A: Location vs. gender"
   ]
  },
  {
   "cell_type": "code",
   "execution_count": 58,
   "metadata": {},
   "outputs": [
    {
     "data": {
      "text/html": [
       "<table>\n",
       "<thead><tr><th scope=col>location</th><th scope=col>gender</th><th scope=col>n</th><th scope=col>prop</th></tr></thead>\n",
       "<tbody>\n",
       "\t<tr><td>Buckingham</td><td>female    </td><td>114       </td><td>0.2828784 </td></tr>\n",
       "\t<tr><td>Buckingham</td><td>male      </td><td> 86       </td><td>0.2133995 </td></tr>\n",
       "\t<tr><td>Louisa    </td><td>female    </td><td>120       </td><td>0.2977667 </td></tr>\n",
       "\t<tr><td>Louisa    </td><td>male      </td><td> 83       </td><td>0.2059553 </td></tr>\n",
       "</tbody>\n",
       "</table>\n"
      ],
      "text/latex": [
       "\\begin{tabular}{r|llll}\n",
       " location & gender & n & prop\\\\\n",
       "\\hline\n",
       "\t Buckingham & female     & 114        & 0.2828784 \\\\\n",
       "\t Buckingham & male       &  86        & 0.2133995 \\\\\n",
       "\t Louisa     & female     & 120        & 0.2977667 \\\\\n",
       "\t Louisa     & male       &  83        & 0.2059553 \\\\\n",
       "\\end{tabular}\n"
      ],
      "text/markdown": [
       "\n",
       "location | gender | n | prop | \n",
       "|---|---|---|---|\n",
       "| Buckingham | female     | 114        | 0.2828784  | \n",
       "| Buckingham | male       |  86        | 0.2133995  | \n",
       "| Louisa     | female     | 120        | 0.2977667  | \n",
       "| Louisa     | male       |  83        | 0.2059553  | \n",
       "\n",
       "\n"
      ],
      "text/plain": [
       "  location   gender n   prop     \n",
       "1 Buckingham female 114 0.2828784\n",
       "2 Buckingham male    86 0.2133995\n",
       "3 Louisa     female 120 0.2977667\n",
       "4 Louisa     male    83 0.2059553"
      ]
     },
     "metadata": {},
     "output_type": "display_data"
    }
   ],
   "source": [
    "# First, group by the variables\n",
    "# Then compute the proportions\n",
    "grouped_df = group_df_by_vars('location', 'gender', df)\n",
    "prop_df = create_prop_df(grouped_df)\n",
    "prop_df"
   ]
  },
  {
   "cell_type": "code",
   "execution_count": 54,
   "metadata": {},
   "outputs": [
    {
     "data": {
      "text/html": [
       "<table>\n",
       "<thead><tr><th scope=col>location</th><th scope=col>female</th><th scope=col>male</th></tr></thead>\n",
       "<tbody>\n",
       "\t<tr><td>Buckingham</td><td>0.2828784 </td><td>0.2133995 </td></tr>\n",
       "\t<tr><td>Louisa    </td><td>0.2977667 </td><td>0.2059553 </td></tr>\n",
       "</tbody>\n",
       "</table>\n"
      ],
      "text/latex": [
       "\\begin{tabular}{r|lll}\n",
       " location & female & male\\\\\n",
       "\\hline\n",
       "\t Buckingham & 0.2828784  & 0.2133995 \\\\\n",
       "\t Louisa     & 0.2977667  & 0.2059553 \\\\\n",
       "\\end{tabular}\n"
      ],
      "text/markdown": [
       "\n",
       "location | female | male | \n",
       "|---|---|\n",
       "| Buckingham | 0.2828784  | 0.2133995  | \n",
       "| Louisa     | 0.2977667  | 0.2059553  | \n",
       "\n",
       "\n"
      ],
      "text/plain": [
       "  location   female    male     \n",
       "1 Buckingham 0.2828784 0.2133995\n",
       "2 Louisa     0.2977667 0.2059553"
      ]
     },
     "metadata": {},
     "output_type": "display_data"
    }
   ],
   "source": [
    "# Joint probabilities\n",
    "joint_df <- compute_joint_probs(\"location\", \"gender\", prop_df)\n",
    "joint_df"
   ]
  },
  {
   "cell_type": "code",
   "execution_count": 55,
   "metadata": {},
   "outputs": [
    {
     "name": "stderr",
     "output_type": "stream",
     "text": [
      "Warning message in bind_rows_(x, .id):\n",
      "“binding factor and character vector, coercing into character vector”Warning message in bind_rows_(x, .id):\n",
      "“binding character and factor vector, coercing into character vector”"
     ]
    },
    {
     "data": {
      "text/html": [
       "<table>\n",
       "<thead><tr><th scope=col>location</th><th scope=col>female</th><th scope=col>male</th><th scope=col>marginal</th></tr></thead>\n",
       "<tbody>\n",
       "\t<tr><td>Buckingham</td><td>0.2828784 </td><td>0.2133995 </td><td>0.4962779 </td></tr>\n",
       "\t<tr><td>Louisa    </td><td>0.2977667 </td><td>0.2059553 </td><td>0.5037221 </td></tr>\n",
       "\t<tr><td>marginal  </td><td>0.5806452 </td><td>0.4193548 </td><td>       NA </td></tr>\n",
       "</tbody>\n",
       "</table>\n"
      ],
      "text/latex": [
       "\\begin{tabular}{r|llll}\n",
       " location & female & male & marginal\\\\\n",
       "\\hline\n",
       "\t Buckingham & 0.2828784  & 0.2133995  & 0.4962779 \\\\\n",
       "\t Louisa     & 0.2977667  & 0.2059553  & 0.5037221 \\\\\n",
       "\t marginal   & 0.5806452  & 0.4193548  &        NA \\\\\n",
       "\\end{tabular}\n"
      ],
      "text/markdown": [
       "\n",
       "location | female | male | marginal | \n",
       "|---|---|---|\n",
       "| Buckingham | 0.2828784  | 0.2133995  | 0.4962779  | \n",
       "| Louisa     | 0.2977667  | 0.2059553  | 0.5037221  | \n",
       "| marginal   | 0.5806452  | 0.4193548  |        NA  | \n",
       "\n",
       "\n"
      ],
      "text/plain": [
       "  location   female    male      marginal \n",
       "1 Buckingham 0.2828784 0.2133995 0.4962779\n",
       "2 Louisa     0.2977667 0.2059553 0.5037221\n",
       "3 marginal   0.5806452 0.4193548        NA"
      ]
     },
     "metadata": {},
     "output_type": "display_data"
    }
   ],
   "source": [
    "# Marginal probabilities\n",
    "marginal_df <- compute_marginal_probs(\"location\", \"gender\", prop_df)\n",
    "marginal_df"
   ]
  },
  {
   "cell_type": "markdown",
   "metadata": {},
   "source": [
    "### Conditional Probabilities A\n",
    "1. \n",
    "$$P(female|Buckingham) = \\frac{P(female, Buckingham)}{P(Buckingham)} = 0.28/0.5 = 0.57 $$\n",
    "\n",
    "57% of Buckingham residents are female. This accounts for a total of 28% of the sample."
   ]
  },
  {
   "cell_type": "code",
   "execution_count": 60,
   "metadata": {},
   "outputs": [
    {
     "data": {
      "text/html": [
       "0.57"
      ],
      "text/latex": [
       "0.57"
      ],
      "text/markdown": [
       "0.57"
      ],
      "text/plain": [
       "[1] 0.57"
      ]
     },
     "metadata": {},
     "output_type": "display_data"
    }
   ],
   "source": [
    "# Conditional Probabilities\n",
    "# Probability of female given Buckingham\n",
    "(prop_df %>%\n",
    "    filter(gender == \"female\", location == \"Buckingham\") %>%\n",
    "    .$prop ) /\n",
    "(marginal_df %>%\n",
    "    filter(location == \"Buckingham\") %>%\n",
    "    .$marginal\n",
    ")\n"
   ]
  },
  {
   "cell_type": "markdown",
   "metadata": {},
   "source": [
    "## B: Gender Vs frame "
   ]
  },
  {
   "cell_type": "code",
   "execution_count": 18,
   "metadata": {},
   "outputs": [
    {
     "data": {
      "text/html": [
       "<table>\n",
       "<thead><tr><th scope=col>gender</th><th scope=col>frame</th><th scope=col>n</th><th scope=col>prop</th></tr></thead>\n",
       "<tbody>\n",
       "\t<tr><td>female    </td><td>large     </td><td> 42       </td><td>0.10421836</td></tr>\n",
       "\t<tr><td>female    </td><td>medium    </td><td>116       </td><td>0.28784119</td></tr>\n",
       "\t<tr><td>female    </td><td>small     </td><td> 69       </td><td>0.17121588</td></tr>\n",
       "\t<tr><td>male      </td><td>large     </td><td> 61       </td><td>0.15136476</td></tr>\n",
       "\t<tr><td>male      </td><td>medium    </td><td> 68       </td><td>0.16873449</td></tr>\n",
       "\t<tr><td>male      </td><td>small     </td><td> 35       </td><td>0.08684864</td></tr>\n",
       "</tbody>\n",
       "</table>\n"
      ],
      "text/latex": [
       "\\begin{tabular}{r|llll}\n",
       " gender & frame & n & prop\\\\\n",
       "\\hline\n",
       "\t female     & large      &  42        & 0.10421836\\\\\n",
       "\t female     & medium     & 116        & 0.28784119\\\\\n",
       "\t female     & small      &  69        & 0.17121588\\\\\n",
       "\t male       & large      &  61        & 0.15136476\\\\\n",
       "\t male       & medium     &  68        & 0.16873449\\\\\n",
       "\t male       & small      &  35        & 0.08684864\\\\\n",
       "\\end{tabular}\n"
      ],
      "text/markdown": [
       "\n",
       "gender | frame | n | prop | \n",
       "|---|---|---|---|---|---|\n",
       "| female     | large      |  42        | 0.10421836 | \n",
       "| female     | medium     | 116        | 0.28784119 | \n",
       "| female     | small      |  69        | 0.17121588 | \n",
       "| male       | large      |  61        | 0.15136476 | \n",
       "| male       | medium     |  68        | 0.16873449 | \n",
       "| male       | small      |  35        | 0.08684864 | \n",
       "\n",
       "\n"
      ],
      "text/plain": [
       "  gender frame  n   prop      \n",
       "1 female large   42 0.10421836\n",
       "2 female medium 116 0.28784119\n",
       "3 female small   69 0.17121588\n",
       "4 male   large   61 0.15136476\n",
       "5 male   medium  68 0.16873449\n",
       "6 male   small   35 0.08684864"
      ]
     },
     "metadata": {},
     "output_type": "display_data"
    }
   ],
   "source": [
    "grouped_df <- group_df_by_vars('gender', 'frame', df)\n",
    "prop_df <- create_prop_df(grouped_df)\n",
    "prop_df <- prop_df %>%\n",
    "    filter(frame != \"\")\n",
    "prop_df"
   ]
  },
  {
   "cell_type": "code",
   "execution_count": 19,
   "metadata": {},
   "outputs": [
    {
     "data": {
      "text/html": [
       "<table>\n",
       "<thead><tr><th scope=col>gender</th><th scope=col>large</th><th scope=col>medium</th><th scope=col>small</th></tr></thead>\n",
       "<tbody>\n",
       "\t<tr><td>female    </td><td>0.1042184 </td><td>0.2878412 </td><td>0.17121588</td></tr>\n",
       "\t<tr><td>male      </td><td>0.1513648 </td><td>0.1687345 </td><td>0.08684864</td></tr>\n",
       "</tbody>\n",
       "</table>\n"
      ],
      "text/latex": [
       "\\begin{tabular}{r|llll}\n",
       " gender & large & medium & small\\\\\n",
       "\\hline\n",
       "\t female     & 0.1042184  & 0.2878412  & 0.17121588\\\\\n",
       "\t male       & 0.1513648  & 0.1687345  & 0.08684864\\\\\n",
       "\\end{tabular}\n"
      ],
      "text/markdown": [
       "\n",
       "gender | large | medium | small | \n",
       "|---|---|\n",
       "| female     | 0.1042184  | 0.2878412  | 0.17121588 | \n",
       "| male       | 0.1513648  | 0.1687345  | 0.08684864 | \n",
       "\n",
       "\n"
      ],
      "text/plain": [
       "  gender large     medium    small     \n",
       "1 female 0.1042184 0.2878412 0.17121588\n",
       "2 male   0.1513648 0.1687345 0.08684864"
      ]
     },
     "metadata": {},
     "output_type": "display_data"
    }
   ],
   "source": [
    "# Joint probabilities\n",
    "joint_df <- compute_joint_probs(\"gender\", \"frame\", prop_df)\n",
    "joint_df"
   ]
  },
  {
   "cell_type": "code",
   "execution_count": 20,
   "metadata": {},
   "outputs": [
    {
     "name": "stderr",
     "output_type": "stream",
     "text": [
      "Warning message in bind_rows_(x, .id):\n",
      "“binding factor and character vector, coercing into character vector”Warning message in bind_rows_(x, .id):\n",
      "“binding character and factor vector, coercing into character vector”"
     ]
    },
    {
     "data": {
      "text/html": [
       "<table>\n",
       "<thead><tr><th scope=col>gender</th><th scope=col>large</th><th scope=col>medium</th><th scope=col>small</th><th scope=col>marginal</th></tr></thead>\n",
       "<tbody>\n",
       "\t<tr><td>female    </td><td>0.1042184 </td><td>0.2878412 </td><td>0.17121588</td><td>0.5632754 </td></tr>\n",
       "\t<tr><td>male      </td><td>0.1513648 </td><td>0.1687345 </td><td>0.08684864</td><td>0.4069479 </td></tr>\n",
       "\t<tr><td>marginal  </td><td>0.2555831 </td><td>0.4565757 </td><td>0.25806452</td><td>       NA </td></tr>\n",
       "</tbody>\n",
       "</table>\n"
      ],
      "text/latex": [
       "\\begin{tabular}{r|lllll}\n",
       " gender & large & medium & small & marginal\\\\\n",
       "\\hline\n",
       "\t female     & 0.1042184  & 0.2878412  & 0.17121588 & 0.5632754 \\\\\n",
       "\t male       & 0.1513648  & 0.1687345  & 0.08684864 & 0.4069479 \\\\\n",
       "\t marginal   & 0.2555831  & 0.4565757  & 0.25806452 &        NA \\\\\n",
       "\\end{tabular}\n"
      ],
      "text/markdown": [
       "\n",
       "gender | large | medium | small | marginal | \n",
       "|---|---|---|\n",
       "| female     | 0.1042184  | 0.2878412  | 0.17121588 | 0.5632754  | \n",
       "| male       | 0.1513648  | 0.1687345  | 0.08684864 | 0.4069479  | \n",
       "| marginal   | 0.2555831  | 0.4565757  | 0.25806452 |        NA  | \n",
       "\n",
       "\n"
      ],
      "text/plain": [
       "  gender   large     medium    small      marginal \n",
       "1 female   0.1042184 0.2878412 0.17121588 0.5632754\n",
       "2 male     0.1513648 0.1687345 0.08684864 0.4069479\n",
       "3 marginal 0.2555831 0.4565757 0.25806452        NA"
      ]
     },
     "metadata": {},
     "output_type": "display_data"
    }
   ],
   "source": [
    "# Marginal probabilities\n",
    "marginal_df <- compute_marginal_probs(\"gender\", \"frame\", prop_df)\n",
    "marginal_df"
   ]
  },
  {
   "cell_type": "markdown",
   "metadata": {},
   "source": [
    "### Conditional Probabilities B\n",
    "\n",
    "2.$$P(male|small) = \\frac{P(male, small)}{P(small)} = 0.09/0.26 = 0.34 $$\n",
    "\n",
    "If a sample person is known to be small, there is approximately a 34% chance that they are also a male."
   ]
  },
  {
   "cell_type": "code",
   "execution_count": null,
   "metadata": {},
   "outputs": [],
   "source": [
    "# Conditional probabilities\n"
   ]
  },
  {
   "cell_type": "code",
   "execution_count": null,
   "metadata": {},
   "outputs": [],
   "source": []
  },
  {
   "cell_type": "markdown",
   "metadata": {},
   "source": [
    "## C: Gender Vs Age \n",
    "(Convert age to an discrete ordinal variable with three categories) "
   ]
  },
  {
   "cell_type": "code",
   "execution_count": 21,
   "metadata": {},
   "outputs": [
    {
     "data": {
      "text/html": [
       "24"
      ],
      "text/latex": [
       "24"
      ],
      "text/markdown": [
       "24"
      ],
      "text/plain": [
       "[1] 24"
      ]
     },
     "metadata": {},
     "output_type": "display_data"
    }
   ],
   "source": [
    "# First convert to discrete variable\n",
    "bin_size = round((max(df$age) - min(df$age) )/ 3)"
   ]
  },
  {
   "cell_type": "code",
   "execution_count": 23,
   "metadata": {},
   "outputs": [
    {
     "data": {
      "text/html": [
       "<ol class=list-inline>\n",
       "\t<li>2</li>\n",
       "\t<li>1</li>\n",
       "\t<li>3</li>\n",
       "\t<li>NA</li>\n",
       "</ol>\n"
      ],
      "text/latex": [
       "\\begin{enumerate*}\n",
       "\\item 2\n",
       "\\item 1\n",
       "\\item 3\n",
       "\\item NA\n",
       "\\end{enumerate*}\n"
      ],
      "text/markdown": [
       "1. 2\n",
       "2. 1\n",
       "3. 3\n",
       "4. NA\n",
       "\n",
       "\n"
      ],
      "text/plain": [
       "[1] 2    1    3    <NA>\n",
       "Levels: 1 2 3"
      ]
     },
     "metadata": {},
     "output_type": "display_data"
    }
   ],
   "source": [
    "df$age_cat <- cut(df$age, seq(min(df$age), max(df$age), bin_size),\n",
    "                    right=FALSE, labels=c(1:3))\n",
    "unique(df$age_cat)"
   ]
  },
  {
   "cell_type": "code",
   "execution_count": 25,
   "metadata": {},
   "outputs": [],
   "source": [
    "# Filter out rows with NA\n",
    "df_c <- df %>%\n",
    "    drop_na(age_cat)\n",
    "grouped_df = group_df_by_vars('gender', 'age_cat', df_c)\n",
    "prop_df = create_prop_df(grouped_df)\n"
   ]
  },
  {
   "cell_type": "code",
   "execution_count": 26,
   "metadata": {},
   "outputs": [
    {
     "data": {
      "text/html": [
       "<table>\n",
       "<thead><tr><th scope=col>gender</th><th scope=col>1</th><th scope=col>2</th><th scope=col>3</th></tr></thead>\n",
       "<tbody>\n",
       "\t<tr><td>female    </td><td>0.2768080 </td><td>0.2418953 </td><td>0.05985037</td></tr>\n",
       "\t<tr><td>male      </td><td>0.1720698 </td><td>0.1870324 </td><td>0.06234414</td></tr>\n",
       "</tbody>\n",
       "</table>\n"
      ],
      "text/latex": [
       "\\begin{tabular}{r|llll}\n",
       " gender & 1 & 2 & 3\\\\\n",
       "\\hline\n",
       "\t female     & 0.2768080  & 0.2418953  & 0.05985037\\\\\n",
       "\t male       & 0.1720698  & 0.1870324  & 0.06234414\\\\\n",
       "\\end{tabular}\n"
      ],
      "text/markdown": [
       "\n",
       "gender | 1 | 2 | 3 | \n",
       "|---|---|\n",
       "| female     | 0.2768080  | 0.2418953  | 0.05985037 | \n",
       "| male       | 0.1720698  | 0.1870324  | 0.06234414 | \n",
       "\n",
       "\n"
      ],
      "text/plain": [
       "  gender 1         2         3         \n",
       "1 female 0.2768080 0.2418953 0.05985037\n",
       "2 male   0.1720698 0.1870324 0.06234414"
      ]
     },
     "metadata": {},
     "output_type": "display_data"
    }
   ],
   "source": [
    "# Joint probabilities\n",
    "joint_df <- compute_joint_probs('gender', 'age_cat', prop_df)\n",
    "joint_df"
   ]
  },
  {
   "cell_type": "code",
   "execution_count": 28,
   "metadata": {},
   "outputs": [
    {
     "name": "stderr",
     "output_type": "stream",
     "text": [
      "Warning message in bind_rows_(x, .id):\n",
      "“binding factor and character vector, coercing into character vector”Warning message in bind_rows_(x, .id):\n",
      "“binding character and factor vector, coercing into character vector”"
     ]
    },
    {
     "data": {
      "text/html": [
       "<table>\n",
       "<thead><tr><th scope=col>gender</th><th scope=col>1</th><th scope=col>2</th><th scope=col>3</th><th scope=col>marginal</th></tr></thead>\n",
       "<tbody>\n",
       "\t<tr><td>female    </td><td>0.2768080 </td><td>0.2418953 </td><td>0.05985037</td><td>0.5785536 </td></tr>\n",
       "\t<tr><td>male      </td><td>0.1720698 </td><td>0.1870324 </td><td>0.06234414</td><td>0.4214464 </td></tr>\n",
       "\t<tr><td>marginal  </td><td>0.4488778 </td><td>0.4289277 </td><td>0.12219451</td><td>       NA </td></tr>\n",
       "</tbody>\n",
       "</table>\n"
      ],
      "text/latex": [
       "\\begin{tabular}{r|lllll}\n",
       " gender & 1 & 2 & 3 & marginal\\\\\n",
       "\\hline\n",
       "\t female     & 0.2768080  & 0.2418953  & 0.05985037 & 0.5785536 \\\\\n",
       "\t male       & 0.1720698  & 0.1870324  & 0.06234414 & 0.4214464 \\\\\n",
       "\t marginal   & 0.4488778  & 0.4289277  & 0.12219451 &        NA \\\\\n",
       "\\end{tabular}\n"
      ],
      "text/markdown": [
       "\n",
       "gender | 1 | 2 | 3 | marginal | \n",
       "|---|---|---|\n",
       "| female     | 0.2768080  | 0.2418953  | 0.05985037 | 0.5785536  | \n",
       "| male       | 0.1720698  | 0.1870324  | 0.06234414 | 0.4214464  | \n",
       "| marginal   | 0.4488778  | 0.4289277  | 0.12219451 |        NA  | \n",
       "\n",
       "\n"
      ],
      "text/plain": [
       "  gender   1         2         3          marginal \n",
       "1 female   0.2768080 0.2418953 0.05985037 0.5785536\n",
       "2 male     0.1720698 0.1870324 0.06234414 0.4214464\n",
       "3 marginal 0.4488778 0.4289277 0.12219451        NA"
      ]
     },
     "metadata": {},
     "output_type": "display_data"
    }
   ],
   "source": [
    "# Marginal probabilities\n",
    "marginal_df <- compute_marginal_probs(\"gender\", \"age_cat\", prop_df)\n",
    "marginal_df"
   ]
  },
  {
   "cell_type": "markdown",
   "metadata": {},
   "source": [
    "### Conditional Probabilities C\n",
    "\n",
    "3.$$P(Female | Age Category 3) = \\frac{P(Age Category 3, Female)}{P(Age Category 3)} = 0.06/0.12 = 0.49 $$\n",
    "\n",
    "Approximately 49% of the oldest age category members are female."
   ]
  },
  {
   "cell_type": "markdown",
   "metadata": {},
   "source": [
    "4.$$P(Age Category 1 | Male) = \\frac{P(Age Category 1, Male)}{P(Male)} = 0.17/0.42 = 0.41 $$\n",
    "\n",
    "Approximately 41% of males are in the youngest age category."
   ]
  },
  {
   "cell_type": "markdown",
   "metadata": {},
   "source": [
    "## D: Cholesterol Vs Age (Convert age and cholesterol to an discrete ordinal variable with three categories)"
   ]
  },
  {
   "cell_type": "code",
   "execution_count": 40,
   "metadata": {},
   "outputs": [],
   "source": [
    "df_d <- df %>% \n",
    "    drop_na(chol, age_cat)"
   ]
  },
  {
   "cell_type": "code",
   "execution_count": 44,
   "metadata": {
    "scrolled": true
   },
   "outputs": [
    {
     "data": {
      "text/html": [
       "121"
      ],
      "text/latex": [
       "121"
      ],
      "text/markdown": [
       "121"
      ],
      "text/plain": [
       "[1] 121"
      ]
     },
     "metadata": {},
     "output_type": "display_data"
    }
   ],
   "source": [
    "bin_size = round((max(df_d$chol) - min(df_d$chol) )/ 3) - 1\n",
    "#bin_size"
   ]
  },
  {
   "cell_type": "code",
   "execution_count": 46,
   "metadata": {},
   "outputs": [
    {
     "data": {
      "text/html": [
       "<table>\n",
       "<thead><tr><th scope=col>id</th><th scope=col>chol</th><th scope=col>stab.glu</th><th scope=col>hdl</th><th scope=col>ratio</th><th scope=col>glyhb</th><th scope=col>location</th><th scope=col>age</th><th scope=col>gender</th><th scope=col>height</th><th scope=col>⋯</th><th scope=col>frame</th><th scope=col>bp.1s</th><th scope=col>bp.1d</th><th scope=col>bp.2s</th><th scope=col>bp.2d</th><th scope=col>waist</th><th scope=col>hip</th><th scope=col>time.ppn</th><th scope=col>age_cat</th><th scope=col>chol_cat</th></tr></thead>\n",
       "<tbody>\n",
       "\t<tr><td>1000      </td><td>203       </td><td>82        </td><td>56        </td><td>3.6       </td><td>4.31      </td><td>Buckingham</td><td>46        </td><td>female    </td><td>62        </td><td>⋯         </td><td>medium    </td><td>118       </td><td>59        </td><td> NA       </td><td>NA        </td><td>29        </td><td>38        </td><td>720       </td><td>2         </td><td>2         </td></tr>\n",
       "\t<tr><td>1001      </td><td>165       </td><td>97        </td><td>24        </td><td>6.9       </td><td>4.44      </td><td>Buckingham</td><td>29        </td><td>female    </td><td>64        </td><td>⋯         </td><td>large     </td><td>112       </td><td>68        </td><td> NA       </td><td>NA        </td><td>46        </td><td>48        </td><td>360       </td><td>1         </td><td>1         </td></tr>\n",
       "\t<tr><td>1002      </td><td>228       </td><td>92        </td><td>37        </td><td>6.2       </td><td>4.64      </td><td>Buckingham</td><td>58        </td><td>female    </td><td>61        </td><td>⋯         </td><td>large     </td><td>190       </td><td>92        </td><td>185       </td><td>92        </td><td>49        </td><td>57        </td><td>180       </td><td>2         </td><td>2         </td></tr>\n",
       "\t<tr><td>1003      </td><td> 78       </td><td>93        </td><td>12        </td><td>6.5       </td><td>4.63      </td><td>Buckingham</td><td>67        </td><td>male      </td><td>67        </td><td>⋯         </td><td>large     </td><td>110       </td><td>50        </td><td> NA       </td><td>NA        </td><td>33        </td><td>38        </td><td>480       </td><td>3         </td><td>1         </td></tr>\n",
       "\t<tr><td>1005      </td><td>249       </td><td>90        </td><td>28        </td><td>8.9       </td><td>7.72      </td><td>Buckingham</td><td>64        </td><td>male      </td><td>68        </td><td>⋯         </td><td>medium    </td><td>138       </td><td>80        </td><td> NA       </td><td>NA        </td><td>44        </td><td>41        </td><td>300       </td><td>2         </td><td>2         </td></tr>\n",
       "\t<tr><td>1008      </td><td>248       </td><td>94        </td><td>69        </td><td>3.6       </td><td>4.81      </td><td>Buckingham</td><td>34        </td><td>male      </td><td>71        </td><td>⋯         </td><td>large     </td><td>132       </td><td>86        </td><td> NA       </td><td>NA        </td><td>36        </td><td>42        </td><td>195       </td><td>1         </td><td>2         </td></tr>\n",
       "</tbody>\n",
       "</table>\n"
      ],
      "text/latex": [
       "\\begin{tabular}{r|lllllllllllllllllllll}\n",
       " id & chol & stab.glu & hdl & ratio & glyhb & location & age & gender & height & ⋯ & frame & bp.1s & bp.1d & bp.2s & bp.2d & waist & hip & time.ppn & age\\_cat & chol\\_cat\\\\\n",
       "\\hline\n",
       "\t 1000       & 203        & 82         & 56         & 3.6        & 4.31       & Buckingham & 46         & female     & 62         & ⋯          & medium     & 118        & 59         &  NA        & NA         & 29         & 38         & 720        & 2          & 2         \\\\\n",
       "\t 1001       & 165        & 97         & 24         & 6.9        & 4.44       & Buckingham & 29         & female     & 64         & ⋯          & large      & 112        & 68         &  NA        & NA         & 46         & 48         & 360        & 1          & 1         \\\\\n",
       "\t 1002       & 228        & 92         & 37         & 6.2        & 4.64       & Buckingham & 58         & female     & 61         & ⋯          & large      & 190        & 92         & 185        & 92         & 49         & 57         & 180        & 2          & 2         \\\\\n",
       "\t 1003       &  78        & 93         & 12         & 6.5        & 4.63       & Buckingham & 67         & male       & 67         & ⋯          & large      & 110        & 50         &  NA        & NA         & 33         & 38         & 480        & 3          & 1         \\\\\n",
       "\t 1005       & 249        & 90         & 28         & 8.9        & 7.72       & Buckingham & 64         & male       & 68         & ⋯          & medium     & 138        & 80         &  NA        & NA         & 44         & 41         & 300        & 2          & 2         \\\\\n",
       "\t 1008       & 248        & 94         & 69         & 3.6        & 4.81       & Buckingham & 34         & male       & 71         & ⋯          & large      & 132        & 86         &  NA        & NA         & 36         & 42         & 195        & 1          & 2         \\\\\n",
       "\\end{tabular}\n"
      ],
      "text/markdown": [
       "\n",
       "id | chol | stab.glu | hdl | ratio | glyhb | location | age | gender | height | ⋯ | frame | bp.1s | bp.1d | bp.2s | bp.2d | waist | hip | time.ppn | age_cat | chol_cat | \n",
       "|---|---|---|---|---|---|\n",
       "| 1000       | 203        | 82         | 56         | 3.6        | 4.31       | Buckingham | 46         | female     | 62         | ⋯          | medium     | 118        | 59         |  NA        | NA         | 29         | 38         | 720        | 2          | 2          | \n",
       "| 1001       | 165        | 97         | 24         | 6.9        | 4.44       | Buckingham | 29         | female     | 64         | ⋯          | large      | 112        | 68         |  NA        | NA         | 46         | 48         | 360        | 1          | 1          | \n",
       "| 1002       | 228        | 92         | 37         | 6.2        | 4.64       | Buckingham | 58         | female     | 61         | ⋯          | large      | 190        | 92         | 185        | 92         | 49         | 57         | 180        | 2          | 2          | \n",
       "| 1003       |  78        | 93         | 12         | 6.5        | 4.63       | Buckingham | 67         | male       | 67         | ⋯          | large      | 110        | 50         |  NA        | NA         | 33         | 38         | 480        | 3          | 1          | \n",
       "| 1005       | 249        | 90         | 28         | 8.9        | 7.72       | Buckingham | 64         | male       | 68         | ⋯          | medium     | 138        | 80         |  NA        | NA         | 44         | 41         | 300        | 2          | 2          | \n",
       "| 1008       | 248        | 94         | 69         | 3.6        | 4.81       | Buckingham | 34         | male       | 71         | ⋯          | large      | 132        | 86         |  NA        | NA         | 36         | 42         | 195        | 1          | 2          | \n",
       "\n",
       "\n"
      ],
      "text/plain": [
       "  id   chol stab.glu hdl ratio glyhb location   age gender height ⋯ frame \n",
       "1 1000 203  82       56  3.6   4.31  Buckingham 46  female 62     ⋯ medium\n",
       "2 1001 165  97       24  6.9   4.44  Buckingham 29  female 64     ⋯ large \n",
       "3 1002 228  92       37  6.2   4.64  Buckingham 58  female 61     ⋯ large \n",
       "4 1003  78  93       12  6.5   4.63  Buckingham 67  male   67     ⋯ large \n",
       "5 1005 249  90       28  8.9   7.72  Buckingham 64  male   68     ⋯ medium\n",
       "6 1008 248  94       69  3.6   4.81  Buckingham 34  male   71     ⋯ large \n",
       "  bp.1s bp.1d bp.2s bp.2d waist hip time.ppn age_cat chol_cat\n",
       "1 118   59     NA   NA    29    38  720      2       2       \n",
       "2 112   68     NA   NA    46    48  360      1       1       \n",
       "3 190   92    185   92    49    57  180      2       2       \n",
       "4 110   50     NA   NA    33    38  480      3       1       \n",
       "5 138   80     NA   NA    44    41  300      2       2       \n",
       "6 132   86     NA   NA    36    42  195      1       2       "
      ]
     },
     "metadata": {},
     "output_type": "display_data"
    }
   ],
   "source": [
    "df_d$chol_cat <- cut(df_d$chol, seq(min(df_d$chol), max(df_d$chol), bin_size),\n",
    "                    right=FALSE, labels=c(1:3))\n",
    "head(df_d)"
   ]
  },
  {
   "cell_type": "code",
   "execution_count": 49,
   "metadata": {},
   "outputs": [],
   "source": [
    "df_d <- df_d %>%\n",
    "    drop_na(chol_cat, age_cat)"
   ]
  },
  {
   "cell_type": "code",
   "execution_count": 50,
   "metadata": {},
   "outputs": [],
   "source": [
    "grouped_df = group_df_by_vars('chol_cat', 'age_cat', df_d)\n",
    "prop_df = create_prop_df(grouped_df)"
   ]
  },
  {
   "cell_type": "code",
   "execution_count": 51,
   "metadata": {},
   "outputs": [
    {
     "data": {
      "text/html": [
       "<table>\n",
       "<thead><tr><th scope=col>chol_cat</th><th scope=col>1</th><th scope=col>2</th><th scope=col>3</th></tr></thead>\n",
       "<tbody>\n",
       "\t<tr><td>1          </td><td>0.250626566</td><td>0.162907268</td><td>0.03007519 </td></tr>\n",
       "\t<tr><td>2          </td><td>0.195488722</td><td>0.255639098</td><td>0.09273183 </td></tr>\n",
       "\t<tr><td>3          </td><td>0.005012531</td><td>0.007518797</td><td>        NA </td></tr>\n",
       "</tbody>\n",
       "</table>\n"
      ],
      "text/latex": [
       "\\begin{tabular}{r|llll}\n",
       " chol\\_cat & 1 & 2 & 3\\\\\n",
       "\\hline\n",
       "\t 1           & 0.250626566 & 0.162907268 & 0.03007519 \\\\\n",
       "\t 2           & 0.195488722 & 0.255639098 & 0.09273183 \\\\\n",
       "\t 3           & 0.005012531 & 0.007518797 &         NA \\\\\n",
       "\\end{tabular}\n"
      ],
      "text/markdown": [
       "\n",
       "chol_cat | 1 | 2 | 3 | \n",
       "|---|---|---|\n",
       "| 1           | 0.250626566 | 0.162907268 | 0.03007519  | \n",
       "| 2           | 0.195488722 | 0.255639098 | 0.09273183  | \n",
       "| 3           | 0.005012531 | 0.007518797 |         NA  | \n",
       "\n",
       "\n"
      ],
      "text/plain": [
       "  chol_cat 1           2           3         \n",
       "1 1        0.250626566 0.162907268 0.03007519\n",
       "2 2        0.195488722 0.255639098 0.09273183\n",
       "3 3        0.005012531 0.007518797         NA"
      ]
     },
     "metadata": {},
     "output_type": "display_data"
    }
   ],
   "source": [
    "# Joint probabilities\n",
    "joint_df <- compute_joint_probs('chol_cat', 'age_cat', prop_df)\n",
    "joint_df"
   ]
  },
  {
   "cell_type": "code",
   "execution_count": 52,
   "metadata": {
    "scrolled": true
   },
   "outputs": [
    {
     "name": "stderr",
     "output_type": "stream",
     "text": [
      "Warning message in bind_rows_(x, .id):\n",
      "“binding factor and character vector, coercing into character vector”Warning message in bind_rows_(x, .id):\n",
      "“binding character and factor vector, coercing into character vector”"
     ]
    },
    {
     "data": {
      "text/html": [
       "<table>\n",
       "<thead><tr><th scope=col>chol_cat</th><th scope=col>1</th><th scope=col>2</th><th scope=col>3</th><th scope=col>marginal</th></tr></thead>\n",
       "<tbody>\n",
       "\t<tr><td>1          </td><td>0.250626566</td><td>0.162907268</td><td>0.03007519 </td><td>0.44360902 </td></tr>\n",
       "\t<tr><td>2          </td><td>0.195488722</td><td>0.255639098</td><td>0.09273183 </td><td>0.54385965 </td></tr>\n",
       "\t<tr><td>3          </td><td>0.005012531</td><td>0.007518797</td><td>        NA </td><td>0.01253133 </td></tr>\n",
       "\t<tr><td>marginal   </td><td>0.451127820</td><td>0.426065163</td><td>0.12280702 </td><td>        NA </td></tr>\n",
       "</tbody>\n",
       "</table>\n"
      ],
      "text/latex": [
       "\\begin{tabular}{r|lllll}\n",
       " chol\\_cat & 1 & 2 & 3 & marginal\\\\\n",
       "\\hline\n",
       "\t 1           & 0.250626566 & 0.162907268 & 0.03007519  & 0.44360902 \\\\\n",
       "\t 2           & 0.195488722 & 0.255639098 & 0.09273183  & 0.54385965 \\\\\n",
       "\t 3           & 0.005012531 & 0.007518797 &         NA  & 0.01253133 \\\\\n",
       "\t marginal    & 0.451127820 & 0.426065163 & 0.12280702  &         NA \\\\\n",
       "\\end{tabular}\n"
      ],
      "text/markdown": [
       "\n",
       "chol_cat | 1 | 2 | 3 | marginal | \n",
       "|---|---|---|---|\n",
       "| 1           | 0.250626566 | 0.162907268 | 0.03007519  | 0.44360902  | \n",
       "| 2           | 0.195488722 | 0.255639098 | 0.09273183  | 0.54385965  | \n",
       "| 3           | 0.005012531 | 0.007518797 |         NA  | 0.01253133  | \n",
       "| marginal    | 0.451127820 | 0.426065163 | 0.12280702  |         NA  | \n",
       "\n",
       "\n"
      ],
      "text/plain": [
       "  chol_cat 1           2           3          marginal  \n",
       "1 1        0.250626566 0.162907268 0.03007519 0.44360902\n",
       "2 2        0.195488722 0.255639098 0.09273183 0.54385965\n",
       "3 3        0.005012531 0.007518797         NA 0.01253133\n",
       "4 marginal 0.451127820 0.426065163 0.12280702         NA"
      ]
     },
     "metadata": {},
     "output_type": "display_data"
    }
   ],
   "source": [
    "# Marginal probabilities\n",
    "marginal_df <- compute_marginal_probs('chol_cat', 'age_cat', prop_df)\n",
    "marginal_df"
   ]
  },
  {
   "cell_type": "markdown",
   "metadata": {},
   "source": [
    "### Conditional Probabilities C\n",
    "\n",
    "5.$$P(YoungestAgeCategory | HighestCholesterolCategory) = \\frac{P(Age Category 1, CholesterolCategory3)}{P(CholesterolCategory3)} = 0.03/0.12 = 0.24 $$\n",
    "\n",
    "Given that a sample person is in the highest range of cholesterol, there is only a 24% chance that they are also in the youngest age category."
   ]
  },
  {
   "cell_type": "code",
   "execution_count": null,
   "metadata": {},
   "outputs": [],
   "source": []
  },
  {
   "cell_type": "markdown",
   "metadata": {},
   "source": [
    "### 3. Baye’s Rule\n",
    "\n",
    "Write a function in R that allows you to use the Baye’s rule for multiple events.\n",
    "\n",
    "Use it to calculate the following problem:\n",
    "\n",
    "Different isoforms of fundamental Hormones such as testosterone are relatively associated to behavioral differences in humans such as extreme aggression.  \n",
    "\n",
    "In a study where **75% of the participants had the Isoform A**, and **25% had the isoform B.**:\n",
    "- 54 people exhibited extreme aggression out 95  that had Isoform A, and \n",
    "- 34 people with extreme aggression out of 90 that had the isoform B. \n",
    "\n",
    "Calculate the probability that someone with the isoform A exhibits extreme aggression. \n",
    "Calculate the probability that someone with the isoform B exhibits extreme aggression. "
   ]
  },
  {
   "cell_type": "code",
   "execution_count": null,
   "metadata": {},
   "outputs": [],
   "source": [
    "data()"
   ]
  },
  {
   "cell_type": "code",
   "execution_count": null,
   "metadata": {},
   "outputs": [],
   "source": [
    "# P(Isoform A) = 0.75\n",
    "# P(Isoform B) = 0.25\n",
    "# P(Aggression | Isoform A) = 54/95\n",
    "# P(Aggression | Isoform B) = 34/90\n",
    "\n",
    "# P(Aggression | Isoform A)"
   ]
  },
  {
   "cell_type": "code",
   "execution_count": null,
   "metadata": {},
   "outputs": [],
   "source": [
    "# B - subject has extreme aggression\n",
    "# A_1 - subject had Isoform A\n",
    "# A_2 - subject had Isofrm B\n",
    "\n",
    "# Problem 1:\n",
    "# P(Extreme Agression | Isoform A) = P(B_)"
   ]
  },
  {
   "cell_type": "markdown",
   "metadata": {},
   "source": [
    "We can generalize the Baye's rule to multiple events such as\n",
    "\n",
    "$$ P(A_i \\mid B) = \\frac{P(B \\mid A_i) \\, P(A_i)}{P(B \\mid A_i) P(A_i)+...+P(B \\mid A_n)(P(A_n} $$\n"
   ]
  },
  {
   "cell_type": "code",
   "execution_count": null,
   "metadata": {},
   "outputs": [],
   "source": [
    "bayes_rule = function()"
   ]
  }
 ],
 "metadata": {
  "kernelspec": {
   "display_name": "R",
   "language": "R",
   "name": "ir"
  },
  "language_info": {
   "codemirror_mode": "r",
   "file_extension": ".r",
   "mimetype": "text/x-r-source",
   "name": "R",
   "pygments_lexer": "r",
   "version": "3.3.2"
  }
 },
 "nbformat": 4,
 "nbformat_minor": 2
}
