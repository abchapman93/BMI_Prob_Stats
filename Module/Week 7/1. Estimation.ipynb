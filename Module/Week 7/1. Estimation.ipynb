{
 "cells": [
  {
   "cell_type": "markdown",
   "metadata": {},
   "source": [
    "# Inference"
   ]
  },
  {
   "cell_type": "markdown",
   "metadata": {},
   "source": [
    "### Every time we draw a random sample and perform an inferencial (or even bayesian) test, we cannot explicitly confirm that our null or alternative hypothesis is correct. The most we can say is that there is a probability that this sample reflects in some way the population."
   ]
  },
  {
   "cell_type": "code",
   "execution_count": null,
   "metadata": {
    "collapsed": true
   },
   "outputs": [],
   "source": []
  },
  {
   "cell_type": "markdown",
   "metadata": {},
   "source": [
    "### We reviewed las week our first type of inference that was when we new the mean and variance from the population and we wanted to infer the relationship between a random variable and the population."
   ]
  },
  {
   "cell_type": "code",
   "execution_count": null,
   "metadata": {
    "collapsed": true
   },
   "outputs": [],
   "source": []
  },
  {
   "cell_type": "markdown",
   "metadata": {},
   "source": [
    "### Now we will take a quick overview of some parametric test statistics used to compared distributions"
   ]
  },
  {
   "cell_type": "markdown",
   "metadata": {},
   "source": [
    "### Let's explore the question what is a p-value?"
   ]
  },
  {
   "cell_type": "code",
   "execution_count": null,
   "metadata": {
    "scrolled": true
   },
   "outputs": [],
   "source": [
    "hist(rexp(500))"
   ]
  },
  {
   "cell_type": "code",
   "execution_count": null,
   "metadata": {},
   "outputs": [],
   "source": [
    "hist(rnorm(500))"
   ]
  },
  {
   "cell_type": "code",
   "execution_count": null,
   "metadata": {},
   "outputs": [],
   "source": [
    "eq = replicate(10000, t.test(rnorm(50),rnorm(50))$p.value)##what do we expect??\n",
    "no_eq = replicate(10000, t.test(runif(50),rnorm(50))$p.value)##what do we expect??"
   ]
  },
  {
   "cell_type": "code",
   "execution_count": null,
   "metadata": {},
   "outputs": [],
   "source": [
    "mean(no_eq)\n",
    "mean(eq)"
   ]
  },
  {
   "cell_type": "code",
   "execution_count": null,
   "metadata": {},
   "outputs": [],
   "source": [
    "hist(eq,breaks =25) ###What kind of distribution is this??"
   ]
  },
  {
   "cell_type": "code",
   "execution_count": null,
   "metadata": {},
   "outputs": [],
   "source": [
    "hist(no_eq,breaks =25, ylim = c(0,100))"
   ]
  },
  {
   "cell_type": "markdown",
   "metadata": {},
   "source": [
    "Bottom line is... p-value does not prove your hypothesis regarding a theory, it simply gives a degree of confidence that allows you to analyse your DATA and act accordingly based on this confidence."
   ]
  },
  {
   "cell_type": "markdown",
   "metadata": {},
   "source": [
    "We shouls always do multiple replicates and evaluate the distribution of p-values."
   ]
  },
  {
   "cell_type": "markdown",
   "metadata": {},
   "source": [
    "## Now lets see inference statistics when we compare two samples.\n",
    "\n",
    "### When can we use these tests?\n",
    "\n",
    "- Compare the efficacy between two different drugs \n",
    "- Average time difference between two enzymes activation times\n",
    "- Testing two production lines to see if their outputs are different\n",
    "- Comparing test scores\n"
   ]
  },
  {
   "cell_type": "markdown",
   "metadata": {},
   "source": [
    "## A. Two samples tests when Population Variances Are Equal"
   ]
  },
  {
   "cell_type": "code",
   "execution_count": null,
   "metadata": {},
   "outputs": [],
   "source": [
    "##A study was conducted to compare the weights of shepherd dogs and Bullmastiffs in pounds\n",
    "\n",
    "A= c(175, 168, 168, 190, 156, 181, 182, 175, 174, 179)\n",
    "B= c(185, 169, 173, 173, 188, 186, 175, 174, 179, 180)\n",
    "\n",
    "mean(A) \n",
    "sd(A)\n",
    "mean(B)\n",
    "sd(B)"
   ]
  },
  {
   "cell_type": "code",
   "execution_count": null,
   "metadata": {},
   "outputs": [],
   "source": [
    "boxplot(A,B)"
   ]
  },
  {
   "cell_type": "code",
   "execution_count": null,
   "metadata": {},
   "outputs": [],
   "source": [
    "dA = density(A)\n",
    "dB = density(B)\n",
    "plot(dB)\n",
    "lines(dA, col = \"red\")"
   ]
  },
  {
   "cell_type": "markdown",
   "metadata": {},
   "source": [
    "### First, we need to determine if these samples share the same variances (remember homoskedasticity ?). For this we are going to use a fisher's F test."
   ]
  },
  {
   "cell_type": "code",
   "execution_count": null,
   "metadata": {},
   "outputs": [],
   "source": [
    "var.test(A,B)"
   ]
  },
  {
   "cell_type": "code",
   "execution_count": null,
   "metadata": {},
   "outputs": [],
   "source": [
    "qf(0.95, 9, 9) ###This would be the critical value for the F distribution comparing variances of the two samples"
   ]
  },
  {
   "cell_type": "markdown",
   "metadata": {},
   "source": [
    "### Lets run the two sample t-test"
   ]
  },
  {
   "cell_type": "code",
   "execution_count": null,
   "metadata": {
    "scrolled": true
   },
   "outputs": [],
   "source": [
    "t.test(A,B, var.equal=TRUE, paired=FALSE)"
   ]
  },
  {
   "cell_type": "code",
   "execution_count": null,
   "metadata": {},
   "outputs": [],
   "source": [
    "qt(0.975, 18) ##critical value"
   ]
  },
  {
   "cell_type": "markdown",
   "metadata": {},
   "source": [
    "### Lets look at the statistic"
   ]
  },
  {
   "cell_type": "markdown",
   "metadata": {},
   "source": [
    "$$H_0: \\mu_X = \\mu_Y \\mbox{ vs. } H_1: \\mu_X \\neq \\mu_Y$$\n",
    "\n",
    "\n",
    "$$T=\\frac{\\bar X - \\bar Y -(\\mu_X -\\mu_Y)}{S_p\\sqrt{1/n + 1/m}} \\sim t_{n+m-2}.$$\n",
    "\n",
    "\n",
    "Reject $H_0$ if $|T| > t_{\\alpha/2,n+m-2}$.\n",
    "\n",
    "follows a $t_{n+m−2}$ distribution where $S_p^2$, the pooled sample variance:\n",
    "\n",
    "$$S_p^2 = \\frac{(n-1)S_X^2 + (m-1)S_Y^2}{n+m-2}.$$\n",
    "\n",
    "---"
   ]
  },
  {
   "cell_type": "markdown",
   "metadata": {},
   "source": [
    "## B. Two samples tests when Population Variances Are unequal\n",
    "\n",
    "$$\\sigma_{x}^2 \\neq \\sigma_{y}^2 $$\n",
    "\n",
    "We can use the t statistic\n",
    "\n",
    "$$T=\\frac{\\bar X - \\bar Y -(\\mu_X -\\mu_Y)}{\\sqrt{\\frac{S_{x}^2}{n} + \\frac{S_{y}^2}{m}}} $$\n",
    "\n",
    "#### follows, at least approximately, a tr distribution where r, the adjusted degrees of freedom is determined by the equation:\n",
    "\n",
    "$$ r = \\frac{\\big({\\frac{S_{x}^2}{n} + \\frac{S_{y}^2}{m}}\\big)^2}{\\frac{(\\frac{S_{x}^2}{n})^2}{n-1}+\\frac{(\\frac{S_{y}^2}{m})^2}{m-1}}$$\n"
   ]
  },
  {
   "cell_type": "code",
   "execution_count": null,
   "metadata": {},
   "outputs": [],
   "source": [
    "t.test(A,B, var.equal=FALSE, paired=FALSE)"
   ]
  },
  {
   "cell_type": "markdown",
   "metadata": {},
   "source": [
    "### Example 2: [https://onlinecourses.science.psu.edu/stat414/node/275](https://onlinecourses.science.psu.edu/stat414/node/275)\n",
    "A psychologist was interested in exploring whether or not male and female college students have different driving behaviors. There were a number of ways that she could quantify driving behaviors. She opted to focus on the fastest speed ever driven by an individual. Therefore, the particular statistical question she framed was as follows:\n",
    "\n",
    "          Is the mean fastest speed driven by male college students different than the mean fastest speed driven by female college students?\n",
    "          \n",
    "\n",
    "She conducted a survey of a random n = 34 male college students and a random m = 29 female college students. Here is a descriptive summary of the results of her survey\n",
    "\n",
    "![title](t_test.png)"
   ]
  },
  {
   "cell_type": "markdown",
   "metadata": {},
   "source": [
    "t= 3.56\n",
    "\n",
    "r = 55.5\n",
    "\n",
    "#### Critical value is:\n",
    "t(0.025,55) = 2.004\n",
    "\n",
    "#### P value is \n",
    "2×P($T_{55}$>3.54)\n",
    "\n",
    "=2(0.0004)\n",
    "\n",
    "=0.0008"
   ]
  },
  {
   "cell_type": "code",
   "execution_count": null,
   "metadata": {},
   "outputs": [],
   "source": [
    "2*pt(3.56,55, lower = F) ##P value"
   ]
  },
  {
   "cell_type": "markdown",
   "metadata": {},
   "source": [
    "## C. Paired Samples\n",
    "\n",
    "In this case we will compare two dependent samples:\n",
    "\n",
    "This case applies to cases where we obtain data from the same samples at different time points, or different tests applied to the same subjects.\n",
    "\n"
   ]
  },
  {
   "cell_type": "markdown",
   "metadata": {},
   "source": [
    "### To remove the dependence between the two samples by substracting each set of measurements\n",
    "$$D_i=X_i−Y_i$$\n",
    "\n",
    "$$T=\\frac{\\bar{d} - \\mu_0}{\\frac{S_d}{\\sqrt{n}}} $$ \n",
    "\n",
    "t-distribution with n−1 degrees of freedom"
   ]
  },
  {
   "cell_type": "markdown",
   "metadata": {},
   "source": [
    "### Example:\n",
    "\n",
    "A school athletics has taken a new instructor, and want to test the effectiveness of the new type of training proposed by comparing the average times of 10 runners in the 100 meters. Are below the time in seconds before and after training for each athlete."
   ]
  },
  {
   "cell_type": "code",
   "execution_count": null,
   "metadata": {},
   "outputs": [],
   "source": [
    "Before_training= c( 12.9, 13.5, 12.8, 15.6, 17.2, 19.2, 12.6, 15.3, 14.4, 11.3)\n",
    "After_training = c(12.0, 12.2, 11.2, 13.0, 15.0, 15.8, 12.2, 13.4, 12.9, 11.0)"
   ]
  },
  {
   "cell_type": "code",
   "execution_count": null,
   "metadata": {},
   "outputs": [],
   "source": [
    "boxplot(Before_training,After_training)"
   ]
  },
  {
   "cell_type": "code",
   "execution_count": null,
   "metadata": {},
   "outputs": [],
   "source": [
    "t.test(Before_training,After_training, paired=TRUE)"
   ]
  },
  {
   "cell_type": "markdown",
   "metadata": {},
   "source": [
    "# Whenever we conduct a hypothesis test, we'd like to make sure that it is a test of high quality. \n",
    "\n",
    "To this end, power analysis help us to calculate the probability that the test is of high power. Unfortunately for the sake of time, we wont be reviewing in detail power analysis.\n",
    "\n",
    "Power analysis allows us to evaluate the probability of rejecting the null hypothesis H0 when the alternative hypothesis HA is the hypothesis that is true\n",
    "\n",
    "![title](power.png)\n",
    "\n",
    "Using the power analysis we can also determine the sample size (n) necessary to ensure that the hypothesis test we are conducting has high power. \n",
    "\n",
    "## Important: review the following vignette from the package pwd, which is specialized in calculating power analysis for multiple tests.\n",
    "\n",
    "#### Particularly look at \n",
    "\n",
    "[https://cran.r-project.org/web/packages/pwr/vignettes/pwr-vignette.html](https://cran.r-project.org/web/packages/pwr/vignettes/pwr-vignette.html)"
   ]
  },
  {
   "cell_type": "code",
   "execution_count": 130,
   "metadata": {},
   "outputs": [
    {
     "name": "stdout",
     "output_type": "stream",
     "text": [
      "\n",
      "  There is a binary version available but the source version is later:\n",
      "    binary source needs_compilation\n",
      "pwr  1.2-1  1.2-2             FALSE\n",
      "\n"
     ]
    },
    {
     "name": "stderr",
     "output_type": "stream",
     "text": [
      "installing the source package ‘pwr’\n",
      "\n"
     ]
    }
   ],
   "source": [
    "#install.packages(\"pwr\")"
   ]
  },
  {
   "cell_type": "code",
   "execution_count": 131,
   "metadata": {},
   "outputs": [
    {
     "data": {
      "text/plain": [
       "\n",
       "     Conventional effect size from Cohen (1982) \n",
       "\n",
       "           test = t\n",
       "           size = medium\n",
       "    effect.size = 0.5\n"
      ]
     },
     "metadata": {},
     "output_type": "display_data"
    }
   ],
   "source": [
    "library(pwr)\n",
    "cohen.ES(test = \"t\", size = \"medium\") ##where t is the t test and medium is the effect size that we want to calculate\n",
    "\n",
    "effect size as “the degree to which the null hypothesis is false\n"
   ]
  },
  {
   "cell_type": "markdown",
   "metadata": {},
   "source": [
    "## Effect size can be defined as the degree to which the null hypothesis is false"
   ]
  },
  {
   "cell_type": "code",
   "execution_count": 132,
   "metadata": {},
   "outputs": [
    {
     "data": {
      "text/plain": [
       "\n",
       "     Two-sample t test power calculation \n",
       "\n",
       "              n = 10\n",
       "              d = 0.5\n",
       "      sig.level = 0.05\n",
       "          power = 0.1850957\n",
       "    alternative = two.sided\n",
       "\n",
       "NOTE: n is number in *each* group\n"
      ]
     },
     "metadata": {},
     "output_type": "display_data"
    }
   ],
   "source": [
    "pwr.t.test(n = 10, d = 0.5, sig.level = 0.05)"
   ]
  },
  {
   "cell_type": "code",
   "execution_count": 133,
   "metadata": {},
   "outputs": [
    {
     "data": {
      "text/plain": [
       "\n",
       "     Two-sample t test power calculation \n",
       "\n",
       "              n = 63.76561\n",
       "              d = 0.5\n",
       "      sig.level = 0.05\n",
       "          power = 0.8\n",
       "    alternative = two.sided\n",
       "\n",
       "NOTE: n is number in *each* group\n"
      ]
     },
     "metadata": {},
     "output_type": "display_data"
    }
   ],
   "source": [
    "pwr.t.test(d = 0.5, power = 0.80, sig.level = 0.05) \n",
    "##For a desired power of 80%, Type I error tolerance of 0.05, \n",
    "##and a hypothesized effect size of 0.5, we should sample at least 64 per group."
   ]
  },
  {
   "cell_type": "code",
   "execution_count": 137,
   "metadata": {},
   "outputs": [
    {
     "data": {},
     "metadata": {},
     "output_type": "display_data"
    },
    {
     "data": {
      "image/png": "[encoded data removed]",
      "text/plain": [
       "plot without title"
      ]
     },
     "metadata": {},
     "output_type": "display_data"
    }
   ],
   "source": [
    "t.out <- pwr.t.test(d=0.5,\n",
    "                    sig.level = 0.05, \n",
    "                    power = 0.80, alternative = \"two.sided\")\n",
    "plot(t.out)"
   ]
  },
  {
   "cell_type": "code",
   "execution_count": 136,
   "metadata": {
    "collapsed": true
   },
   "outputs": [],
   "source": [
    "?pwr.t.test()"
   ]
  },
  {
   "cell_type": "code",
   "execution_count": null,
   "metadata": {
    "collapsed": true
   },
   "outputs": [],
   "source": []
  }
 ],
 "metadata": {
  "kernelspec": {
   "display_name": "R",
   "language": "R",
   "name": "ir"
  },
  "language_info": {
   "codemirror_mode": "r",
   "file_extension": ".r",
   "mimetype": "text/x-r-source",
   "name": "R",
   "pygments_lexer": "r",
   "version": "3.3.2"
  }
 },
 "nbformat": 4,
 "nbformat_minor": 2
}
