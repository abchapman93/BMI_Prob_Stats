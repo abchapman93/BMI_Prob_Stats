{
 "cells": [
  {
   "cell_type": "markdown",
   "metadata": {},
   "source": [
    "# Homework Week 6"
   ]
  },
  {
   "cell_type": "markdown",
   "metadata": {},
   "source": [
    "1. Using the data Irish pH data, generate a conditional dotplot, in which you will evaluate the relationship between pH values and the effect of the site being in a forested area or not. \n",
    "\n",
    "(Hint: Create a categorical variable with the Forested variable with two levels (1,2) with labels (Forested, Non-forested), and create the dotchart - see the argument (groups)) - Extracredit, the same dotchart in ggplot2 +1 point from this HW)  "
   ]
  },
  {
   "cell_type": "code",
   "execution_count": null,
   "metadata": {
    "collapsed": true
   },
   "outputs": [],
   "source": []
  },
  {
   "cell_type": "markdown",
   "metadata": {},
   "source": [
    "2. Find the following values: $\\Phi$ represents the area under the curve (from the z table)\n",
    "\n",
    "   a.  P(z < .79) \n",
    "    \n",
    "\tb.  P(z > .79)\n",
    "    \n",
    "\tc.  P(.39 < z <1.39)\n",
    "    \n",
    "\td.  P(.39 $\\leq$ z $\\leq$ 1.39)\n",
    "    \n",
    "\te.  P(z < -0.79)\n",
    "    \n",
    "\tf.  P(z > -.79)\n",
    "    \n",
    "\tg.  P(-.79 < z < 1.39)\n",
    "    \n",
    "\th.  P(-1.39 < z < -.79)\n",
    "    \n",
    "\ti.  P(-1.96 < z < 1.96)\n",
    "    \n",
    "\tj.  $\\Phi$(1.96)\n",
    "    \n",
    "\tk.  $\\Phi$(-1.96)\n",
    "    \n",
    "\tl.  $\\Phi$(-1.08)\n",
    "    \n",
    "\tm.  1-$\\Phi$(1.08)\n",
    "    \n",
    "\tn.  $\\Phi$(z) = .7157\n",
    "    \n",
    "\to.  $\\Phi$(z) = .3974 \n",
    "    "
   ]
  },
  {
   "cell_type": "code",
   "execution_count": null,
   "metadata": {
    "collapsed": true
   },
   "outputs": [],
   "source": []
  },
  {
   "cell_type": "markdown",
   "metadata": {},
   "source": [
    "3. Among females in the US between the ages of 18 and 74, diastolic blood pressure is normally distributed with mean 77 mm Hg and standard deviation of 11.6 mm Hg.  What is the probability that a randomly selected woman has a diastolic blood pressure less than 60 mm Hg?  greater than 90 mm Hg? between 60 and 90 mm Hg?\n",
    "\n",
    "\tX ~ N(77, 134.56)"
   ]
  },
  {
   "cell_type": "code",
   "execution_count": 1,
   "metadata": {
    "collapsed": true
   },
   "outputs": [],
   "source": [
    "#a.\n",
    "#b.\n",
    "#c."
   ]
  },
  {
   "cell_type": "markdown",
   "metadata": {},
   "source": [
    "4.  The distribution of weights for the population of males in the United States is approximately normal with mean = 172.2 pounds and standard deviation of 29.8 lbs.  What is the probability that a randomly selected man weights less than 130 lbs?  More than 210 lbs?  What is the probability that among five males selected at random from the population, at least one will have a weight outside the range 130 to 210 lbs?\n",
    "\t\n",
    "    X ~ N(172.2, 888.04)"
   ]
  },
  {
   "cell_type": "code",
   "execution_count": null,
   "metadata": {
    "collapsed": true
   },
   "outputs": [],
   "source": [
    "#a.\n",
    "#b.\n",
    "#c."
   ]
  }
 ],
 "metadata": {
  "kernelspec": {
   "display_name": "R",
   "language": "R",
   "name": "ir"
  },
  "language_info": {
   "codemirror_mode": "r",
   "file_extension": ".r",
   "mimetype": "text/x-r-source",
   "name": "R",
   "pygments_lexer": "r",
   "version": "3.3.2"
  }
 },
 "nbformat": 4,
 "nbformat_minor": 2
}
