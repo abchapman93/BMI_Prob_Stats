{
 "cells": [
  {
   "cell_type": "markdown",
   "metadata": {},
   "source": [
    "## Homework 3"
   ]
  },
  {
   "cell_type": "markdown",
   "metadata": {},
   "source": [
    "##### 1. \n",
    "let’s assume that two candidates are running in an election for Governor of California. This fictitious election pits Mr. Gubinator vs. Mr. Ventura. We would like to know who is winning the race, and therefore we conduct a poll of likely voters in California. If the poll gives the voters a choice between the two candidates, then the results can be reasonably modeled with the Binomial Distribution. States polls indicate that 62% of the population intend to vote for Mr. Gubinator.\n",
    "\n",
    "\n",
    "Calculate the binomial probabilities, and CF (confidence interval):\n",
    "\n",
    "a. in a random sample of 50 we find 10 likely voters\n",
    "b. in a random sample of 50 we find at least 3 likely voters\n",
    "c. What is the average and standard deviation of the number of voters that we will find in our random sample?\n",
    "d. plot the PMF and CMF from this random sample"
   ]
  },
  {
   "cell_type": "markdown",
   "metadata": {},
   "source": [
    "##### 2. \n",
    "What are all the possible codon arrangements available during translation in genetics? explain"
   ]
  },
  {
   "cell_type": "markdown",
   "metadata": {},
   "source": [
    "##### 3. \n",
    "Find the number of three-digit integers that have either 2 or 7 in the tens digit and 2 in the units digit?"
   ]
  },
  {
   "cell_type": "markdown",
   "metadata": {},
   "source": [
    "##### 4. \n",
    "Write a function in R that calculates nPk and nCk, and answer the following questions keeping in mind the type of arrangement asked (Permutations or combinations):\n",
    "\n",
    "- a. How many ways can we give awards to the first 3 places (gold,silver and bronze) among eight contestants?\n",
    "\n",
    "- b. Claire took 12 photos. She wants to put 5 of them on Facebook. How many groups of photos are possible?\n"
   ]
  },
  {
   "cell_type": "markdown",
   "metadata": {},
   "source": [
    "##### 5. \n",
    "Seven friends went to watch a game. They were supposed to occupy seat numbers 50 to 57. In how many different ways can they do it?"
   ]
  },
  {
   "cell_type": "markdown",
   "metadata": {},
   "source": [
    "##### 6. \n",
    "A famous example of a markov chain is the recruitment probabilities for males in some ivy leave schools in the past, where Harvard, Dartmouth, and Yale admitted only male students. Assume that, at that time, 80 percent of the sons of Harvard men went to Harvard and the rest went to Yale, 40 percent of the sons of Yale men went to Yale, and the rest split evenly between Harvard and Dartmouth; and of the sons of Dartmouth men, 70 percent went to Dartmouth, 20 percent to Harvard, and 10 percent to Yale. \n",
    "\n",
    "Draw the transition matrix, plot the transition diagram and answer:\n",
    "\n",
    "Calculate the probability that a grandson from Yale went to Harvard\n",
    "Draw the transition matrix after 5 generations"
   ]
  },
  {
   "cell_type": "code",
   "execution_count": null,
   "metadata": {
    "collapsed": true
   },
   "outputs": [],
   "source": []
  }
 ],
 "metadata": {
  "kernelspec": {
   "display_name": "R",
   "language": "R",
   "name": "ir"
  },
  "language_info": {
   "codemirror_mode": "r",
   "file_extension": ".r",
   "mimetype": "text/x-r-source",
   "name": "R",
   "pygments_lexer": "r",
   "version": "3.3.2"
  }
 },
 "nbformat": 4,
 "nbformat_minor": 2
}
