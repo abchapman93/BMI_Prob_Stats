{
 "cells": [
  {
   "cell_type": "markdown",
   "metadata": {},
   "source": [
    "### 3. Chain rule"
   ]
  },
  {
   "cell_type": "markdown",
   "metadata": {},
   "source": [
    "The chain product rule is an extension of the conditional probability that allows us to calculate the joint probabilities of multiple events using conditional probabilities. This rule will be greatly used in Bayesian inference.\n",
    "\n",
    "The general equation is\n",
    "\n",
    "$$ Pr\\Bigg(\\bigcap_{k=1}^{n}A_k\\Bigg) =\\prod_{k=1}^{n} \\Bigg(A_k  |  \\bigcap_{j=1}^{n-1}A_j\\Bigg) $$ \n",
    "\n"
   ]
  },
  {
   "cell_type": "markdown",
   "metadata": {},
   "source": [
    "For example, if you have five events A,B,C,D,E\n",
    "\n",
    "P(A,B,C,D,E) = P(A|B,C,D,E) P(B|C,D,E) P(C|D,E) P(D|E) P(E)\n"
   ]
  },
  {
   "cell_type": "markdown",
   "metadata": {},
   "source": [
    "#### Following the example given from wikipedia, we have two urns, Urn 1 has 1 black ball and 2 white balls, and Urn 2 has 1 black ball and 3 white balls, we pick an urn at random and then select a ball from the urn. Event A ( choosing an urn) = P(A) = 1/2, Event B is the chance we select a white ball, the probability of event B depends to which urn we chose, given that we chose the first urn then P(B|A) = 2/3."
   ]
  },
  {
   "cell_type": "markdown",
   "metadata": {},
   "source": [
    "Then Event A,B = P(B|A) P(A) = 2/3 * 1/2 = 1/3"
   ]
  },
  {
   "cell_type": "markdown",
   "metadata": {},
   "source": [
    "Example: In a clinical study there are 100 subjects, 5 of which have a rare genetic condition. If we pick three subjects from the study at random. What is the probability that none of them have the condition?"
   ]
  },
  {
   "cell_type": "markdown",
   "metadata": {},
   "source": [
    "Event A is to choose a subject without the condition.\n",
    "\n",
    "$A_i$ is any of the three events of choosing a subject without the condition.\n",
    "\n",
    "P($A_1 \\bigcap A_2 \\bigcap A_3$)"
   ]
  },
  {
   "cell_type": "markdown",
   "metadata": {},
   "source": [
    "P($A_1) = \\frac{95}{100}$"
   ]
  },
  {
   "cell_type": "markdown",
   "metadata": {},
   "source": [
    "P($A_2 | A1) = \\frac{94}{99}$\n",
    "\n",
    "P($A_3 | A_2,A_1) = \\frac{93}{98}$"
   ]
  },
  {
   "cell_type": "markdown",
   "metadata": {},
   "source": [
    "P($A_1 \\bigcap A_2 \\bigcap A_3) = P(A_1)P(A_2 | A1)P(A_3 | A_2,A_1$)"
   ]
  },
  {
   "cell_type": "markdown",
   "metadata": {},
   "source": [
    "### = 0.8560"
   ]
  },
  {
   "cell_type": "markdown",
   "metadata": {},
   "source": [
    "## 4. Baye's rule\n",
    "\n",
    "$$ P(A \\mid B) = \\frac{P(B \\mid A) \\, P(A)}{P(B)} $$"
   ]
  },
  {
   "cell_type": "markdown",
   "metadata": {},
   "source": [
    "#### Conditional probability is used to find the probability of an event given that one of its possible causes has occurred.\n",
    "\n",
    "## We use Bayes’rule to find the probability of the possible cause given that an event has occurred."
   ]
  },
  {
   "cell_type": "markdown",
   "metadata": {},
   "source": [
    "Baye's theorem has applications in all fields, and it is the basis for bayesian inference as the theorem is used to determine the probabilities of event taking into consideration prior knowledge.\n",
    "\n",
    "Bayes' theorem can be used to determine the accuracy of medical test results by taking into consideration how likely any given person is to have a disease and the general accuracy of the test."
   ]
  },
  {
   "cell_type": "markdown",
   "metadata": {},
   "source": [
    "![title](bayes'rule.png)"
   ]
  },
  {
   "cell_type": "markdown",
   "metadata": {},
   "source": [
    "### Example: \n",
    "We can use the Baye's rule to compare the probability of the diagnostic with the probability of the cause of the disease.\n",
    "\n",
    "Disease = Hypertension, symptom = dizziness\n",
    "P(disease | symptopm) ---> what is the probability of having the disease given the presence or abscence of symptoms.\n",
    "\n",
    "but we normally are interested in the opossite estimation\n",
    "\n",
    "P(symptom | disease) \n",
    "\n",
    "\n"
   ]
  },
  {
   "cell_type": "markdown",
   "metadata": {},
   "source": [
    "Lets say that P(A) = 0.10 which is the probability of a patient of having hypertension , 10% of the patients have hypertension (this is our prior knowledge.\n",
    "\n",
    "#### P(B) = 0.05 means that the patients suffers of dizzines, 5% of the patients in the clinic have some form of dizziness.\n",
    "\n",
    "#### P(B|A)  = 0.07 which is the probability of a patience that is diagnosed with hypertension suffers of dizziness.\n",
    "\n",
    "#### We want to estimate the probability that if the patient suffers from dizziness it is affected by hypertension.\n",
    "\n",
    "#### P(A|B) = (0.07 * 0.1)/0.05 = 0.14"
   ]
  },
  {
   "cell_type": "markdown",
   "metadata": {},
   "source": [
    "### Which means that if a patiente is suffering from dizzines, there is a 14% probability of having hypertension."
   ]
  },
  {
   "cell_type": "markdown",
   "metadata": {},
   "source": [
    "We can generalize the Baye's rule to multiple events such as\n",
    "\n",
    "$$ P(A_i \\mid B) = \\frac{P(B \\mid A_i) \\, P(A_i)}{P(B \\mid A_i) P(A_i)+...+P(B \\mid A_n)(P(A_n} $$\n"
   ]
  },
  {
   "cell_type": "code",
   "execution_count": null,
   "metadata": {
    "collapsed": true
   },
   "outputs": [],
   "source": []
  },
  {
   "cell_type": "markdown",
   "metadata": {},
   "source": [
    "Another way we can use the Baye's theorem is defining A, $A^{c}$ and B\n",
    "$$ P(C \\mid H) = \\frac{P(H \\mid C) \\, P(C)}{P(H \\mid C) P(C)+ P(H \\mid C^{c})(P(C^{c})} $$"
   ]
  },
  {
   "cell_type": "markdown",
   "metadata": {},
   "source": [
    "Example: There are two coins. The first toss is heads and the probability is 1/2, whereas the secon toss is heads with a probability of 1/3. You select a coin at random and toss it. What are the odss that we flipped the first coin?\n",
    "\n",
    "define events\n",
    "\n",
    "p(C) = 1/2 #probability of selecting coins\n",
    "\n",
    "P(H | C) = 1/2 # conditional probability of getting heads if I tossed the first coin\n",
    "\n",
    "p(H | $C^{c}$ = 1/3 # the conditional probability of getting heads but not with the first coin.\n",
    "\n",
    "Remember $C^{c}$ is the complement\n",
    "\n"
   ]
  },
  {
   "cell_type": "markdown",
   "metadata": {},
   "source": [
    "$$ P(C \\mid H) = \\frac{P(H \\mid C) \\, P(C)}{P(H \\mid C) P(C)+ P(H \\mid C^{c})(P(C^{c})} $$"
   ]
  },
  {
   "cell_type": "markdown",
   "metadata": {},
   "source": [
    "= 1/2 * 1/2 / (1/2 * 1/2) + (1/3 * 1/2)\n",
    "= 3/5"
   ]
  },
  {
   "cell_type": "code",
   "execution_count": null,
   "metadata": {
    "collapsed": true
   },
   "outputs": [],
   "source": []
  }
 ],
 "metadata": {
  "kernelspec": {
   "display_name": "R",
   "language": "R",
   "name": "ir"
  },
  "language_info": {
   "codemirror_mode": "r",
   "file_extension": ".r",
   "mimetype": "text/x-r-source",
   "name": "R",
   "pygments_lexer": "r",
   "version": "3.3.2"
  }
 },
 "nbformat": 4,
 "nbformat_minor": 2
}
