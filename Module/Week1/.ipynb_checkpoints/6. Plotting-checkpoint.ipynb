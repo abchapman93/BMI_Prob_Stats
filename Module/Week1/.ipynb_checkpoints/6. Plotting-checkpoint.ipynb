{
 "cells": [
  {
   "cell_type": "markdown",
   "metadata": {},
   "source": [
    "# Plotting\n",
    "\n",
    "####   R has a great built in functionality for advance graphics, but there are also packages for a more specialized and customized experiece.   \n",
    "####   We saw the plotting function from the base package plot(), it will create scatterplots or boxplots depending of the type of data that you are adding.     \n",
    "####   There is a very useful package for high level graphics ggplot2. A good tutorial is found in [http://moderngraphics11.pbworks.com/f/ggplot2-Book09hWickham.pdf](http://moderngraphics11.pbworks.com/f/ggplot2-Book09hWickham.pdf ) "
   ]
  },
  {
   "cell_type": "code",
   "execution_count": null,
   "metadata": {},
   "outputs": [],
   "source": [
    "install.packages(\"ggplot2\")\n",
    "library(ggplot2)\n",
    "ggplot(diamonds, aes(carat, price))+geom_point()+scale_y_log10()"
   ]
  },
  {
   "cell_type": "code",
   "execution_count": null,
   "metadata": {},
   "outputs": [],
   "source": [
    "##same figure on the base package\n",
    "plot(diamonds$carat,log(diamonds$price), pch = 16)"
   ]
  },
  {
   "cell_type": "code",
   "execution_count": null,
   "metadata": {
    "collapsed": true
   },
   "outputs": [],
   "source": []
  }
 ],
 "metadata": {
  "kernelspec": {
   "display_name": "R",
   "language": "R",
   "name": "ir"
  },
  "language_info": {
   "codemirror_mode": "r",
   "file_extension": ".r",
   "mimetype": "text/x-r-source",
   "name": "R",
   "pygments_lexer": "r",
   "version": "3.3.2"
  }
 },
 "nbformat": 4,
 "nbformat_minor": 2
}
