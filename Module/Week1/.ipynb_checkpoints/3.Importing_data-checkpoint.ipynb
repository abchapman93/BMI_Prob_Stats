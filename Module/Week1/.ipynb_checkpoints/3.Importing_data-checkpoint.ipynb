{
 "cells": [
  {
   "cell_type": "markdown",
   "metadata": {},
   "source": [
    "# Importing Data in R"
   ]
  },
  {
   "cell_type": "markdown",
   "metadata": {},
   "source": [
    "### Data can be directly added to inside the environment or can be imported as tables (txt or csv formats, and others)\n",
    "---\n",
    "\n",
    "1. See your working directory\n",
    "1. Set up your working directory with the function setwd()"
   ]
  },
  {
   "cell_type": "code",
   "execution_count": 6,
   "metadata": {},
   "outputs": [
    {
     "data": {
      "text/html": [
       "'/home/abchapman93/BMI_Prob_Stats/Module/Week1'"
      ],
      "text/latex": [
       "'/home/abchapman93/BMI\\_Prob\\_Stats/Module/Week1'"
      ],
      "text/markdown": [
       "'/home/abchapman93/BMI_Prob_Stats/Module/Week1'"
      ],
      "text/plain": [
       "[1] \"/home/abchapman93/BMI_Prob_Stats/Module/Week1\""
      ]
     },
     "metadata": {},
     "output_type": "display_data"
    }
   ],
   "source": [
    "getwd()"
   ]
  },
  {
   "cell_type": "markdown",
   "metadata": {},
   "source": [
    "setwd(\"/path/to/the/directory\")"
   ]
  },
  {
   "cell_type": "markdown",
   "metadata": {},
   "source": [
    "&nbsp; &nbsp; 3. list the files in your current directory."
   ]
  },
  {
   "cell_type": "code",
   "execution_count": 7,
   "metadata": {},
   "outputs": [
    {
     "data": {
      "text/html": [
       "<ol class=list-inline>\n",
       "\t<li>'1.Introduction to R.ipynb'</li>\n",
       "\t<li>'2.Working with R.ipynb'</li>\n",
       "\t<li>'3.Importing_data.ipynb'</li>\n",
       "\t<li>'4.Types of Data.ipynb'</li>\n",
       "\t<li>'5. Working with dataframes.ipynb'</li>\n",
       "\t<li>'6. Plotting.ipynb'</li>\n",
       "\t<li>'BirdMalaria.csv'</li>\n",
       "\t<li>'HumanHemoglobinElevation.csv'</li>\n",
       "\t<li>'Readme'</li>\n",
       "</ol>\n"
      ],
      "text/latex": [
       "\\begin{enumerate*}\n",
       "\\item '1.Introduction to R.ipynb'\n",
       "\\item '2.Working with R.ipynb'\n",
       "\\item '3.Importing\\_data.ipynb'\n",
       "\\item '4.Types of Data.ipynb'\n",
       "\\item '5. Working with dataframes.ipynb'\n",
       "\\item '6. Plotting.ipynb'\n",
       "\\item 'BirdMalaria.csv'\n",
       "\\item 'HumanHemoglobinElevation.csv'\n",
       "\\item 'Readme'\n",
       "\\end{enumerate*}\n"
      ],
      "text/markdown": [
       "1. '1.Introduction to R.ipynb'\n",
       "2. '2.Working with R.ipynb'\n",
       "3. '3.Importing_data.ipynb'\n",
       "4. '4.Types of Data.ipynb'\n",
       "5. '5. Working with dataframes.ipynb'\n",
       "6. '6. Plotting.ipynb'\n",
       "7. 'BirdMalaria.csv'\n",
       "8. 'HumanHemoglobinElevation.csv'\n",
       "9. 'Readme'\n",
       "\n",
       "\n"
      ],
      "text/plain": [
       "[1] \"1.Introduction to R.ipynb\"        \"2.Working with R.ipynb\"          \n",
       "[3] \"3.Importing_data.ipynb\"           \"4.Types of Data.ipynb\"           \n",
       "[5] \"5. Working with dataframes.ipynb\" \"6. Plotting.ipynb\"               \n",
       "[7] \"BirdMalaria.csv\"                  \"HumanHemoglobinElevation.csv\"    \n",
       "[9] \"Readme\"                          "
      ]
     },
     "metadata": {},
     "output_type": "display_data"
    }
   ],
   "source": [
    "list.files()"
   ]
  },
  {
   "cell_type": "markdown",
   "metadata": {},
   "source": [
    "&nbsp; &nbsp; 4. read.table() or read.csv() allows you to import data."
   ]
  },
  {
   "cell_type": "code",
   "execution_count": null,
   "metadata": {},
   "outputs": [],
   "source": []
  },
  {
   "cell_type": "code",
   "execution_count": 8,
   "metadata": {},
   "outputs": [
    {
     "data": {
      "text/html": [
       "<table>\n",
       "<thead><tr><th scope=col>bird</th><th scope=col>treatment</th><th scope=col>response</th></tr></thead>\n",
       "<tbody>\n",
       "\t<tr><td> 1         </td><td>Control    </td><td>Malaria    </td></tr>\n",
       "\t<tr><td> 2         </td><td>Control    </td><td>Malaria    </td></tr>\n",
       "\t<tr><td> 3         </td><td>Control    </td><td>Malaria    </td></tr>\n",
       "\t<tr><td> 4         </td><td>Control    </td><td>Malaria    </td></tr>\n",
       "\t<tr><td> 5         </td><td>Control    </td><td>Malaria    </td></tr>\n",
       "\t<tr><td> 6         </td><td>Control    </td><td>Malaria    </td></tr>\n",
       "\t<tr><td> 7         </td><td>Control    </td><td>Malaria    </td></tr>\n",
       "\t<tr><td> 8         </td><td>Egg removal</td><td>Malaria    </td></tr>\n",
       "\t<tr><td> 9         </td><td>Egg removal</td><td>Malaria    </td></tr>\n",
       "\t<tr><td>10         </td><td>Egg removal</td><td>Malaria    </td></tr>\n",
       "\t<tr><td>11         </td><td>Egg removal</td><td>Malaria    </td></tr>\n",
       "\t<tr><td>12         </td><td>Egg removal</td><td>Malaria    </td></tr>\n",
       "\t<tr><td>13         </td><td>Egg removal</td><td>Malaria    </td></tr>\n",
       "\t<tr><td>14         </td><td>Egg removal</td><td>Malaria    </td></tr>\n",
       "\t<tr><td>15         </td><td>Egg removal</td><td>Malaria    </td></tr>\n",
       "\t<tr><td>16         </td><td>Egg removal</td><td>Malaria    </td></tr>\n",
       "\t<tr><td>17         </td><td>Egg removal</td><td>Malaria    </td></tr>\n",
       "\t<tr><td>18         </td><td>Egg removal</td><td>Malaria    </td></tr>\n",
       "\t<tr><td>19         </td><td>Egg removal</td><td>Malaria    </td></tr>\n",
       "\t<tr><td>20         </td><td>Egg removal</td><td>Malaria    </td></tr>\n",
       "\t<tr><td>21         </td><td>Egg removal</td><td>Malaria    </td></tr>\n",
       "\t<tr><td>22         </td><td>Egg removal</td><td>Malaria    </td></tr>\n",
       "\t<tr><td>23         </td><td>Control    </td><td>No Malaria </td></tr>\n",
       "\t<tr><td>24         </td><td>Control    </td><td>No Malaria </td></tr>\n",
       "\t<tr><td>25         </td><td>Control    </td><td>No Malaria </td></tr>\n",
       "\t<tr><td>26         </td><td>Control    </td><td>No Malaria </td></tr>\n",
       "\t<tr><td>27         </td><td>Control    </td><td>No Malaria </td></tr>\n",
       "\t<tr><td>28         </td><td>Control    </td><td>No Malaria </td></tr>\n",
       "\t<tr><td>29         </td><td>Control    </td><td>No Malaria </td></tr>\n",
       "\t<tr><td>30         </td><td>Control    </td><td>No Malaria </td></tr>\n",
       "\t<tr><td>⋮</td><td>⋮</td><td>⋮</td></tr>\n",
       "\t<tr><td>36         </td><td>Control    </td><td>No Malaria </td></tr>\n",
       "\t<tr><td>37         </td><td>Control    </td><td>No Malaria </td></tr>\n",
       "\t<tr><td>38         </td><td>Control    </td><td>No Malaria </td></tr>\n",
       "\t<tr><td>39         </td><td>Control    </td><td>No Malaria </td></tr>\n",
       "\t<tr><td>40         </td><td>Control    </td><td>No Malaria </td></tr>\n",
       "\t<tr><td>41         </td><td>Control    </td><td>No Malaria </td></tr>\n",
       "\t<tr><td>42         </td><td>Control    </td><td>No Malaria </td></tr>\n",
       "\t<tr><td>43         </td><td>Control    </td><td>No Malaria </td></tr>\n",
       "\t<tr><td>44         </td><td>Control    </td><td>No Malaria </td></tr>\n",
       "\t<tr><td>45         </td><td>Control    </td><td>No Malaria </td></tr>\n",
       "\t<tr><td>46         </td><td>Control    </td><td>No Malaria </td></tr>\n",
       "\t<tr><td>47         </td><td>Control    </td><td>No Malaria </td></tr>\n",
       "\t<tr><td>48         </td><td>Control    </td><td>No Malaria </td></tr>\n",
       "\t<tr><td>49         </td><td>Control    </td><td>No Malaria </td></tr>\n",
       "\t<tr><td>50         </td><td>Control    </td><td>No Malaria </td></tr>\n",
       "\t<tr><td>51         </td><td>Egg removal</td><td>No Malaria </td></tr>\n",
       "\t<tr><td>52         </td><td>Egg removal</td><td>No Malaria </td></tr>\n",
       "\t<tr><td>53         </td><td>Egg removal</td><td>No Malaria </td></tr>\n",
       "\t<tr><td>54         </td><td>Egg removal</td><td>No Malaria </td></tr>\n",
       "\t<tr><td>55         </td><td>Egg removal</td><td>No Malaria </td></tr>\n",
       "\t<tr><td>56         </td><td>Egg removal</td><td>No Malaria </td></tr>\n",
       "\t<tr><td>57         </td><td>Egg removal</td><td>No Malaria </td></tr>\n",
       "\t<tr><td>58         </td><td>Egg removal</td><td>No Malaria </td></tr>\n",
       "\t<tr><td>59         </td><td>Egg removal</td><td>No Malaria </td></tr>\n",
       "\t<tr><td>60         </td><td>Egg removal</td><td>No Malaria </td></tr>\n",
       "\t<tr><td>61         </td><td>Egg removal</td><td>No Malaria </td></tr>\n",
       "\t<tr><td>62         </td><td>Egg removal</td><td>No Malaria </td></tr>\n",
       "\t<tr><td>63         </td><td>Egg removal</td><td>No Malaria </td></tr>\n",
       "\t<tr><td>64         </td><td>Egg removal</td><td>No Malaria </td></tr>\n",
       "\t<tr><td>65         </td><td>Egg removal</td><td>No Malaria </td></tr>\n",
       "</tbody>\n",
       "</table>\n"
      ],
      "text/latex": [
       "\\begin{tabular}{r|lll}\n",
       " bird & treatment & response\\\\\n",
       "\\hline\n",
       "\t  1          & Control     & Malaria    \\\\\n",
       "\t  2          & Control     & Malaria    \\\\\n",
       "\t  3          & Control     & Malaria    \\\\\n",
       "\t  4          & Control     & Malaria    \\\\\n",
       "\t  5          & Control     & Malaria    \\\\\n",
       "\t  6          & Control     & Malaria    \\\\\n",
       "\t  7          & Control     & Malaria    \\\\\n",
       "\t  8          & Egg removal & Malaria    \\\\\n",
       "\t  9          & Egg removal & Malaria    \\\\\n",
       "\t 10          & Egg removal & Malaria    \\\\\n",
       "\t 11          & Egg removal & Malaria    \\\\\n",
       "\t 12          & Egg removal & Malaria    \\\\\n",
       "\t 13          & Egg removal & Malaria    \\\\\n",
       "\t 14          & Egg removal & Malaria    \\\\\n",
       "\t 15          & Egg removal & Malaria    \\\\\n",
       "\t 16          & Egg removal & Malaria    \\\\\n",
       "\t 17          & Egg removal & Malaria    \\\\\n",
       "\t 18          & Egg removal & Malaria    \\\\\n",
       "\t 19          & Egg removal & Malaria    \\\\\n",
       "\t 20          & Egg removal & Malaria    \\\\\n",
       "\t 21          & Egg removal & Malaria    \\\\\n",
       "\t 22          & Egg removal & Malaria    \\\\\n",
       "\t 23          & Control     & No Malaria \\\\\n",
       "\t 24          & Control     & No Malaria \\\\\n",
       "\t 25          & Control     & No Malaria \\\\\n",
       "\t 26          & Control     & No Malaria \\\\\n",
       "\t 27          & Control     & No Malaria \\\\\n",
       "\t 28          & Control     & No Malaria \\\\\n",
       "\t 29          & Control     & No Malaria \\\\\n",
       "\t 30          & Control     & No Malaria \\\\\n",
       "\t ⋮ & ⋮ & ⋮\\\\\n",
       "\t 36          & Control     & No Malaria \\\\\n",
       "\t 37          & Control     & No Malaria \\\\\n",
       "\t 38          & Control     & No Malaria \\\\\n",
       "\t 39          & Control     & No Malaria \\\\\n",
       "\t 40          & Control     & No Malaria \\\\\n",
       "\t 41          & Control     & No Malaria \\\\\n",
       "\t 42          & Control     & No Malaria \\\\\n",
       "\t 43          & Control     & No Malaria \\\\\n",
       "\t 44          & Control     & No Malaria \\\\\n",
       "\t 45          & Control     & No Malaria \\\\\n",
       "\t 46          & Control     & No Malaria \\\\\n",
       "\t 47          & Control     & No Malaria \\\\\n",
       "\t 48          & Control     & No Malaria \\\\\n",
       "\t 49          & Control     & No Malaria \\\\\n",
       "\t 50          & Control     & No Malaria \\\\\n",
       "\t 51          & Egg removal & No Malaria \\\\\n",
       "\t 52          & Egg removal & No Malaria \\\\\n",
       "\t 53          & Egg removal & No Malaria \\\\\n",
       "\t 54          & Egg removal & No Malaria \\\\\n",
       "\t 55          & Egg removal & No Malaria \\\\\n",
       "\t 56          & Egg removal & No Malaria \\\\\n",
       "\t 57          & Egg removal & No Malaria \\\\\n",
       "\t 58          & Egg removal & No Malaria \\\\\n",
       "\t 59          & Egg removal & No Malaria \\\\\n",
       "\t 60          & Egg removal & No Malaria \\\\\n",
       "\t 61          & Egg removal & No Malaria \\\\\n",
       "\t 62          & Egg removal & No Malaria \\\\\n",
       "\t 63          & Egg removal & No Malaria \\\\\n",
       "\t 64          & Egg removal & No Malaria \\\\\n",
       "\t 65          & Egg removal & No Malaria \\\\\n",
       "\\end{tabular}\n"
      ],
      "text/markdown": [
       "\n",
       "bird | treatment | response | \n",
       "|---|---|---|---|---|---|---|---|---|---|---|---|---|---|---|---|---|---|---|---|---|---|---|---|---|---|---|---|---|---|---|---|---|---|---|---|---|---|---|---|---|---|---|---|---|---|---|---|---|---|---|---|---|---|---|---|---|---|---|---|---|\n",
       "|  1          | Control     | Malaria     | \n",
       "|  2          | Control     | Malaria     | \n",
       "|  3          | Control     | Malaria     | \n",
       "|  4          | Control     | Malaria     | \n",
       "|  5          | Control     | Malaria     | \n",
       "|  6          | Control     | Malaria     | \n",
       "|  7          | Control     | Malaria     | \n",
       "|  8          | Egg removal | Malaria     | \n",
       "|  9          | Egg removal | Malaria     | \n",
       "| 10          | Egg removal | Malaria     | \n",
       "| 11          | Egg removal | Malaria     | \n",
       "| 12          | Egg removal | Malaria     | \n",
       "| 13          | Egg removal | Malaria     | \n",
       "| 14          | Egg removal | Malaria     | \n",
       "| 15          | Egg removal | Malaria     | \n",
       "| 16          | Egg removal | Malaria     | \n",
       "| 17          | Egg removal | Malaria     | \n",
       "| 18          | Egg removal | Malaria     | \n",
       "| 19          | Egg removal | Malaria     | \n",
       "| 20          | Egg removal | Malaria     | \n",
       "| 21          | Egg removal | Malaria     | \n",
       "| 22          | Egg removal | Malaria     | \n",
       "| 23          | Control     | No Malaria  | \n",
       "| 24          | Control     | No Malaria  | \n",
       "| 25          | Control     | No Malaria  | \n",
       "| 26          | Control     | No Malaria  | \n",
       "| 27          | Control     | No Malaria  | \n",
       "| 28          | Control     | No Malaria  | \n",
       "| 29          | Control     | No Malaria  | \n",
       "| 30          | Control     | No Malaria  | \n",
       "| ⋮ | ⋮ | ⋮ | \n",
       "| 36          | Control     | No Malaria  | \n",
       "| 37          | Control     | No Malaria  | \n",
       "| 38          | Control     | No Malaria  | \n",
       "| 39          | Control     | No Malaria  | \n",
       "| 40          | Control     | No Malaria  | \n",
       "| 41          | Control     | No Malaria  | \n",
       "| 42          | Control     | No Malaria  | \n",
       "| 43          | Control     | No Malaria  | \n",
       "| 44          | Control     | No Malaria  | \n",
       "| 45          | Control     | No Malaria  | \n",
       "| 46          | Control     | No Malaria  | \n",
       "| 47          | Control     | No Malaria  | \n",
       "| 48          | Control     | No Malaria  | \n",
       "| 49          | Control     | No Malaria  | \n",
       "| 50          | Control     | No Malaria  | \n",
       "| 51          | Egg removal | No Malaria  | \n",
       "| 52          | Egg removal | No Malaria  | \n",
       "| 53          | Egg removal | No Malaria  | \n",
       "| 54          | Egg removal | No Malaria  | \n",
       "| 55          | Egg removal | No Malaria  | \n",
       "| 56          | Egg removal | No Malaria  | \n",
       "| 57          | Egg removal | No Malaria  | \n",
       "| 58          | Egg removal | No Malaria  | \n",
       "| 59          | Egg removal | No Malaria  | \n",
       "| 60          | Egg removal | No Malaria  | \n",
       "| 61          | Egg removal | No Malaria  | \n",
       "| 62          | Egg removal | No Malaria  | \n",
       "| 63          | Egg removal | No Malaria  | \n",
       "| 64          | Egg removal | No Malaria  | \n",
       "| 65          | Egg removal | No Malaria  | \n",
       "\n",
       "\n"
      ],
      "text/plain": [
       "   bird treatment   response  \n",
       "1   1   Control     Malaria   \n",
       "2   2   Control     Malaria   \n",
       "3   3   Control     Malaria   \n",
       "4   4   Control     Malaria   \n",
       "5   5   Control     Malaria   \n",
       "6   6   Control     Malaria   \n",
       "7   7   Control     Malaria   \n",
       "8   8   Egg removal Malaria   \n",
       "9   9   Egg removal Malaria   \n",
       "10 10   Egg removal Malaria   \n",
       "11 11   Egg removal Malaria   \n",
       "12 12   Egg removal Malaria   \n",
       "13 13   Egg removal Malaria   \n",
       "14 14   Egg removal Malaria   \n",
       "15 15   Egg removal Malaria   \n",
       "16 16   Egg removal Malaria   \n",
       "17 17   Egg removal Malaria   \n",
       "18 18   Egg removal Malaria   \n",
       "19 19   Egg removal Malaria   \n",
       "20 20   Egg removal Malaria   \n",
       "21 21   Egg removal Malaria   \n",
       "22 22   Egg removal Malaria   \n",
       "23 23   Control     No Malaria\n",
       "24 24   Control     No Malaria\n",
       "25 25   Control     No Malaria\n",
       "26 26   Control     No Malaria\n",
       "27 27   Control     No Malaria\n",
       "28 28   Control     No Malaria\n",
       "29 29   Control     No Malaria\n",
       "30 30   Control     No Malaria\n",
       "⋮  ⋮    ⋮           ⋮         \n",
       "36 36   Control     No Malaria\n",
       "37 37   Control     No Malaria\n",
       "38 38   Control     No Malaria\n",
       "39 39   Control     No Malaria\n",
       "40 40   Control     No Malaria\n",
       "41 41   Control     No Malaria\n",
       "42 42   Control     No Malaria\n",
       "43 43   Control     No Malaria\n",
       "44 44   Control     No Malaria\n",
       "45 45   Control     No Malaria\n",
       "46 46   Control     No Malaria\n",
       "47 47   Control     No Malaria\n",
       "48 48   Control     No Malaria\n",
       "49 49   Control     No Malaria\n",
       "50 50   Control     No Malaria\n",
       "51 51   Egg removal No Malaria\n",
       "52 52   Egg removal No Malaria\n",
       "53 53   Egg removal No Malaria\n",
       "54 54   Egg removal No Malaria\n",
       "55 55   Egg removal No Malaria\n",
       "56 56   Egg removal No Malaria\n",
       "57 57   Egg removal No Malaria\n",
       "58 58   Egg removal No Malaria\n",
       "59 59   Egg removal No Malaria\n",
       "60 60   Egg removal No Malaria\n",
       "61 61   Egg removal No Malaria\n",
       "62 62   Egg removal No Malaria\n",
       "63 63   Egg removal No Malaria\n",
       "64 64   Egg removal No Malaria\n",
       "65 65   Egg removal No Malaria"
      ]
     },
     "metadata": {},
     "output_type": "display_data"
    }
   ],
   "source": [
    "malaria_bird = read.csv(file = \"BirdMalaria.csv\",header=TRUE, sep=\",\")\n",
    "\n",
    "malaria_bird"
   ]
  },
  {
   "cell_type": "code",
   "execution_count": null,
   "metadata": {
    "collapsed": true
   },
   "outputs": [],
   "source": [
    "str(malaria_bird) ##type of variables in every columns"
   ]
  },
  {
   "cell_type": "code",
   "execution_count": null,
   "metadata": {
    "collapsed": true
   },
   "outputs": [],
   "source": [
    "plot(malaria_bird$treatment, malaria_bird$bird)"
   ]
  },
  {
   "cell_type": "code",
   "execution_count": null,
   "metadata": {
    "collapsed": true
   },
   "outputs": [],
   "source": [
    "plot(malaria_bird$response, malaria_bird$bird)"
   ]
  },
  {
   "cell_type": "markdown",
   "metadata": {},
   "source": [
    "# Exercise 1\n",
    "\n",
    "## Import the file HumanHemoglobinElevation.csv as elev\n",
    " \n",
    "* plot the relationship between elevation and levels of hemoglobin\n",
    "* what can you say about this plot"
   ]
  }
 ],
 "metadata": {
  "kernelspec": {
   "display_name": "R",
   "language": "R",
   "name": "ir"
  },
  "language_info": {
   "codemirror_mode": "r",
   "file_extension": ".r",
   "mimetype": "text/x-r-source",
   "name": "R",
   "pygments_lexer": "r",
   "version": "3.3.2"
  }
 },
 "nbformat": 4,
 "nbformat_minor": 2
}
