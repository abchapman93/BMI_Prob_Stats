{
 "cells": [
  {
   "cell_type": "markdown",
   "metadata": {},
   "source": [
    "# Homework 5"
   ]
  },
  {
   "cell_type": "markdown",
   "metadata": {},
   "source": [
    "### A bulb company company produces high efficient bulbs. The probability a bulb to be defective is 0.01. \n",
    "\n",
    "a. What is the probability that a sample of 300 bulbs will contain exactly 5 defective?<br><br>\n",
    "b. Draw the histogram of probabilities"
   ]
  },
  {
   "cell_type": "code",
   "execution_count": null,
   "metadata": {
    "collapsed": true
   },
   "outputs": [],
   "source": []
  },
  {
   "cell_type": "markdown",
   "metadata": {},
   "source": [
    "### B. X is with mean μ = 40, Find and plot the density distribution with three different standard deviations (2,6,12) (Please draw the curves on the same figure with different colors and a legend) for:\n",
    "\n",
    "a. P(x < 40)<br><br>\n",
    "b. P(x > 21)"
   ]
  },
  {
   "cell_type": "code",
   "execution_count": null,
   "metadata": {
    "collapsed": true
   },
   "outputs": [],
   "source": []
  },
  {
   "cell_type": "code",
   "execution_count": null,
   "metadata": {
    "collapsed": true
   },
   "outputs": [],
   "source": []
  },
  {
   "cell_type": "markdown",
   "metadata": {},
   "source": [
    "### C. The file plant_heights.csv contains the heights for 1000 plants chosen along a altitudinal gradient (from low to high elevation) in a natural park, the aim of the study is to understand canopy density across a gradient. \n",
    "\n",
    "Apply some of the descriptive statistics we have seem so far (histograms, density plots, qqplots) to explain the behavior of the data, write a summary paragraph that gives an initial overview of what you see in this data (are the plants randomly distributed across the gradient? what kind of distribution does the data have and how can you explain it in a biological sense."
   ]
  },
  {
   "cell_type": "code",
   "execution_count": null,
   "metadata": {
    "collapsed": true
   },
   "outputs": [],
   "source": []
  },
  {
   "cell_type": "code",
   "execution_count": null,
   "metadata": {
    "collapsed": true
   },
   "outputs": [],
   "source": []
  }
 ],
 "metadata": {
  "kernelspec": {
   "display_name": "R",
   "language": "R",
   "name": "ir"
  },
  "language_info": {
   "codemirror_mode": "r",
   "file_extension": ".r",
   "mimetype": "text/x-r-source",
   "name": "R",
   "pygments_lexer": "r",
   "version": "3.3.2"
  }
 },
 "nbformat": 4,
 "nbformat_minor": 2
}
