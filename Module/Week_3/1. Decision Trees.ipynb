{
 "cells": [
  {
   "cell_type": "code",
   "execution_count": 2,
   "metadata": {},
   "outputs": [
    {
     "name": "stderr",
     "output_type": "stream",
     "text": [
      "also installing the dependency ‘irlba’\n",
      "\n",
      "Warning message in install.packages(\"igraph\"):\n",
      "“installation of package ‘igraph’ had non-zero exit status”Updating HTML index of packages in '.Library'\n",
      "Making 'packages.html' ... done\n"
     ]
    }
   ],
   "source": [
    "#Before we start lets install these packages that will be necessary for todays work\n",
    "    \n",
    "#install.packages(\"ggplot2\")\n",
    "#install.packages(\"dplyr\")\n",
    "#install.packages(\"reshape2\")\n",
    "#install.packages(\"knitr\")\n",
    "install.packages(\"igraph\")"
   ]
  },
  {
   "cell_type": "markdown",
   "metadata": {},
   "source": [
    "### 1. Decision Trees"
   ]
  },
  {
   "cell_type": "markdown",
   "metadata": {},
   "source": [
    "Let's start with the last question from homework 1."
   ]
  },
  {
   "cell_type": "markdown",
   "metadata": {},
   "source": [
    "Consider a family that has three children. We are interested in the children's genders. Also assume that all eight possible outcomes are equally likely."
   ]
  },
  {
   "cell_type": "markdown",
   "metadata": {},
   "source": [
    "What is the sample space? We can tabulate this by writing out all possible combinations\n",
    "s ={....}"
   ]
  },
  {
   "cell_type": "markdown",
   "metadata": {},
   "source": [
    "We can also use tree graphs to facilitate the analysis of probabilities. Decision trees are greatly use in machine learning for classification and regression in decision analysis. The basic idea is to be able to generate algorithms that behave in a tree-like structure in order to increase model accuracy by simplifying features from the initial structure (root)."
   ]
  },
  {
   "cell_type": "code",
   "execution_count": null,
   "metadata": {},
   "outputs": [],
   "source": [
    "#install.packages(\"dplyr\")\n"
   ]
  },
  {
   "cell_type": "code",
   "execution_count": 3,
   "metadata": {},
   "outputs": [
    {
     "name": "stderr",
     "output_type": "stream",
     "text": [
      "\n",
      "Attaching package: ‘dplyr’\n",
      "\n",
      "The following objects are masked from ‘package:stats’:\n",
      "\n",
      "    filter, lag\n",
      "\n",
      "The following objects are masked from ‘package:base’:\n",
      "\n",
      "    intersect, setdiff, setequal, union\n",
      "\n"
     ]
    }
   ],
   "source": [
    "library(dplyr)"
   ]
  },
  {
   "cell_type": "markdown",
   "metadata": {},
   "source": [
    "In our previous example we can simplify our conditional probability calculations by using tree graphs.\n",
    "\n",
    "Lets generate a tree graph in R and solve the last homework problem."
   ]
  },
  {
   "cell_type": "markdown",
   "metadata": {},
   "source": [
    "#### To generate the tree graph we must first set the tree structure, we will use the R package igraph, however, there are many other packages for analysis and visualization of tree structures."
   ]
  },
  {
   "cell_type": "code",
   "execution_count": 4,
   "metadata": {},
   "outputs": [
    {
     "data": {
      "text/html": [
       "<table>\n",
       "<thead><tr><th scope=col>Package</th><th scope=col>LibPath</th><th scope=col>Version</th><th scope=col>Priority</th><th scope=col>Depends</th><th scope=col>Imports</th><th scope=col>LinkingTo</th><th scope=col>Suggests</th><th scope=col>Enhances</th><th scope=col>License</th><th scope=col>License_is_FOSS</th><th scope=col>License_restricts_use</th><th scope=col>OS_type</th><th scope=col>Archs</th><th scope=col>MD5sum</th><th scope=col>NeedsCompilation</th><th scope=col>Built</th></tr></thead>\n",
       "<tbody>\n",
       "</tbody>\n",
       "</table>\n"
      ],
      "text/latex": [
       "\\begin{tabular}{lllllllllllllllll}\n",
       " Package & LibPath & Version & Priority & Depends & Imports & LinkingTo & Suggests & Enhances & License & License\\_is\\_FOSS & License\\_restricts\\_use & OS\\_type & Archs & MD5sum & NeedsCompilation & Built\\\\\n",
       "\\hline\n",
       "\\end{tabular}\n"
      ],
      "text/markdown": [
       "\n",
       "Package | LibPath | Version | Priority | Depends | Imports | LinkingTo | Suggests | Enhances | License | License_is_FOSS | License_restricts_use | OS_type | Archs | MD5sum | NeedsCompilation | Built | \n",
       "||\n",
       "\n",
       "\n"
      ],
      "text/plain": [
       "     Package LibPath Version Priority Depends Imports LinkingTo Suggests\n",
       "     Enhances License License_is_FOSS License_restricts_use OS_type Archs\n",
       "     MD5sum NeedsCompilation Built"
      ]
     },
     "metadata": {},
     "output_type": "display_data"
    }
   ],
   "source": [
    "installed.packages(\"igraph\")"
   ]
  },
  {
   "cell_type": "code",
   "execution_count": 5,
   "metadata": {},
   "outputs": [
    {
     "ename": "ERROR",
     "evalue": "Error in library(igraph): there is no package called ‘igraph’\n",
     "output_type": "error",
     "traceback": [
      "Error in library(igraph): there is no package called ‘igraph’\nTraceback:\n",
      "1. library(igraph)",
      "2. stop(txt, domain = NA)"
     ]
    }
   ],
   "source": [
    "#install.packages(\"igraph\")\n",
    "library(igraph)"
   ]
  },
  {
   "cell_type": "code",
   "execution_count": 3,
   "metadata": {},
   "outputs": [
    {
     "ename": "ERROR",
     "evalue": "Error in eval(expr, envir, enclos): could not find function \"graph.tree\"\n",
     "output_type": "error",
     "traceback": [
      "Error in eval(expr, envir, enclos): could not find function \"graph.tree\"\nTraceback:\n"
     ]
    }
   ],
   "source": [
    "g <- graph.tree(n = 2^4 - 1, children = 2) \n",
    "#we need four levels including the root (15 nodes), and each parent having two children"
   ]
  },
  {
   "cell_type": "code",
   "execution_count": null,
   "metadata": {},
   "outputs": [],
   "source": [
    "##Lets add the node labels\n",
    "n_l = c(\"B\",\"G\")\n",
    "node_labels <- c(\"\",replicate(7,n_l))"
   ]
  },
  {
   "cell_type": "markdown",
   "metadata": {},
   "source": [
    "### and the edge labels, which in this case will be the probabilities"
   ]
  },
  {
   "cell_type": "code",
   "execution_count": null,
   "metadata": {},
   "outputs": [],
   "source": [
    "edge_labels <- c(\"1/2\")\n",
    "edge_label2 = replicate(14,edge_labels)"
   ]
  },
  {
   "cell_type": "markdown",
   "metadata": {},
   "source": [
    "### Plot it!"
   ]
  },
  {
   "cell_type": "code",
   "execution_count": null,
   "metadata": {},
   "outputs": [],
   "source": [
    "#Assign Color\n",
    "V(g)$color <- \"#C4D8E2\"\n",
    "#V(g)$color[3] <- \"white\"\n",
    "#V(g)$color[4] <- \"green\"\n",
    "\n",
    "#assign position\n",
    "coords <- layout_(g, as_tree())\n",
    "coord2 = matrix(c(-coords[,2],-coords[,1]),ncol = 2)"
   ]
  },
  {
   "cell_type": "code",
   "execution_count": null,
   "metadata": {},
   "outputs": [],
   "source": [
    "plot(g,\n",
    "     layout = coord2,           # draw graph as tree\n",
    "     vertex.size = 20,                  # node size\n",
    "     vertex.color = V(g)$color,          # node color\n",
    "     vertex.label = node_labels,        # node labels\n",
    "     vertex.label.cex = 1,             # node label size\n",
    "     vertex.label.family = \"Helvetica\", # node label family\n",
    "     vertex.label.font = 2,             # node label type (bold)\n",
    "     vertex.label.color = '#000000',    # node label size\n",
    "     edge.label = edge_label2,          # edge labels\n",
    "     edge.label.cex = .7,               # edge label size\n",
    "     edge.label.family = \"Helvetica\",   # edge label family\n",
    "     edge.label.font = 1,               # edge label font type (bold)\n",
    "     edge.label.color = '#000000',      # edge label color\n",
    "     edge.arrow.size = 0.2,              # arrow size\n",
    "     edge.arrow.width = 1              # arrow width\n",
    ")\n",
    "\n"
   ]
  },
  {
   "cell_type": "markdown",
   "metadata": {},
   "source": [
    "Question 1.\n",
    "What is the probability that the three children are girls given that the first child is a girl?"
   ]
  },
  {
   "cell_type": "markdown",
   "metadata": {},
   "source": [
    "In this case we have a conditional probability as we already know that the first child is girl (We will start calling it a prior), which means we exclude all of the side where the first child are boys."
   ]
  },
  {
   "cell_type": "code",
   "execution_count": null,
   "metadata": {},
   "outputs": [],
   "source": [
    "V(g)$color <- \"#C4D8E2\"\n",
    "V(g)$color[c(3)] <- \"green\"\n",
    "V(g)$color[c(2,4,5,8:11)] <- \"black\"\n",
    "\n",
    "plot(g,\n",
    "     layout = coord2,           # draw graph as tree\n",
    "     vertex.size = 20,                  # node size\n",
    "     vertex.color = V(g)$color,          # node color\n",
    "     vertex.label = node_labels,        # node labels\n",
    "     vertex.label.cex = 1,             # node label size\n",
    "     vertex.label.family = \"Helvetica\", # node label family\n",
    "     vertex.label.font = 2,             # node label type (bold)\n",
    "     vertex.label.color = '#000000',    # node label size\n",
    "     edge.label = edge_label2,          # edge labels\n",
    "     edge.label.cex = .7,               # edge label size\n",
    "     edge.label.family = \"Helvetica\",   # edge label family\n",
    "     edge.label.font = 1,               # edge label font type (bold)\n",
    "     edge.label.color = '#000000',      # edge label color\n",
    "     edge.arrow.size = 0.2,              # arrow size\n",
    "     edge.arrow.width = 1              # arrow width\n",
    ")"
   ]
  },
  {
   "cell_type": "markdown",
   "metadata": {},
   "source": [
    "Which means our sample space has changed, it has only 4 possibilities, thanks to the knowledge from our prior. of these 4 possibilities there is one combination where all children are girls."
   ]
  },
  {
   "cell_type": "code",
   "execution_count": null,
   "metadata": {},
   "outputs": [],
   "source": [
    "V(g)$edge.labels = replicate(12,c(\"1/2\"))\n",
    "V(g)$edge.labels[1:2] = \"\"\n",
    "\n",
    "V(g)$color <- \"#C4D8E2\"\n",
    "V(g)$color[c(2,4,5,8:11)] <- \"black\"\n",
    "V(g)$color[c(3)] <- \"green\"\n",
    "V(g)$color[c(7,15)] <- \"yellow\"\n",
    "\n",
    "plot(g,\n",
    "     layout = coord2,           # draw graph as tree\n",
    "     vertex.size = 20,                  # node size\n",
    "     vertex.color = V(g)$color,          # node color\n",
    "     vertex.label = node_labels,        # node labels\n",
    "     vertex.label.cex = 1,             # node label size\n",
    "     vertex.label.family = \"Helvetica\", # node label family\n",
    "     vertex.label.font = 2,             # node label type (bold)\n",
    "     vertex.label.color = '#000000',    # node label size\n",
    "     edge.label = V(g)$edge.labels,          # edge labels\n",
    "     edge.label.cex = .7,               # edge label size\n",
    "     edge.label.family = \"Helvetica\",   # edge label family\n",
    "     edge.label.font = 1,               # edge label font type (bold)\n",
    "     edge.label.color = '#000000',      # edge label color\n",
    "     edge.arrow.size = 0.2,              # arrow size\n",
    "     edge.arrow.width = 1              # arrow width\n",
    ")\n",
    "\n"
   ]
  },
  {
   "cell_type": "markdown",
   "metadata": {},
   "source": [
    "### What is left is simply set the intersection of the two events\n",
    "### 1/2 * 1/2 = 1/4"
   ]
  },
  {
   "cell_type": "markdown",
   "metadata": {
    "collapsed": true
   },
   "source": [
    "We can also calculate this using the conditional probability:\n",
    "p(A) = The three children are girls = 1/8\n",
    "p(B) = The first child is a girl = 1/2\n",
    "\n",
    "p(A|B) = $\\frac {P(A \\bigcap B)}{P(B)}$\n",
    "\n",
    "       "
   ]
  },
  {
   "cell_type": "markdown",
   "metadata": {},
   "source": [
    "$$= \\frac{\\frac{1}{8}}{\\frac{1}{2}}$$"
   ]
  },
  {
   "cell_type": "markdown",
   "metadata": {},
   "source": [
    "$$= \\frac{1}{4}$$"
   ]
  },
  {
   "cell_type": "code",
   "execution_count": null,
   "metadata": {},
   "outputs": [],
   "source": []
  }
 ],
 "metadata": {
  "kernelspec": {
   "display_name": "R",
   "language": "R",
   "name": "ir"
  },
  "language_info": {
   "codemirror_mode": "r",
   "file_extension": ".r",
   "mimetype": "text/x-r-source",
   "name": "R",
   "pygments_lexer": "r",
   "version": "3.3.2"
  }
 },
 "nbformat": 4,
 "nbformat_minor": 2
}
