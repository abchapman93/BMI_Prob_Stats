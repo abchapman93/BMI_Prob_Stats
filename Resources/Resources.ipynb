{
 "cells": [
  {
   "attachments": {},
   "cell_type": "markdown",
   "metadata": {},
   "source": [
    "## Resources\n",
    "\n",
    "#### R books\n",
    "\n",
    "[http://ucanalytics.com/blogs/learn-r-12-books-and-online-resources/](http://ucanalytics.com/blogs/learn-r-12-books-and-online-resources/)\n",
    "\n",
    "R datasets\n",
    "\n",
    "[https://r-dir.com/reference/datasets.html](https://r-dir.com/reference/datasets.html)\n",
    "\n",
    "## Statistic and probability Books (These books are available at the library for online full text reading)\n",
    "\n",
    "\n",
    "Understanding and Applying Basic Statistical Methods Using R\n",
    "Rand R. Wilcox\n",
    "\n",
    "Introduction to Bayesian Statistics\n",
    "William M. Bolstad , and James M. Curran\n",
    "\n",
    "Probability and Random Processes\n",
    "Venkatarama Krishnan , and Kavitha Chandra\n",
    "\n",
    "An Introduction to Probability and Statistics\n",
    "Vijay K. Rohatgi , and A. K. Ehsanes Saleh\n",
    "\n",
    "\n",
    "Probability and Statistics with Reliability, Queuing, and Computer Science Applications, 2nd Edition\n",
    "\n",
    "### MARKOV Chains\n",
    "\n",
    "\n",
    "Quick explanation of markov chains\n",
    "[http://setosa.io/ev/markov-chains/](http://setosa.io/ev/markov-chains/)\n",
    "\n",
    "Package markovchain vignette\n",
    "[https://cran.r-project.org/web/packages/markovchain/vignettes/an_introduction_to_markovchain_package.pdf](https://cran.r-project.org/web/packages/markovchain/vignettes/an_introduction_to_markovchain_package.pdf)\n",
    "\n"
   ]
  },
  {
   "cell_type": "code",
   "execution_count": null,
   "metadata": {
    "collapsed": true
   },
   "outputs": [],
   "source": []
  }
 ],
 "metadata": {
  "kernelspec": {
   "display_name": "R",
   "language": "R",
   "name": "ir"
  },
  "language_info": {
   "codemirror_mode": "r",
   "file_extension": ".r",
   "mimetype": "text/x-r-source",
   "name": "R",
   "pygments_lexer": "r",
   "version": "3.3.2"
  }
 },
 "nbformat": 4,
 "nbformat_minor": 2
}
