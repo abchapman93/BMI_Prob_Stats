{
 "cells": [
  {
   "cell_type": "markdown",
   "metadata": {},
   "source": [
    "# 1. Still Descriptive..."
   ]
  },
  {
   "cell_type": "markdown",
   "metadata": {},
   "source": [
    "# The outliers....\n",
    "\n",
    "![title](Outlier.jpg)"
   ]
  },
  {
   "cell_type": "markdown",
   "metadata": {},
   "source": [
    "The outlier has a value that is far from the bulk of the data (can go on either direction).\n",
    "\n",
    "These outliers are highly damaging as they can drive a particular analysis one way or the other\n",
    "\n",
    "![title](bad_outlier.gif)"
   ]
  },
  {
   "cell_type": "markdown",
   "metadata": {},
   "source": [
    "In Multivariate analysis such as PCA (which we will cover soon) outliers tend to dominate the first main components, thus in some circumstances driving opposite conclusions.\n",
    "\n",
    "However, outliers can have a substantial analytical model, it can point to interesting behaviors of the data, be of biological relevance or illustrate relevant flaws with a particular design. \n",
    "\n",
    "### !!!Do Not Remove Outliers Before Investigating What do they Represent!!!"
   ]
  },
  {
   "cell_type": "markdown",
   "metadata": {},
   "source": [
    "## How to detect outliers!!\n",
    "Graphical means of detecting outliers work the best, let's look at boxplots"
   ]
  },
  {
   "cell_type": "markdown",
   "metadata": {},
   "source": [
    "### Boxplots\n",
    "\n",
    "The boxplot identifies the center of the data (median) and the spread (either variance or standard deviation or the 25% - 75% quartiles. beyond the box usually statistical software draw a line going up and down from the center of the box, these represent 1.5 times the spread. Points or circles beyond these lines represent observations that occur past all these spread measurements.\n",
    "\n"
   ]
  },
  {
   "cell_type": "markdown",
   "metadata": {},
   "source": [
    "#### Let's look at an example.\n",
    "\n",
    "This dataset was used on a study conducted by Cruikshanks et al 2006, the main goal was to identify acid-sensitive water in coastal rives in Ireland. Using pH as a function of SDI (Sodium Dominance Index), the altitude of the site and the presence of absence of forest. Let's look at the boxplot"
   ]
  },
  {
   "cell_type": "code",
   "execution_count": 2,
   "metadata": {
    "collapsed": false
   },
   "outputs": [
    {
     "name": "stderr",
     "output_type": "stream",
     "text": [
      "also installing the dependencies ‘minqa’, ‘nloptr’, ‘RcppEigen’, ‘lme4’, ‘SparseM’, ‘MatrixModels’, ‘pbkrtest’, ‘quantreg’\n",
      "\n"
     ]
    },
    {
     "name": "stdout",
     "output_type": "stream",
     "text": [
      "\n",
      "The downloaded binary packages are in\n",
      "\t/var/folders/4w/71fy66cs0fg7gh1mvdp8x8540000gn/T//Rtmp5p4mOv/downloaded_packages\n"
     ]
    }
   ],
   "source": [
    "install.packages(\"car\")"
   ]
  },
  {
   "cell_type": "code",
   "execution_count": 1,
   "metadata": {
    "collapsed": false
   },
   "outputs": [
    {
     "ename": "ERROR",
     "evalue": "Error in library(car): there is no package called ‘car’\n",
     "output_type": "error",
     "traceback": [
      "Error in library(car): there is no package called ‘car’\nTraceback:\n",
      "1. library(car)",
      "2. stop(txt, domain = NA)"
     ]
    }
   ],
   "source": [
    "IrishpH <- read.table(file = \"IrishpH.txt\",\n",
    "                      header = TRUE,\n",
    "                      dec = \".\")\n",
    "library(car)\n",
    "par(mar = c(5,5,2,2), cex.lab = 1.5)\n",
    "Boxplot(IrishpH$Altitude, ylab = \"Altitude\")\n",
    "stripchart(IrishpH$Altitude, \n",
    "           vertical = TRUE, method = \"jitter\", \n",
    "           pch = 21,add = TRUE,col=rgb(1, 0, 0,0.5)) "
   ]
  },
  {
   "cell_type": "code",
   "execution_count": null,
   "metadata": {
    "collapsed": true,
    "scrolled": true
   },
   "outputs": [],
   "source": [
    "#library(mosaic)\n",
    "favstats(IrishpH$Altitude)"
   ]
  },
  {
   "cell_type": "markdown",
   "metadata": {},
   "source": [
    "We can also should look at all of the variables in our model which will be part of the analysis, to have a good idea of how they will behave. Let’s use another data set, in this case we will use  data use by Ligas (2008). In their study they look at the effect of month and sex on cephalothorax length of the red swamp crayfish *Procambarus clarkii*. They use multiple variables to test their model (weight, sex, month, and sexual maturity of 746 crayfish individuals).\n",
    "\n",
    "We can construct a **conditional boxplot** that evaluates the change of thorax length at different months."
   ]
  },
  {
   "cell_type": "code",
   "execution_count": 3,
   "metadata": {
    "collapsed": true
   },
   "outputs": [],
   "source": [
    "Crayfish <- read.table(file = \"Procambarus.txt\",\n",
    "                         header = TRUE,\n",
    "                         dec = \".\")"
   ]
  },
  {
   "cell_type": "code",
   "execution_count": 4,
   "metadata": {
    "collapsed": false
   },
   "outputs": [
    {
     "data": {
      "text/html": [
       "<table>\n",
       "<thead><tr><th scope=col>Month</th><th scope=col>CTL</th><th scope=col>CW</th><th scope=col>PLdx</th><th scope=col>PWdx</th><th scope=col>PLsx</th><th scope=col>PWsx</th><th scope=col>Weight</th><th scope=col>Sex</th><th scope=col>Maturity</th></tr></thead>\n",
       "<tbody>\n",
       "\t<tr><td>May_04</td><td>47.6  </td><td>19.7  </td><td>23.8  </td><td>17.8  </td><td>  NA  </td><td>  NA  </td><td>23.5  </td><td>f     </td><td>4     </td></tr>\n",
       "\t<tr><td>May_04</td><td>45.1  </td><td>18.6  </td><td>  NA  </td><td>  NA  </td><td>26.0  </td><td> 7.8  </td><td>16.5  </td><td>m     </td><td>2     </td></tr>\n",
       "\t<tr><td>May_04</td><td>59.7  </td><td>26.4  </td><td>39.5  </td><td>15.0  </td><td>40.7  </td><td>14.3  </td><td>50.0  </td><td>f     </td><td>4     </td></tr>\n",
       "\t<tr><td>May_04</td><td>51.2  </td><td>21.4  </td><td>39.1  </td><td>13.6  </td><td>39.5  </td><td>13.8  </td><td>33.0  </td><td>m     </td><td>1     </td></tr>\n",
       "\t<tr><td>May_04</td><td>59.6  </td><td>24.4  </td><td>42.8  </td><td>14.9  </td><td>41.2  </td><td>15.4  </td><td>50.0  </td><td>f     </td><td>4     </td></tr>\n",
       "\t<tr><td>May_04</td><td>44.5  </td><td>18.7  </td><td>24.5  </td><td> 9.2  </td><td>26.9  </td><td> 9.5  </td><td>20.0  </td><td>f     </td><td>3     </td></tr>\n",
       "</tbody>\n",
       "</table>\n"
      ],
      "text/latex": [
       "\\begin{tabular}{r|llllllllll}\n",
       " Month & CTL & CW & PLdx & PWdx & PLsx & PWsx & Weight & Sex & Maturity\\\\\n",
       "\\hline\n",
       "\t May\\_04 & 47.6     & 19.7     & 23.8     & 17.8     &   NA     &   NA     & 23.5     & f        & 4       \\\\\n",
       "\t May\\_04 & 45.1     & 18.6     &   NA     &   NA     & 26.0     &  7.8     & 16.5     & m        & 2       \\\\\n",
       "\t May\\_04 & 59.7     & 26.4     & 39.5     & 15.0     & 40.7     & 14.3     & 50.0     & f        & 4       \\\\\n",
       "\t May\\_04 & 51.2     & 21.4     & 39.1     & 13.6     & 39.5     & 13.8     & 33.0     & m        & 1       \\\\\n",
       "\t May\\_04 & 59.6     & 24.4     & 42.8     & 14.9     & 41.2     & 15.4     & 50.0     & f        & 4       \\\\\n",
       "\t May\\_04 & 44.5     & 18.7     & 24.5     &  9.2     & 26.9     &  9.5     & 20.0     & f        & 3       \\\\\n",
       "\\end{tabular}\n"
      ],
      "text/markdown": [
       "\n",
       "Month | CTL | CW | PLdx | PWdx | PLsx | PWsx | Weight | Sex | Maturity | \n",
       "|---|---|---|---|---|---|\n",
       "| May_04 | 47.6   | 19.7   | 23.8   | 17.8   |   NA   |   NA   | 23.5   | f      | 4      | \n",
       "| May_04 | 45.1   | 18.6   |   NA   |   NA   | 26.0   |  7.8   | 16.5   | m      | 2      | \n",
       "| May_04 | 59.7   | 26.4   | 39.5   | 15.0   | 40.7   | 14.3   | 50.0   | f      | 4      | \n",
       "| May_04 | 51.2   | 21.4   | 39.1   | 13.6   | 39.5   | 13.8   | 33.0   | m      | 1      | \n",
       "| May_04 | 59.6   | 24.4   | 42.8   | 14.9   | 41.2   | 15.4   | 50.0   | f      | 4      | \n",
       "| May_04 | 44.5   | 18.7   | 24.5   |  9.2   | 26.9   |  9.5   | 20.0   | f      | 3      | \n",
       "\n",
       "\n"
      ],
      "text/plain": [
       "  Month  CTL  CW   PLdx PWdx PLsx PWsx Weight Sex Maturity\n",
       "1 May_04 47.6 19.7 23.8 17.8   NA   NA 23.5   f   4       \n",
       "2 May_04 45.1 18.6   NA   NA 26.0  7.8 16.5   m   2       \n",
       "3 May_04 59.7 26.4 39.5 15.0 40.7 14.3 50.0   f   4       \n",
       "4 May_04 51.2 21.4 39.1 13.6 39.5 13.8 33.0   m   1       \n",
       "5 May_04 59.6 24.4 42.8 14.9 41.2 15.4 50.0   f   4       \n",
       "6 May_04 44.5 18.7 24.5  9.2 26.9  9.5 20.0   f   3       "
      ]
     },
     "metadata": {},
     "output_type": "display_data"
    }
   ],
   "source": [
    "head(Crayfish)"
   ]
  },
  {
   "cell_type": "code",
   "execution_count": null,
   "metadata": {
    "collapsed": true
   },
   "outputs": [],
   "source": [
    "#install.packages(\"car\")\n",
    "library(car)\n",
    "Boxplot(CTL ~ Month,\n",
    "        ylab = \"Cephalothorax Length\",\n",
    "        xlab = \"Month\", \n",
    "        data= Crayfish,\n",
    "        main = expression(italic(\"Procambarus clarkii\")))\n",
    "\n",
    "stripchart(CTL ~ Month,data = Crayfish, \n",
    "           vertical = TRUE, method = \"jitter\", \n",
    "           pch = 21, \n",
    "           add = TRUE,col=rgb(1, 0, 0,0.5)) "
   ]
  },
  {
   "cell_type": "markdown",
   "metadata": {},
   "source": [
    "let’s stop for a moment here and review an important extra piece of information that these boxplots also gives us. \n",
    "\n",
    "When we are comparing multiple variables in a parametric statistical test (where normality is assumed), one of the main conditions to be able to compare across variables is that there is **homogeneity of variance (called homoscedasticity)**. This happens when the spread of all values of the population is the same for every value of the covariate. \n",
    "\n",
    "For example: looking at the Crayfish conditional box plot, we see that most of the classes of our variable have a similar patterns of spread, except for the second class (Mar_05) where the variance is much smaller and seems skewed. One quick read to the points spread seems to illustrate that there is low sampling that can be skewing the distribution.\n",
    "\n",
    "There are multiple statistical tests that allows us to test for homogeneity of variances, such as the Bartlett test, the F-ratio test, and the Levene’s test among others."
   ]
  },
  {
   "cell_type": "markdown",
   "metadata": {},
   "source": [
    "#### Another useful visualization technique is the violin plot. It is similar to a box plot with a rotated kernel density plot.\n",
    "\n",
    "Continuing with the Irish water quality dataset, lets construct violong plots to the same data we evaluated before"
   ]
  },
  {
   "cell_type": "code",
   "execution_count": null,
   "metadata": {
    "collapsed": true
   },
   "outputs": [],
   "source": [
    "library(ggplot2)\n",
    "ggplot(data = Crayfish, aes(x = Month, y = CTL)) +\n",
    "  geom_boxplot(alpha = 0.2) +\n",
    "  geom_violin(fill='red', color='red',  alpha=0.4) +\n",
    "  geom_jitter(alpha = 0.6, color = \"black\") + \n",
    "  theme_bw()"
   ]
  },
  {
   "cell_type": "markdown",
   "metadata": {},
   "source": [
    "It is important to note here that there are a lot of missing values. Missing values can also have an effect on the behavior of the data and to our results.\n",
    "\n",
    "We need to understand if the missing values that we have have a biological basis, an artifact of the sampling, or simply clerical errors.\n",
    "\n",
    "We can count the number of missing values with the function is.na in R.\n",
    "\n",
    "How can we deal with zeros in the data??"
   ]
  },
  {
   "cell_type": "code",
   "execution_count": null,
   "metadata": {
    "collapsed": true
   },
   "outputs": [],
   "source": [
    "sum(is.na(Crayfish$CTL))"
   ]
  },
  {
   "cell_type": "markdown",
   "metadata": {},
   "source": [
    "## Cleveland dotplots"
   ]
  },
  {
   "cell_type": "markdown",
   "metadata": {},
   "source": [
    "Another interesting way of looking at the data is using dotplots, which basically we plot the row number of an observation vs the observed value, the y-axis shows how the data is ordered and the x-axis shows the values.\n",
    "\n",
    "Let’s look at the Irish pH dataset again"
   ]
  },
  {
   "cell_type": "code",
   "execution_count": null,
   "metadata": {
    "collapsed": true
   },
   "outputs": [],
   "source": [
    "par(mar = c(5,5,2,2), cex.lab = 1.5, cex.main = 1.5)\n",
    "dotchart(IrishpH$Altitude,\n",
    "         main = \"Altitude\",\n",
    "         ylab = \"Order of the data\",\n",
    "         xlab = \"Range of the data\")\n",
    "           "
   ]
  },
  {
   "cell_type": "code",
   "execution_count": null,
   "metadata": {
    "collapsed": true
   },
   "outputs": [],
   "source": [
    "ggplot(IrishpH, aes(ID,Altitude)) +\n",
    "  geom_point(stat = \"identity\") +\n",
    "  geom_text(data=subset(IrishpH, Altitude > 400),\n",
    "            aes(ID,Altitude,label=Altitude),hjust = -0.2)+\n",
    "  coord_flip()"
   ]
  },
  {
   "cell_type": "markdown",
   "metadata": {},
   "source": [
    "### What to do if you suspect that there are outliers in your data?\n",
    "\n",
    "1. If you are sure they are outliers, remove them\n",
    "2. Run the models with and without the outliers, present this data with analysis.\n",
    "3. Apply a transformation\n",
    "\n",
    "### Transformations\n",
    "\n",
    "Transformations change the dispersion of the data. As the transformation is applied to all elements from the data, there is no problem with biasing the data. \n",
    "\n",
    "There are multiple types of transformation (see here for a complete review [https://www.ncbi.nlm.nih.gov/pmc/articles/PMC3043340/](https://www.ncbi.nlm.nih.gov/pmc/articles/PMC3043340/)\n",
    "The three most used are logarithmic, square root, and reciprocal.\n",
    "\n",
    "We can check the example from the homework."
   ]
  },
  {
   "cell_type": "code",
   "execution_count": null,
   "metadata": {
    "collapsed": true
   },
   "outputs": [],
   "source": [
    "bimodalData_s = read.csv(file = \"plant_heights.csv\",header = T)\n",
    "\n",
    "bimodalData_s$log = log(bimodalData_s$x)\n",
    "bimodalData_s$log10 = log(bimodalData_s$x,10)\n",
    "\n",
    "\n"
   ]
  },
  {
   "cell_type": "code",
   "execution_count": null,
   "metadata": {
    "collapsed": true
   },
   "outputs": [],
   "source": [
    "a = runif(1000)\n",
    "plot(a)\n",
    "hist(a)\n",
    "\n"
   ]
  },
  {
   "cell_type": "code",
   "execution_count": null,
   "metadata": {
    "collapsed": true
   },
   "outputs": [],
   "source": [
    "plot(bimodalData_s$x,seq(1:10000))"
   ]
  },
  {
   "cell_type": "code",
   "execution_count": null,
   "metadata": {
    "collapsed": true
   },
   "outputs": [],
   "source": [
    "d= density(bimodalData_s$x)\n",
    "par(mfrow = c(1,2))\n",
    "plot(d)\n",
    "\n",
    "qqnorm(bimodalData_s$x)"
   ]
  },
  {
   "cell_type": "code",
   "execution_count": null,
   "metadata": {
    "collapsed": true
   },
   "outputs": [],
   "source": [
    "plot(bimodalData_s$log10,seq(1:10000))"
   ]
  },
  {
   "cell_type": "code",
   "execution_count": null,
   "metadata": {
    "collapsed": true,
    "scrolled": true
   },
   "outputs": [],
   "source": [
    "par(mfrow = c(1,3))\n",
    "hist(bimodalData_s$log)\n",
    "\n",
    "d= density(bimodalData_s$log10)\n",
    "plot(d)\n",
    "\n",
    "qqnorm(log(bimodalData_s$x,10))"
   ]
  },
  {
   "cell_type": "markdown",
   "metadata": {},
   "source": [
    "## How can we mathematically detect outliers"
   ]
  },
  {
   "cell_type": "markdown",
   "metadata": {},
   "source": [
    "## Z-score\n",
    "\n"
   ]
  },
  {
   "cell_type": "markdown",
   "metadata": {},
   "source": [
    "STANDARDIZATION – an expression of a raw score in terms of standard deviation units (useful to compare results from data that uses different scales of measurement)\n",
    "\n",
    "THE STANDARD NORMAL CURVE:  N(0,1) is defined as\n",
    "\n",
    "$$ f(x | \\mu, \\sigma^2) = \\frac {1} { \\sqrt {2\\pi}} e^ -{\\frac {({x })^2} {2}} $$\n",
    "\n",
    "with $\\mu = 0$ and $\\sigma = 1$"
   ]
  },
  {
   "cell_type": "markdown",
   "metadata": {},
   "source": [
    "The notation used is Z ~ N(0,1)\n",
    "\n",
    "where $Z = \\frac{X-\\bar{x}}{s}$"
   ]
  },
  {
   "cell_type": "markdown",
   "metadata": {},
   "source": [
    "\n",
    "\n",
    "### Example: \n",
    "\n",
    "We collected data from a sample, and we found that the age distribution had a mean of 49.3 and a variance of  260 (both sides of the curve), standard deviation is sqrt(260) = 12.1245. What is the z-score (standard score of an individual of age 53?\n",
    "\n",
    "\n",
    "X ~ N(49.3, 260)\n",
    "\n",
    "Age of 53 = z $\\frac {53 - 49.3}{16.1245}$ = 0.2294\n",
    "\n",
    "An individual of 53 years of age is approximatelly 0.23 standard deviations above the mean\n",
    "\n",
    "Recall that the area under the curve up to the Z value represents the probability of obtaining that Z value or less, thus for a z = 0.2294, what is the exact area under the curve? looking at the curves below we can say that the probability is at least less than 0.6827, but to get to the exact value we need to look at the z table."
   ]
  },
  {
   "cell_type": "markdown",
   "metadata": {},
   "source": [
    "![title](z_curve.gif)"
   ]
  },
  {
   "cell_type": "markdown",
   "metadata": {},
   "source": [
    "This z table represents the CDF cumulative distribution for the z scores, to calculate the area under the curve to the left of a particular value, we search the table on the right (Table of Standard Normal Probabilities for Positive Z-scores), for 0.2294 then we have an area of 0.5871. which means that about 59% of the ages are below this subject's. \n",
    "\n",
    "If we want to know the area between the mean and the z-score, simply subtract 0.5 to to the total area from the table. In this case\n",
    "0.58 - 0.50 = 0.08 (which is the deviation from the mean).\n",
    "\n",
    "If we want to know the area right from the z-score we substract 1 to the area obtained from the table.\n",
    "1- 0.58 = 0.42 (42% of ages are above this subjet's age)\n",
    "\n",
    "#NOTE - or simply"
   ]
  },
  {
   "cell_type": "code",
   "execution_count": null,
   "metadata": {
    "collapsed": true
   },
   "outputs": [],
   "source": [
    "pnorm(53,49.3,16.12)"
   ]
  },
  {
   "cell_type": "markdown",
   "metadata": {},
   "source": [
    "![title](z-table.jpg)"
   ]
  },
  {
   "cell_type": "code",
   "execution_count": null,
   "metadata": {
    "collapsed": true
   },
   "outputs": [],
   "source": []
  }
 ],
 "metadata": {
  "kernelspec": {
   "display_name": "R",
   "language": "R",
   "name": "ir"
  },
  "language_info": {
   "codemirror_mode": "r",
   "file_extension": ".r",
   "mimetype": "text/x-r-source",
   "name": "R",
   "pygments_lexer": "r",
   "version": "3.4.1"
  }
 },
 "nbformat": 4,
 "nbformat_minor": 2
}
