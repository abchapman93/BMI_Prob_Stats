{
 "cells": [
  {
   "cell_type": "markdown",
   "metadata": {},
   "source": [
    "## 4. Probability operations"
   ]
  },
  {
   "cell_type": "markdown",
   "metadata": {},
   "source": [
    "#### A. Containment:  A set A is contained in another set B if every element of set A also belongs to set B.\n",
    "\n",
    "is notated: A $\\subset $ B; which means A is a subset of B\n",
    "\n",
    "![title](300px-Venn_A_subset_B.svg.png)"
   ]
  },
  {
   "cell_type": "markdown",
   "metadata": {},
   "source": [
    "Example: \n",
    "\n",
    "In the dye example lets define the events A and B,\n",
    "\n",
    "What is the sample space?\n",
    "\n",
    "$\\Omega$ = ??\n",
    "\n",
    "A = {2,4,6}.\n",
    "\n",
    "B = $\\Omega \\geq $ 1 \n",
    "\n",
    "\n",
    "\n"
   ]
  },
  {
   "cell_type": "markdown",
   "metadata": {},
   "source": [
    "then A $\\subset $ B\n",
    " \n",
    "#### Empty set is a subset that does not contain elements (or negative values) - in some instances these are impossible Events (negative numbers on rolling a dye)- \n",
    "\n",
    "A = $\\varnothing$"
   ]
  },
  {
   "cell_type": "markdown",
   "metadata": {},
   "source": [
    "* ***"
   ]
  },
  {
   "cell_type": "markdown",
   "metadata": {},
   "source": [
    "#### B. Complement: \"The complement of a set A is defined to be the set that contains all elements of the sample space S that do not belong to A. The notation for the complement of A is $A^c$\" (DeGroot and Schervish, 2012).\n",
    "\n",
    "![title](complement_image.png)\n",
    "\n",
    "In our preview example what is the complement of the Event A?\n",
    "\n",
    "$A^c$ = \n",
    "\n",
    "The subset A is mutually exclusive with regards to the elements of its compliment $A^c$\n",
    "\n",
    "How to find complements in R?"
   ]
  },
  {
   "cell_type": "code",
   "execution_count": 1,
   "metadata": {},
   "outputs": [
    {
     "data": {
      "text/html": [
       "<ol class=list-inline>\n",
       "\t<li>2</li>\n",
       "\t<li>4</li>\n",
       "\t<li>6</li>\n",
       "</ol>\n"
      ],
      "text/latex": [
       "\\begin{enumerate*}\n",
       "\\item 2\n",
       "\\item 4\n",
       "\\item 6\n",
       "\\end{enumerate*}\n"
      ],
      "text/markdown": [
       "1. 2\n",
       "2. 4\n",
       "3. 6\n",
       "\n",
       "\n"
      ],
      "text/plain": [
       "[1] 2 4 6"
      ]
     },
     "metadata": {},
     "output_type": "display_data"
    }
   ],
   "source": [
    "ome = c(1,2,3,4,5,6)\n",
    "A = c(2,4,6)\n",
    "\n",
    "##Which is the same as##\n",
    "\n",
    "A = ome[which(ome %% 2 == 0)]\n",
    "A"
   ]
  },
  {
   "cell_type": "code",
   "execution_count": null,
   "metadata": {},
   "outputs": [],
   "source": [
    "setdiff(ome, A)"
   ]
  },
  {
   "cell_type": "markdown",
   "metadata": {},
   "source": [
    "Genetics Exercise"
   ]
  },
  {
   "cell_type": "code",
   "execution_count": null,
   "metadata": {
    "collapsed": true
   },
   "outputs": [],
   "source": []
  },
  {
   "cell_type": "markdown",
   "metadata": {},
   "source": [
    "### C. Addition rule: If A and B are disjoint = P(A $\\bigcap$ B) = 0, then the probability of at least one occurs (or) is the sum of the individual probabilities.\n",
    "\n",
    "![title](addition.png)\n",
    "\n",
    "### P(A $\\bigcup$ B) = P(A OR B) = P(A) + P(B) only if A and B are disjoint\t \n",
    "\n",
    "Two events cannot happen at the same time (e.g. in one experiment we can have only heads or tails but not both). If events A and B are disjoint then they have no outcomes in common that is A $\\bigcap$ B = 0\n",
    "\n",
    "\n",
    "$$ Pr \\Bigg(\\bigcup_{i=1}^{\\infty}A_i\\Bigg) =\\sum_{i=1}^{\\infty} Pr(A_i) $$\n",
    "\n",
    "Exercise:\n",
    "\n",
    "In a pet store, there are 6 puppies, 9 kittens, 4 gerbils and 7 parakeets. If a pet is chosen at random, what is the probability of choosing a puppy or a parakeet?"
   ]
  },
  {
   "cell_type": "code",
   "execution_count": null,
   "metadata": {
    "collapsed": true
   },
   "outputs": [],
   "source": []
  },
  {
   "cell_type": "markdown",
   "metadata": {},
   "source": [
    "Exercise 2: What is the probability that a card is a 2 or a 8"
   ]
  },
  {
   "cell_type": "code",
   "execution_count": null,
   "metadata": {
    "collapsed": true
   },
   "outputs": [],
   "source": []
  },
  {
   "cell_type": "markdown",
   "metadata": {},
   "source": [
    "### If the events are not mutually exclusive (there is some overlap between these events) \n",
    "\n",
    "\n",
    "P(A $\\bigcup$ B) = P(A) + P(B) - P(A and B) \n",
    "\n",
    "P(A and B) = P(A $\\bigcap$ B)\n",
    "\n",
    "The reason we have to subtract off P(A and B) is that otherwise it gets counted twice. For example, if I flip two coins, the chance of getting at least one tails is 1/2 + 1/2 - 1/4. I have to subtract 1/4 because otherwise I am counting heads-heads twice. The problem becomes even clearer if I toss three coins. \n",
    "\n",
    "e.g.\n",
    "\n",
    "Exercise 1: If I roll two dice, what is the chance of rolling at least one 6?"
   ]
  },
  {
   "cell_type": "code",
   "execution_count": null,
   "metadata": {
    "collapsed": true
   },
   "outputs": [],
   "source": []
  },
  {
   "cell_type": "markdown",
   "metadata": {},
   "source": [
    "Exercise 2: probability of rolling a number less than 3 and odd"
   ]
  },
  {
   "cell_type": "code",
   "execution_count": null,
   "metadata": {
    "collapsed": true
   },
   "outputs": [],
   "source": []
  },
  {
   "cell_type": "markdown",
   "metadata": {},
   "source": [
    "#### Other examples of not mutually exclusive events:\n",
    "\n",
    "A student female or chemistry major\n",
    "\n",
    "Blood donor O or male"
   ]
  },
  {
   "cell_type": "markdown",
   "metadata": {},
   "source": [
    "### D. Intersection of two events (Multiplication rule): \n",
    "\n",
    "When we need to calculate the probability of two events, when they are independent or mutually exclusive (Two events, A and B, are independent if the fact that A occurs does not affect the probability of B occurring)\n",
    "\n",
    "##### Sampling with replacement\n",
    "\n",
    "P(A and B) = P(A) * P(B)  - When events are mutually exclusive\n",
    "\n",
    "\n",
    "example: turn coin three times (3 trials)\n",
    "\n",
    "each turn has a probability of 1/2 of being heads or tails.\n",
    "\n",
    "\n",
    "\n",
    "##### Exercise: If I roll 100 dice, what is the chance of getting all sixes? What is the chance of getting no sixes?"
   ]
  },
  {
   "cell_type": "code",
   "execution_count": null,
   "metadata": {},
   "outputs": [],
   "source": [
    "(1/6)^100\n",
    "(5/6)^100"
   ]
  },
  {
   "cell_type": "markdown",
   "metadata": {},
   "source": [
    "When are events not independent?? \n",
    "\n",
    "Is the probability of being born at a particular day of the year (in 1978) dependent or independent?"
   ]
  },
  {
   "cell_type": "code",
   "execution_count": null,
   "metadata": {},
   "outputs": [],
   "source": [
    "install.packages(\"mosaicData\")\n",
    "install.packages(\"mosaic\")\n",
    "\n",
    "library(lattice)\n",
    "\n",
    "library(mosaicData)\n",
    "library(mosaic)\n"
   ]
  },
  {
   "cell_type": "code",
   "execution_count": null,
   "metadata": {
    "collapsed": true
   },
   "outputs": [],
   "source": [
    "xyplot(births ~ dayofyear, data = Births78)"
   ]
  },
  {
   "cell_type": "code",
   "execution_count": null,
   "metadata": {},
   "outputs": [],
   "source": [
    "xyplot(births ~ dayofyear, data=Births78, groups=dayofyear%%7,\n",
    "       auto.key=list(space=\"right\"))"
   ]
  },
  {
   "cell_type": "markdown",
   "metadata": {},
   "source": [
    "### E. Two events are dependent if the outcome or occurrence of the first event affects the outcome or occurrence of the second event so that the overall probability is changed.\n",
    "\n",
    "Sampling with replacement\n",
    "\n",
    "Multiplication Rule 2: When two events, A and B, are dependent, the probability of both occurring is:\n",
    "\n",
    "P (A and B) = p(A) * P(B|A) (probability of event B given that event A has already occurred)\n",
    "\n",
    "##### Example:\n",
    "\n",
    "A card is chosen at random from a standard deck of 52 playing cards. Without replacing it, a second card is chosen. What is the probability that the first card chosen is a queen and the second card chosen is a jack?\n",
    "\n",
    "4/52 * 4/51"
   ]
  },
  {
   "cell_type": "markdown",
   "metadata": {},
   "source": [
    "## F. Conditional Probability\n",
    "\n",
    "The conditional probability of an event B in relationship to an event A is the probability that event B occurs given that event A has already occurred.\n",
    "\n",
    "The formula for the Conditional Probability of an event can be derived from Multiplication Rule 2 as follows:\n",
    "\n",
    "       Start with Multiplication Rule 2.\n",
    "\n",
    "       Divide both sides of equation by P(A).\n",
    "\n",
    "       Cancel P(A)s on right-hand side of equation.\n",
    "\n",
    "       Commute the equation.\n",
    "\n",
    "       We have derived the formula for conditional probability"
   ]
  },
  {
   "cell_type": "markdown",
   "metadata": {},
   "source": [
    "$$P(A|B) = \\frac{P(A and B)}{P(B)}$$"
   ]
  },
  {
   "cell_type": "markdown",
   "metadata": {},
   "source": [
    "#### Exercise: A math teacher gave her class two tests. 25% of the class passed both tests and 42% of the class passed the first test. What percent of those who passed the first test also passed the second test?"
   ]
  },
  {
   "cell_type": "code",
   "execution_count": null,
   "metadata": {
    "collapsed": true
   },
   "outputs": [],
   "source": []
  },
  {
   "cell_type": "markdown",
   "metadata": {},
   "source": [
    "Exercise 2: I roll a fair die twice and obtain two numbers X1= result of the first roll and X2= result of the second roll. Given that I know X1+X2=7, what is the probability that X1=4 or X2=4?"
   ]
  },
  {
   "cell_type": "markdown",
   "metadata": {},
   "source": [
    "Let A be the event that X1=4 or X2=4 and B be the event that X1+X2=7. We are interested in P(A|B), so we can use"
   ]
  },
  {
   "cell_type": "markdown",
   "metadata": {},
   "source": [
    "$$P(A|B) = \\frac{P(A and B)}{P(B)}$$"
   ]
  },
  {
   "cell_type": "markdown",
   "metadata": {},
   "source": [
    "We note that\n",
    "\n",
    "A={(4,1),(4,2),(4,3),(4,4),(4,5),(4,6),(1,4),(2,4),(3,4),(4,4),(5,4),(6,4)},\n",
    "\n",
    "B={(6,1),(5,2),(4,3),(3,4),(2,5),(1,6)},\n",
    "\n",
    "A∩B={(4,3),(3,4)}."
   ]
  },
  {
   "cell_type": "code",
   "execution_count": null,
   "metadata": {
    "collapsed": true
   },
   "outputs": [],
   "source": []
  }
 ],
 "metadata": {
  "kernelspec": {
   "display_name": "R",
   "language": "R",
   "name": "ir"
  },
  "language_info": {
   "codemirror_mode": "r",
   "file_extension": ".r",
   "mimetype": "text/x-r-source",
   "name": "R",
   "pygments_lexer": "r",
   "version": "3.3.2"
  }
 },
 "nbformat": 4,
 "nbformat_minor": 2
}
