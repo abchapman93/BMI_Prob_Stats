{
 "cells": [
  {
   "cell_type": "markdown",
   "metadata": {},
   "source": [
    "## Homework 2"
   ]
  },
  {
   "cell_type": "markdown",
   "metadata": {},
   "source": [
    "### 1. Generate a tree graph that represents flipping a coin 4 times,  let A be the event “the first outcome is tails” , B the event “ the second outcome is head” and C the event “the third outcome is tails” calculate \n",
    "\n",
    "p(AUBUC) = P (A U B U C) = P(A) + P(B) + P(C) - P(A ∩ B) - P(A ∩ C) - P(B ∩ C) + P(A ∩ B ∩ C)"
   ]
  },
  {
   "cell_type": "code",
   "execution_count": null,
   "metadata": {},
   "outputs": [],
   "source": []
  },
  {
   "cell_type": "code",
   "execution_count": null,
   "metadata": {},
   "outputs": [],
   "source": []
  },
  {
   "cell_type": "code",
   "execution_count": null,
   "metadata": {},
   "outputs": [],
   "source": []
  },
  {
   "cell_type": "markdown",
   "metadata": {},
   "source": [
    "### 2. From the Dataset Diabetes, construct contingency tables for the following variable combinations:\n",
    "\n",
    "A: location Vs gender\n",
    "B: Gender Vs frame\n",
    "C: Gender Vs Age (Convert age to an discrete ordinal variable with three categories)\n",
    "D: Cholesterol Vs Age (Convert age and cholesterol to an discrete ordinal variable with three categories)\n",
    "\n",
    "calculate the joint and marginal probabilities, and from the above contingency tables choose 5 conditional probability examples with the probabilities calculations and one or two sentences explaining the results."
   ]
  },
  {
   "cell_type": "markdown",
   "metadata": {},
   "source": [
    "### 3. Baye’s Rule\n",
    "\n",
    "Write a function in R that allows you to use the Baye’s rule for multiple events.\n",
    "\n",
    "Use it to calculate the following problem:\n",
    "\n",
    "Different isoforms of fundamental Hormones such as testosterone are relatively associated to behavioral differences in humans such as extreme aggression.  In a study where 75 % of the participants had the Isoform A, and 25 % had the isoform B. 54 people exhibited extreme aggression out 95  that had Isoform A, and 34 people with extreme aggression out of 90 that had the isoform B. \n",
    "\n",
    "Calculate the probability that someone with the isoform A exhibits extreme aggression. \n",
    "Calculate the probability that someone with the isoform B exhibits extreme aggression. "
   ]
  },
  {
   "cell_type": "code",
   "execution_count": null,
   "metadata": {},
   "outputs": [],
   "source": []
  }
 ],
 "metadata": {
  "kernelspec": {
   "display_name": "R",
   "language": "R",
   "name": "ir"
  },
  "language_info": {
   "codemirror_mode": "r",
   "file_extension": ".r",
   "mimetype": "text/x-r-source",
   "name": "R",
   "pygments_lexer": "r",
   "version": "3.3.2"
  }
 },
 "nbformat": 4,
 "nbformat_minor": 2
}
