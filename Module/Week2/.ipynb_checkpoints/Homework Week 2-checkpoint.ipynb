{
 "cells": [
  {
   "cell_type": "markdown",
   "metadata": {},
   "source": [
    "## Homework"
   ]
  },
  {
   "cell_type": "markdown",
   "metadata": {},
   "source": [
    "### 1. History of Probability\n",
    "It is said that de Mere had been betting that, in four rolls of a die, at least one six would turn up. He was winning consistently and, to get more people to play, he changed the game to bet that, in 24 rolls of two dice, a pair of sixes would turn up. It is claimed that de Mere lost with 24 and felt that 25 rolls were necessary to make the game favorable. It was un grand scandale that mathematics was wrong."
   ]
  },
  {
   "cell_type": "code",
   "execution_count": 71,
   "metadata": {},
   "outputs": [],
   "source": [
    "#1. Write function to sample from die\n",
    "#2. Write loop or function to tally sucess vs failure (define sucess?)\n",
    "#3. Run 10000 trials\n",
    "#4. Calculate probabilities for 24 rolls and 25 rolls"
   ]
  },
  {
   "cell_type": "code",
   "execution_count": 74,
   "metadata": {},
   "outputs": [
    {
     "data": {
      "text/html": [
       "<ol class=list-inline>\n",
       "\t<li>4</li>\n",
       "\t<li>6</li>\n",
       "</ol>\n"
      ],
      "text/latex": [
       "\\begin{enumerate*}\n",
       "\\item 4\n",
       "\\item 6\n",
       "\\end{enumerate*}\n"
      ],
      "text/markdown": [
       "1. 4\n",
       "2. 6\n",
       "\n",
       "\n"
      ],
      "text/plain": [
       "[1] 4 6"
      ]
     },
     "metadata": {},
     "output_type": "display_data"
    }
   ],
   "source": [
    "die_toss = function(n=2) {\n",
    "    #' Returns an `n` integer sample\n",
    "    #' between 1 and 6\n",
    "    return(sample(1:6, n, replace=TRUE))\n",
    "}\n",
    "\n",
    "d = die_toss()\n",
    "d"
   ]
  },
  {
   "cell_type": "code",
   "execution_count": 77,
   "metadata": {},
   "outputs": [],
   "source": [
    "replicate_experiment = function(num_rolls, num_trials=10000) {\n",
    "    trials = replicate(num_trials, demere_two(num_rolls))\n",
    "    return(length(trials[trials == 'TRUE']) / num_trials)\n",
    "    trials = character(num_trials)\n",
    "    \n",
    "    for (i in 1:num_trials) {\n",
    "        trials[i] = demere_two(num_rolls)\n",
    "        if (trials[i] != \"TRUE\")\n",
    "            trials[i] = \"FALSE\"\n",
    "        }\n",
    "    \n",
    "    #print(trials)\n",
    "    return(length(trials[trials == 'TRUE']) / num_trials)\n",
    "}\n",
    "\n",
    "demere_two = function(num_rolls) {\n",
    "    for (j in 1:num_rolls) {\n",
    "        toss = die_toss(n=2)\n",
    "        if (toss[1] == 6 && toss[2] == 6) {\n",
    "            return(\"TRUE\")\n",
    "        }\n",
    "    }\n",
    "    return(\"FALSE\")\n",
    "}"
   ]
  },
  {
   "cell_type": "code",
   "execution_count": 81,
   "metadata": {},
   "outputs": [
    {
     "name": "stdout",
     "output_type": "stream",
     "text": [
      "[1] \"Probability of getting at least one 6 with 24 rolls:  0.5009\"\n"
     ]
    }
   ],
   "source": [
    "success = replicate_experiment(24)\n",
    "print(paste(\"Probability of getting at least one 6 with 24 rolls: \", success))"
   ]
  },
  {
   "cell_type": "code",
   "execution_count": 83,
   "metadata": {},
   "outputs": [
    {
     "name": "stdout",
     "output_type": "stream",
     "text": [
      "[1] \"Probability of getting at least one 6 with 25 rolls:  0.5085\"\n"
     ]
    }
   ],
   "source": [
    "success = replicate_experiment(25)\n",
    "print(paste(\"Probability of getting at least one 6 with 25 rolls: \", success))"
   ]
  },
  {
   "cell_type": "markdown",
   "metadata": {},
   "source": [
    "## 2. Addition rule\n",
    "\n",
    "#### Find the probabilities using the table\n",
    "\n",
    "\n",
    "> 1. Type O or AB. - **0.44**\n",
    "\n",
    "> 2. Type A or AB. - **0.56**\n",
    "\n",
    "> 3. Type AB or Rh negative. - **0.76**\n",
    "\n",
    "> 4. Type O and Negative.  - **0.02**\n",
    "\n",
    "> 5. Type AB - **0.4**"
   ]
  },
  {
   "cell_type": "markdown",
   "metadata": {},
   "source": [
    "|Type     |O    |A    |B    |AB |Total |\n",
    "|:--------|:----|:----|:---------|:-------|:-----|\n",
    "|Positive |163  |662  |1513      |1603    |3941  |\n",
    "|Negative |224  |933  |2400      |2337    |5894  |\n",
    "|Total    |387  |1595 |3913      |3940    |9835  |\n"
   ]
  },
  {
   "cell_type": "markdown",
   "metadata": {},
   "source": [
    "### 3. Multiplication Rule\n",
    "\n",
    "##### From this exercises: If I roll 5 dice, what is the chance of getting all sixes? What is the chance of getting no sixes?\n",
    "\n",
    "Write a simulation in R to obtain the probabilities for each of these two exercises running 10000 trials\n",
    "\n",
    "Hint.\n",
    "\n",
    "Remember that the change to get all 6 in 5 rolls is $(1/6)^5$\n",
    "\n",
    "and to get no sixes is $(5/6)^5$\n"
   ]
  },
  {
   "cell_type": "code",
   "execution_count": 10,
   "metadata": {},
   "outputs": [],
   "source": [
    "#All sixes\n",
    "#1. Write function to sample from die\n",
    "#2. Write function to determine if in each 5 rolls we get all sixes (6*5) \n",
    "#3. Run 10000 trials - Hint check sapply function\n",
    "#4. Calculate probability\n",
    "\n",
    "#No sixes\n",
    "\n",
    "#1. Write function to sample from die - - Hint check sapply function -\n",
    "#2. Write function to determine if in each 5 rolls we get no sixes (6*5)\n",
    "#3. Run 10000 trials \n",
    "#4. Calculate probability"
   ]
  },
  {
   "cell_type": "code",
   "execution_count": 85,
   "metadata": {},
   "outputs": [],
   "source": [
    "die_toss = function(n=2) {\n",
    "    #' Returns an `n` integer sample\n",
    "    #' between 1 and 6\n",
    "    return(sample(1:6, n, replace=TRUE))\n",
    "}"
   ]
  },
  {
   "cell_type": "code",
   "execution_count": 87,
   "metadata": {},
   "outputs": [],
   "source": [
    "is_all_or_no_sixes = function(n=5, all_sixes=TRUE) {\n",
    "    # Get a sample of die rolls\n",
    "    rolls = die_toss(n)\n",
    "    # Create a vector of booleans of whether each element is 6\n",
    "    bools = lapply(rolls, FUN=function(x) x == 6)\n",
    "                   \n",
    "    # We want either 0 or 6 TRUE's, depending on all_sixes\n",
    "    if (all_sixes)\n",
    "        num_to_compare = n\n",
    "    else\n",
    "        num_to_compare = 0\n",
    "        \n",
    "    return (length(bools[bools == TRUE]) == num_to_compare)\n",
    "}\n"
   ]
  },
  {
   "cell_type": "code",
   "execution_count": 88,
   "metadata": {},
   "outputs": [
    {
     "name": "stdout",
     "output_type": "stream",
     "text": [
      "[1] \"Probability of getting five 6's:  1e-04\"\n"
     ]
    }
   ],
   "source": [
    "trials_positive = replicate(10000, is_all_or_no_sixes(n=5, all_sixes=TRUE))\n",
    "num_success = length(trials_positive[trials_positive == TRUE])/10000\n",
    "print(paste(\"Probability of getting five 6's: \", num_success))"
   ]
  },
  {
   "cell_type": "code",
   "execution_count": 90,
   "metadata": {},
   "outputs": [
    {
     "name": "stdout",
     "output_type": "stream",
     "text": [
      "[1] \"Probability of getting no 6's:  0.3998\"\n"
     ]
    }
   ],
   "source": [
    "trials_negative = replicate(10000, is_all_or_no_sixes(all_sixes=FALSE))\n",
    "num_no_sixes = length(trials_positive[trials_negative == TRUE])/10000\n",
    "print(paste(\"Probability of getting no 6's: \", num_no_sixes))"
   ]
  },
  {
   "cell_type": "markdown",
   "metadata": {},
   "source": [
    "### 4. Conditional Probability\n",
    "\n",
    "Consider a family that has three children. We are interested in the children's genders. Our sample space is S={(G,G,G),(G,G,B),(G,B,G),(G,B,B),(B,G,G),(B,G,B),(B,B,G),(B,B,B)}. Also assume that all eight possible outcomes are equally likely.\n",
    "\n",
    "1. What is the probability that the three children are girls given that the first child is a girl?\n",
    "\n",
    "2. What is the probability that At least two children are boys given that the first child is a boy?"
   ]
  },
  {
   "cell_type": "code",
   "execution_count": 91,
   "metadata": {},
   "outputs": [
    {
     "data": {
      "text/html": [
       "0.25"
      ],
      "text/latex": [
       "0.25"
      ],
      "text/markdown": [
       "0.25"
      ],
      "text/plain": [
       "[1] 0.25"
      ]
     },
     "metadata": {},
     "output_type": "display_data"
    }
   ],
   "source": [
    "# 1. P(3 girls | first is girl)\n",
    "\n",
    "# P(3 girls and first is a girl)\n",
    "numerator = 1\n",
    "# P(the first is a girl)\n",
    "denom = 4\n",
    "\n",
    "condit_prob = numerator / denom\n",
    "condit_prob"
   ]
  },
  {
   "cell_type": "code",
   "execution_count": 92,
   "metadata": {},
   "outputs": [
    {
     "data": {
      "text/html": [
       "0.75"
      ],
      "text/latex": [
       "0.75"
      ],
      "text/markdown": [
       "0.75"
      ],
      "text/plain": [
       "[1] 0.75"
      ]
     },
     "metadata": {},
     "output_type": "display_data"
    }
   ],
   "source": [
    "# 2. P(2 boys | first is boy)\n",
    "\n",
    "# P(2 boys and first is boy)\n",
    "numerator = 3\n",
    "# P(first is a boy)\n",
    "denom = 4\n",
    "\n",
    "condit_prob = numerator / denom\n",
    "condit_prob"
   ]
  }
 ],
 "metadata": {
  "kernelspec": {
   "display_name": "R",
   "language": "R",
   "name": "ir"
  }
 },
 "nbformat": 4,
 "nbformat_minor": 2
}
