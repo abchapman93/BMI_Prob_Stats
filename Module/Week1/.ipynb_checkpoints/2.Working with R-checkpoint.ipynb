{
 "cells": [
  {
   "cell_type": "markdown",
   "metadata": {},
   "source": [
    "# Working with R\n",
    "\n",
    ">R as a default has a base package that contains many operational, mathematical, statistical, and graphical functions that are sufficient to start working immediately. However, R has a great user contribution platform with thousands of packages directed toward specific applications"
   ]
  },
  {
   "cell_type": "markdown",
   "metadata": {},
   "source": [
    "## How to install an R package.\n",
    "\n",
    "* From Rstudio\n",
    "* directly from the command line \n",
    "\t\n",
    "\tinstall.packages(\"Package.name\")"
   ]
  },
  {
   "cell_type": "markdown",
   "metadata": {},
   "source": [
    "For more info on installing packages see [http://jtleek.com/modules/01_DataScientistToolbox/02_09_installingRPackages/#1](http://jtleek.com/modules/01_DataScientistToolbox/02_09_installingRPackages/#1)"
   ]
  },
  {
   "cell_type": "code",
   "execution_count": 1,
   "metadata": {},
   "outputs": [
    {
     "name": "stderr",
     "output_type": "stream",
     "text": [
      "Updating HTML index of packages in '.Library'\n",
      "Making 'packages.html' ... done\n"
     ]
    }
   ],
   "source": [
    "install.packages(\"lattice\")"
   ]
  },
  {
   "cell_type": "markdown",
   "metadata": {},
   "source": [
    "### Once a package is installed you need to load it at each new session to have it active"
   ]
  },
  {
   "cell_type": "code",
   "execution_count": 2,
   "metadata": {},
   "outputs": [],
   "source": [
    "library(lattice)"
   ]
  },
  {
   "cell_type": "markdown",
   "metadata": {},
   "source": [
    "### The function demo is a good way to see what the package is capable of \n",
    "* Not all packages have a built in demo\n",
    "\n",
    "#### To see which installed packages have demos you can run the command"
   ]
  },
  {
   "cell_type": "code",
   "execution_count": 3,
   "metadata": {},
   "outputs": [],
   "source": [
    "demo(package = .packages(all.available = TRUE))"
   ]
  },
  {
   "cell_type": "code",
   "execution_count": null,
   "metadata": {
    "collapsed": true
   },
   "outputs": [],
   "source": [
    "demo(lattice)"
   ]
  },
  {
   "cell_type": "markdown",
   "metadata": {},
   "source": [
    "## Packages that are widely used\n",
    "\n",
    "### See [https://awesome-r.com/index.html](https://awesome-r.com/index.html) for a great website with the latest and most used R packages\n",
    "\n",
    "    Examples of some R packages\n",
    "    \n",
    "* tidyverse (A collection of packages that work together for data manipulation and representation ([https://github.com/tidyverse/tidyverse](https://github.com/tidyverse/tidyverse)\n",
    "    * ggplot2 (graphics)\n",
    "    * dplyr (data manipulation)\n",
    "    * tydr (data tyding)\n",
    "* data.table (for fast importing, processing and manipulation of files (csv,txt, others))\n",
    "* foreign (data conversion from common statistical packages stata, SPSS, SAS, others)\n",
    "\n",
    "#### Packages for biomedical research\n",
    "\n",
    "* Cluster (cluster analysis)\n"
   ]
  },
  {
   "cell_type": "markdown",
   "metadata": {},
   "source": [
    "## Next [Importing data](./3.Importing_data.ipynb) "
   ]
  }
 ],
 "metadata": {
  "kernelspec": {
   "display_name": "R",
   "language": "R",
   "name": "ir"
  },
  "language_info": {
   "codemirror_mode": "r",
   "file_extension": ".r",
   "mimetype": "text/x-r-source",
   "name": "R",
   "pygments_lexer": "r",
   "version": "3.3.2"
  }
 },
 "nbformat": 4,
 "nbformat_minor": 2
}
