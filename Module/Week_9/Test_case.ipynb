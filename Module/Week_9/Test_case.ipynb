{
 "cells": [
  {
   "cell_type": "markdown",
   "metadata": {},
   "source": [
    "# Test Case\n",
    "\n",
    "In order to understand a little better how to utilize unsupervised machine learning algorithms we will runa test case that comes from the final project presented by out TA Soyoung An and Yisurai Du for BMI 6018 Intro to Programming\n",
    "\n",
    "The project title is: \n",
    "### Relationship between amount of 911 calls and characteristics of townships in Montgomery County in Pennsylvania\n",
    "\n",
    "The main goal of the project is to try to understand the factors associated to 911 calls in the Montgomery Count in Pennsylvania.\n",
    "\n",
    "There are 4 predictors included:\n",
    "\n",
    "Levels of education (high - low)\n",
    "employment (yes - no)\n",
    "race (White - others)\n",
    "income (quantitative)\n",
    "\n",
    "The data that we will use is a set already collected and prepared. The data is also normalized by the population size for each township (total of 67 townships)"
   ]
  },
  {
   "cell_type": "code",
   "execution_count": null,
   "metadata": {},
   "outputs": [],
   "source": [
    "library(tidyverse)  # data manipulation\n",
    "library(cluster)    # clustering algorithms\n",
    "library(factoextra)\n",
    "library(dendextend)\n",
    "library(psych)\n",
    "\n",
    "\n",
    "calls = read.csv(file = \"911calls.csv\")\n",
    "row.names(calls) = calls$twp\n",
    "\n"
   ]
  },
  {
   "cell_type": "code",
   "execution_count": null,
   "metadata": {},
   "outputs": [],
   "source": [
    "calls = calls[,-1]\n",
    "head(calls)"
   ]
  },
  {
   "cell_type": "markdown",
   "metadata": {},
   "source": [
    "## First, let's see how correlated are the variables among each other and specially with 911 calls"
   ]
  },
  {
   "cell_type": "code",
   "execution_count": null,
   "metadata": {},
   "outputs": [],
   "source": [
    "round(cor(calls),4)\n",
    "pairs.panels(calls)"
   ]
  },
  {
   "cell_type": "code",
   "execution_count": null,
   "metadata": {
    "collapsed": true
   },
   "outputs": [],
   "source": [
    "distance_calls <- get_dist(scaled_df)\n",
    "fviz_dist(distance_calls, gradient = list(low = \"#00AFBB\", mid = \"white\", high = \"#FC4E07\"))\n"
   ]
  },
  {
   "cell_type": "markdown",
   "metadata": {},
   "source": [
    "Let's start by examining the data using a PCA to see if we can use PCs in order to minimize the number of dimensions."
   ]
  },
  {
   "cell_type": "code",
   "execution_count": null,
   "metadata": {},
   "outputs": [],
   "source": [
    "####PCA###\n",
    "apply(calls, 2, var)\n",
    "scaled_df <- apply(calls, 2, scale)\n",
    "head(scaled_df)\n",
    "row.names(scaled_df) = row.names(calls)\n",
    "glimpse(scaled_df)"
   ]
  },
  {
   "cell_type": "code",
   "execution_count": null,
   "metadata": {},
   "outputs": [],
   "source": [
    "round(cor(scaled_df),4)\n",
    "pairs.panels(scaled_df)"
   ]
  },
  {
   "cell_type": "code",
   "execution_count": null,
   "metadata": {
    "collapsed": true
   },
   "outputs": [],
   "source": [
    "##Should we eliminate this outlier??"
   ]
  },
  {
   "cell_type": "code",
   "execution_count": null,
   "metadata": {},
   "outputs": [],
   "source": [
    "arrests.cov <- cov(scaled_df)\n",
    "arrests.eigen <- eigen(arrests.cov)\n",
    "str(arrests.eigen)\n",
    "\n",
    "(phi <- arrests.eigen$vectors[,1:4])\n",
    "\n",
    "phi <- -phi\n",
    "row.names(phi) <- c(\"rate_high_edu\", \"rate_call_911\", \"rate_emp\", \"rate_Race_w\", \"income\")\n",
    "colnames(phi) <- c(\"PC1\", \"PC2\",\"PC3\",\"PC4\")\n",
    "phi\n",
    "\n",
    "PC1 <- as.matrix(scaled_df) %*% phi[,1]\n",
    "PC2 <- as.matrix(scaled_df) %*% phi[,2]\n",
    "PC3 <- as.matrix(scaled_df) %*% phi[,3]\n",
    "PC4 <- as.matrix(scaled_df) %*% phi[,4]\n",
    "\n",
    "# Create data frame with Principal Components scores\n",
    "PC <- data.frame(State = row.names(scaled_df), PC1, PC2, PC3, PC4)\n",
    "head(PC)\n",
    "\n",
    "ggplot(PC, aes(PC1, PC2)) + \n",
    "  modelr::geom_ref_line(h = 0) +\n",
    "  modelr::geom_ref_line(v = 0) +\n",
    "  geom_point() +\n",
    "  #geom_text(aes(label = State), size = 3) +\n",
    "  xlab(\"First Principal Component\") + \n",
    "  ylab(\"Second Principal Component\") + \n",
    "  ggtitle(\"First Two Principal Components of USArrests Data\")\n"
   ]
  },
  {
   "cell_type": "code",
   "execution_count": null,
   "metadata": {},
   "outputs": [],
   "source": [
    "PVE <- arrests.eigen$values / sum(arrests.eigen$values)\n",
    "round(PVE, 2)"
   ]
  },
  {
   "cell_type": "code",
   "execution_count": null,
   "metadata": {},
   "outputs": [],
   "source": [
    "pca_result <- prcomp(scaled_df, scale = TRUE)\n",
    "names(pca_result)"
   ]
  },
  {
   "cell_type": "code",
   "execution_count": null,
   "metadata": {},
   "outputs": [],
   "source": [
    "pca_result$x <- - pca_result$x\n",
    "head(pca_result$x)\n",
    "\n",
    "biplot(pca_result, scale = 0, cex = 0.5)"
   ]
  },
  {
   "cell_type": "markdown",
   "metadata": {},
   "source": [
    "## Let's use the k-means technique to split the data based on similarities accross variables"
   ]
  },
  {
   "cell_type": "code",
   "execution_count": null,
   "metadata": {},
   "outputs": [],
   "source": [
    "###K-Means###\n",
    "\n",
    "k3 <- kmeans(scaled_df, centers = 4, nstart = 25)\n",
    "k3$cluster\n",
    "PC$Kmeans = k3$cluster\n",
    "PC$Kmeans = as.factor(PC$Kmeans)\n",
    "clusters_one = PC[PC$Kmeans == 1,] \n",
    "clusters_two = PC[PC$Kmeans == 2,] \n",
    "clusters_three = PC[PC$Kmeans == 3,] \n",
    "clusters_four = PC[PC$Kmeans == 4,] \n",
    "\n",
    "\n"
   ]
  },
  {
   "cell_type": "code",
   "execution_count": null,
   "metadata": {},
   "outputs": [],
   "source": [
    "ggplot(PC, aes(PC1, PC2,color = Kmeans)) + \n",
    "  modelr::geom_ref_line(h = 0) +\n",
    "  modelr::geom_ref_line(v = 0) +\n",
    "  geom_point() +\n",
    "  #geom_text(aes(label = State), size = 3) +\n",
    "  xlab(\"First Principal Component\") + \n",
    "  ylab(\"Second Principal Component\") + \n",
    "  ggtitle(\"First Two Principal Components of 911 call rates Montgomery County Pennsylvania\")"
   ]
  },
  {
   "cell_type": "code",
   "execution_count": null,
   "metadata": {},
   "outputs": [],
   "source": [
    "scaled_df_K = cbind(scaled_df,PC$Kmeans)\n",
    "scaled_df_K = as.data.frame(scaled_df_K)\n",
    "\n",
    "\n",
    "high = scaled_df_K[scaled_df_K$V6==1,]\n",
    "high = high[,1:5]\n",
    "round(cor(high),4)\n",
    "pairs.panels(high)\n",
    "\n"
   ]
  },
  {
   "cell_type": "code",
   "execution_count": null,
   "metadata": {},
   "outputs": [],
   "source": [
    "Low = scaled_df_K[scaled_df_K$V6==3,]\n",
    "Low = Low[,1:5]\n",
    "round(cor(Low),4)\n",
    "pairs.panels(Low)"
   ]
  },
  {
   "cell_type": "code",
   "execution_count": null,
   "metadata": {},
   "outputs": [],
   "source": [
    "mid = scaled_df_K[scaled_df_K$V6==4,]\n",
    "mid = mid[,1:5]\n",
    "round(cor(mid),4)\n",
    "pairs.panels(mid)"
   ]
  },
  {
   "cell_type": "markdown",
   "metadata": {},
   "source": [
    "## Finally, let's compare the k-means approach to the hierarchichal clustering approach"
   ]
  },
  {
   "cell_type": "code",
   "execution_count": null,
   "metadata": {},
   "outputs": [],
   "source": [
    "##Hierarchical Clustering\n",
    "\n",
    "# Dissimilarity matrix\n",
    "d <- dist(scaled_df, method = \"euclidean\")\n",
    "\n",
    "# Hierarchical clustering using Complete Linkage\n",
    "hc1 <- hclust(d, method = \"complete\" )\n",
    "\n",
    "# Plot the obtained dendrogram\n",
    "plot(hc1, cex = 0.6, hang = -1)"
   ]
  },
  {
   "cell_type": "code",
   "execution_count": null,
   "metadata": {},
   "outputs": [],
   "source": [
    "# methods to assess\n",
    "m <- c( \"average\", \"single\", \"complete\", \"ward\")\n",
    "names(m) <- c( \"average\", \"single\", \"complete\", \"ward\")\n",
    "\n",
    "# function to compute coefficient\n",
    "ac <- function(x) {\n",
    "  agnes(scaled_df, method = x)$ac\n",
    "}\n",
    "\n",
    "map_dbl(m, ac)"
   ]
  },
  {
   "cell_type": "code",
   "execution_count": null,
   "metadata": {},
   "outputs": [],
   "source": [
    "hc3 <- agnes(scaled_df, method = \"ward\")\n",
    "pltree(hc3, cex = 0.6, hang = -1, main = \"Dendrogram of agnes\") "
   ]
  },
  {
   "cell_type": "code",
   "execution_count": null,
   "metadata": {},
   "outputs": [],
   "source": [
    "pltree(hc3, cex = 0.6, hang = -1, main = \"Dendrogram of agnes\")\n",
    "rect.hclust(hc3, k = 5)"
   ]
  },
  {
   "cell_type": "code",
   "execution_count": null,
   "metadata": {},
   "outputs": [],
   "source": [
    "row.names(Low)"
   ]
  },
  {
   "cell_type": "code",
   "execution_count": null,
   "metadata": {},
   "outputs": [],
   "source": [
    "row.names(high)"
   ]
  },
  {
   "cell_type": "code",
   "execution_count": null,
   "metadata": {},
   "outputs": [],
   "source": [
    "row.names(mid)"
   ]
  },
  {
   "cell_type": "code",
   "execution_count": null,
   "metadata": {},
   "outputs": [],
   "source": [
    "fviz_cluster(list(data = scaled_df_K, cluster = scaled_df_K$V6))"
   ]
  },
  {
   "cell_type": "code",
   "execution_count": null,
   "metadata": {},
   "outputs": [],
   "source": [
    "fviz_nbclust(scaled_df, FUN = hcut, method = \"wss\")"
   ]
  },
  {
   "cell_type": "code",
   "execution_count": null,
   "metadata": {
    "collapsed": true
   },
   "outputs": [],
   "source": []
  }
 ],
 "metadata": {
  "kernelspec": {
   "display_name": "R",
   "language": "R",
   "name": "ir"
  },
  "language_info": {
   "codemirror_mode": "r",
   "file_extension": ".r",
   "mimetype": "text/x-r-source",
   "name": "R",
   "pygments_lexer": "r",
   "version": "3.3.2"
  }
 },
 "nbformat": 4,
 "nbformat_minor": 2
}
