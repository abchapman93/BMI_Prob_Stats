{
 "cells": [
  {
   "cell_type": "markdown",
   "metadata": {},
   "source": [
    "## Discrete Distributions\n",
    "\n",
    "In a random experiment we can have two types of events discrete or continuous, we will start by describing different types of discrete events. To describe this events we can use mathematical functions f(x), that gives us the different probabilities for each possible outcome in a trial or a number of trials.\n",
    "\n",
    "These functions for the discrete distributions are named Probability Mass Functions (PMF) "
   ]
  },
  {
   "cell_type": "markdown",
   "metadata": {},
   "source": [
    "## Probability Mass Function (PMF)\n",
    "\n",
    "Probability Mass Functions can be described as the probability each random variables, where all elements of the function that describe the distribution of the data (which can be represented graphically and/or in tabular form). This function has three properties\n",
    "\n",
    "\n",
    "1. P(X = x) = f(x) > 0 if x $\\in$ S\n",
    "\n",
    "\n",
    "2. $ \\sum_{x\\in S}f(x) = 1 $\n",
    "\n",
    "\n",
    "3. $ P(X \\in A) = \\sum_{x\\in S}f(x)$\n",
    "\n",
    "\n",
    "Property 3 means that to find the probability of any event A, you must sum the probabilities of the x values in A"
   ]
  },
  {
   "cell_type": "markdown",
   "metadata": {},
   "source": [
    "#### PMFs can be represented in multiple ways (tabular, graphical or mathematically)."
   ]
  },
  {
   "cell_type": "markdown",
   "metadata": {},
   "source": [
    "Example:\n",
    "\n",
    "In a class we count the number of siblings for each student. Lets define x as the number of siblings (a random variable) = {0,1,2,3}. We obtained this result\n",
    "\n",
    "PMF = \n",
    "\n",
    "\n",
    "|X      |0    |1    |2    |3    |\n",
    "|:------|:----|:----|:----|:----|\n",
    "|p(X)   |0.35 |0.40 |0.20 |0.05 |\n",
    "\n"
   ]
  },
  {
   "cell_type": "code",
   "execution_count": null,
   "metadata": {
    "collapsed": true
   },
   "outputs": [],
   "source": [
    "x = c(0.35,0.40,0.20,0.05)\n",
    "plot(0:3,x, type = 'h')"
   ]
  },
  {
   "cell_type": "markdown",
   "metadata": {},
   "source": [
    "Example 2: I toss a fair coin twice, and let X be defined as the number of heads I observe. Find the range of X, RX, as well as its probability mass function PX."
   ]
  },
  {
   "cell_type": "markdown",
   "metadata": {},
   "source": [
    "What is the sample space?\n",
    "\n",
    "what is $P_x(k)$"
   ]
  },
  {
   "cell_type": "code",
   "execution_count": null,
   "metadata": {
    "collapsed": true
   },
   "outputs": [],
   "source": []
  },
  {
   "cell_type": "markdown",
   "metadata": {},
   "source": [
    "### Cumulative Distributions"
   ]
  },
  {
   "cell_type": "markdown",
   "metadata": {},
   "source": [
    "Another way to represent discrete distributions is using a step function called Cumulative Distribution Function CDF.\n",
    "\n",
    "The CDF is formally defined as $F_x(t) = P(X \\leq t)$ (Note the difference in the notation, a CDF is noted as a capitol F, whereas a PDF is noted as a lower case f)\n",
    "\n",
    "This is an important definition as it implies that the random variable is a function of t (which can be defined as the order of events - time).\n",
    "\n",
    "then \n",
    "\n",
    "$$F_x(t) = \\sum_{j = 1}^{t} p(x_j)$$"
   ]
  },
  {
   "cell_type": "code",
   "execution_count": null,
   "metadata": {
    "collapsed": true
   },
   "outputs": [],
   "source": [
    "cumsum(x)\n",
    "plot(cumsum(x),type = 's')"
   ]
  },
  {
   "cell_type": "markdown",
   "metadata": {},
   "source": [
    "#### **Note that the range for the y axis in a CDF always goes from 0 to 1.**\n",
    "___"
   ]
  },
  {
   "cell_type": "markdown",
   "metadata": {
    "collapsed": true
   },
   "source": [
    "## Discrete distributions\n",
    "\n",
    "We will explore the most used types of discrete distributions, the way we will describe any distribution will revolve around four main properties. \n",
    "\n",
    "PMF = Will define the function and its solution to a random trial.\n",
    "\n",
    "CDF = The cumulative function, as how the function behaves as we increase the number of random variables\n",
    "\n",
    "Mean = $\\mu$ = The central parameter of the distribution  \n",
    "\n",
    "Standard Deviation = $\\sigma$ = The spread or size of the distribution  \n",
    "\n"
   ]
  },
  {
   "cell_type": "markdown",
   "metadata": {},
   "source": [
    "#### Bernoulli Trial\n",
    "\n",
    "A Bernoulli trial is one, and only one, random experiment with two outcomes. e.g. sucess/failure, yes/no, on/off, etc. in this experiment the probability of sucess or failure doesn't change from trial to trial\n",
    "\n",
    "\n",
    "## Bernoulli Distribution\n",
    "\n",
    "The Bernoulli distribution is the probability distribution of a random variable which takes the value 1 with probability p and the value 0 with probability q=1-p\n",
    "\n",
    "\n",
    "The distribution of heads and tails in coin tossing is an example of a Bernoulli distribution with p=q=1/2. The Bernoulli distribution is the simplest discrete distribution, and it the building block for other more complicated discrete distributions.\n",
    " \n",
    "There is not CDF as this distribution deals only with one trial.\n",
    "\n",
    "$$ PMF = f(k;p) = \\bigg\\{\\begin{array}{ll}  p &\\    if\\ k = 1, \\\\  1-p &\\ if\\ k =0.\\end{array}$$\n",
    "\n",
    "Which can also be written f(k;p) = $p^k(1-p)^{1-k}$\n",
    "\n",
    "$$\\mu = p$$\n",
    "\n",
    "$$\\sigma = \\sqrt{p(1-p)}$$"
   ]
  },
  {
   "cell_type": "markdown",
   "metadata": {},
   "source": [
    "## Geometric Distribution\n",
    "\n",
    "The next simple case of a discrete distribution relates to cases where we run multiple bernoulli trials until we observe the first success.\n",
    "\n",
    "\n",
    "The PMF is given by (which is derived from the geometric series - discrete growth):\n",
    "\n",
    "$f(x)=P(X=x)=(1−p)^{x−1}p $\n",
    "\n",
    "$0 < p < 1, x = 1, 2,$ ... for a geometric random variable X is a valid p.m.f.\n",
    "\n",
    "\n",
    "The CDF is:\n",
    "\n",
    "$F(x)=P(X≤x)=1−(1−p)^x $\n",
    "\n",
    "The mean is:\n",
    "\n",
    "$\\mu = E(X) = \\frac {1}{p}$\n",
    "\n",
    "The variance:\n",
    "\n",
    "$\\sigma^2 = \\frac {1-p}{p^2}$\n",
    "\n",
    "---"
   ]
  },
  {
   "cell_type": "markdown",
   "metadata": {},
   "source": [
    "Example 1:\n",
    "\n",
    "Products produced by a machine has a 3% defective rate\n",
    "\n",
    "What is the probability that the first defective occurs in the fifth item inspected?\n",
    "\n",
    "P(X=5)  = P(first 4 not defective)*P(5th defective)\n",
    "\n",
    "        = P(0.97)^4 * (0.03)\n",
    "        = 0.026\n",
    "        = 2%"
   ]
  },
  {
   "cell_type": "code",
   "execution_count": null,
   "metadata": {
    "collapsed": true
   },
   "outputs": [],
   "source": [
    "dgeom(4,0.03) #4 is the number of failures until the first sucess (which in this case the first sucess is \n",
    "#to find the first defective item)"
   ]
  },
  {
   "cell_type": "markdown",
   "metadata": {},
   "source": [
    "What is the probability that the first defective occurs in the first five inspections?\n",
    "\n",
    "P(X=>5) = 1 - P(First 5 non-defective)\n",
    "        = 1 - 0.97^5\n",
    "\n",
    "\n",
    "or the cumulative probability of first defective on each of the first five inspections (which is about 15% (3%*5)\n"
   ]
  },
  {
   "cell_type": "code",
   "execution_count": null,
   "metadata": {
    "collapsed": true
   },
   "outputs": [],
   "source": [
    "pgeom(4,0.03)"
   ]
  },
  {
   "cell_type": "markdown",
   "metadata": {},
   "source": [
    "Example 2:\n",
    "\n",
    "A patient is waiting for a suitable matching kidney donor for a transplant. If the probability that a randomly selected donor is a suitable match is p=0.1, what is the expected number (*This means what is the average number*) of donors who will be tested before a matching donor is found?\n",
    "\n",
    "You can intuitively see that if the probability is 0.1 then there is 1 in 10 suitable donors, then the expected number of donors who will be tested before a matching donor is found should be 9, we can use our the mean to get the same answer\n",
    "\n",
    "$\\mu = E(X) = \\frac {1}{p}$ ##### This the mean for the expected number of successes, the mean for the expected number of failures is\n",
    "\n",
    "$\\mu = E(X) = \\frac {1-p}{p}$\n",
    "\n",
    "$\\mu = E(X) = \\frac {1-0.1}{0.1}$ = 9\n",
    "\n"
   ]
  },
  {
   "cell_type": "markdown",
   "metadata": {},
   "source": [
    "Let’s generate 100 random samplings where the probability of success on any given trial is 1/2, like we were repeatedly flipping a coin and recording how many heads we got before we got a tail"
   ]
  },
  {
   "cell_type": "code",
   "execution_count": null,
   "metadata": {
    "collapsed": true
   },
   "outputs": [],
   "source": [
    "sample <- rgeom(100, 1/2)\n",
    "summary(sample)\n",
    "sd(sample)"
   ]
  },
  {
   "cell_type": "code",
   "execution_count": null,
   "metadata": {
    "collapsed": true
   },
   "outputs": [],
   "source": [
    "hist(sample, breaks=seq(-0.5,6.5, 1), col='light grey', border='grey', xlab=\"\")"
   ]
  },
  {
   "cell_type": "markdown",
   "metadata": {},
   "source": [
    "---\n",
    "\n",
    "## Binomial Distribution (Sampling with replacement)"
   ]
  },
  {
   "cell_type": "markdown",
   "metadata": {},
   "source": [
    "**Binomial distributions are defined as a collection of Bernoulli trials only If each individual trial is independent.** \n",
    "\n",
    "Similar to the Bernoulli Distribution, the binomial distribution pertains to random experiments with two possible otucomes: Sucess (S) and Failure (F). Thus, For any random variable (X) we can assign x = 1 when sucess and x = 0 when failure.\n",
    "\n",
    "if p(s) = p then p(f) = 1-p\n",
    "\n",
    "the PMF of k for one trial is\n",
    "\n",
    "$$f_x(k) = p^k (1-p)^{1-k}$$\n",
    "\n",
    "The binomial model has three properties\n",
    "\n",
    "* It uses multiple Bernoulli trials (n times)\n",
    "* The trials are independent\n",
    "* P(s) states the same \n",
    "\n",
    "if X counts the number of sucesses in the n independet trials then the PMF of X is\n",
    "\n",
    "$$f_x(k) = {n \\choose k} p^k (1-p)^{n-k}$$ "
   ]
  },
  {
   "cell_type": "markdown",
   "metadata": {},
   "source": [
    "The mean of the distribution is\n",
    "$$\\mu = np$$\n",
    "\n",
    "The standard deviation of the distribution is\n",
    "\n",
    "$$\\sigma = \\sqrt{np(1-p)}$$"
   ]
  },
  {
   "cell_type": "markdown",
   "metadata": {},
   "source": [
    "A four-child family. Each child may be either a boy (B) or a girl (G). For simplicity we suppose that P(B) = P(G) = 1=2 and that the genders of the children are determined independently. \n",
    "If we let X count the number of B’s, then X ~ binom(size = 4; prob = 1=2). \n",
    "\n"
   ]
  },
  {
   "cell_type": "code",
   "execution_count": null,
   "metadata": {
    "collapsed": true
   },
   "outputs": [],
   "source": [
    "##we can calculate the binomial probability of no having any boys in the family of four\n",
    "##in R using the function pbinom()\n",
    "\n",
    "dbinom(0,4,0.5)"
   ]
  },
  {
   "cell_type": "markdown",
   "metadata": {},
   "source": [
    "How about finding the probability of having two boys in a family of 4 Further, P(X = 2) is\n",
    "\n",
    "$$f_x(2) = {4 \\choose 2} \\frac{1}{2}^2 \\frac{1}{2}^{2} = \\frac{6}{2^4}$$ "
   ]
  },
  {
   "cell_type": "code",
   "execution_count": null,
   "metadata": {
    "collapsed": true,
    "scrolled": true
   },
   "outputs": [],
   "source": [
    "choose(4,2) #which calculates the combinations of two sucessess in four trials\n",
    "\n",
    "6/2^4 ##probability of having two boys in a family of 4\n",
    "\n",
    "dbinom(2,4,0.5)"
   ]
  },
  {
   "cell_type": "markdown",
   "metadata": {},
   "source": [
    "find $\\mu$ and $\\sigma$"
   ]
  },
  {
   "cell_type": "code",
   "execution_count": null,
   "metadata": {
    "collapsed": true
   },
   "outputs": [],
   "source": [
    "#lets plot PMF and CDF for this example\n",
    "\n",
    "two_boys_pmf <- dbinom(0:4, size = 4, prob = 0.5)\n",
    "plot(two_boys_pmf, type = \"h\", ylim= c(0,0.5))\n",
    "points(two_boys_pmf,pch=19)"
   ]
  },
  {
   "cell_type": "code",
   "execution_count": null,
   "metadata": {
    "collapsed": true
   },
   "outputs": [],
   "source": [
    "plot(1:5,cumsum(two_boys_pmf), type = 'l')\n",
    "#plot(1:5,cumsum(two_boys_pmf), type = 's')\n",
    "#plot(pbinom(0:5,4,0.5), type = 'l')"
   ]
  },
  {
   "cell_type": "code",
   "execution_count": null,
   "metadata": {
    "collapsed": true
   },
   "outputs": [],
   "source": []
  },
  {
   "cell_type": "markdown",
   "metadata": {},
   "source": [
    "Exercise:  the CDC estimates that 22% of adults in the U.S. smoke\n",
    "If we randomly sample 10 individuals from the US population, what is the probability that 5 individuals from the sample smoke?\n",
    "In this case smoke is the success and non smoke is the failure\n",
    "plot the PMF and CMF for this distribution?"
   ]
  },
  {
   "cell_type": "code",
   "execution_count": null,
   "metadata": {
    "collapsed": true
   },
   "outputs": [],
   "source": [
    "#dbinom(5,size=10,prob=.22)"
   ]
  },
  {
   "cell_type": "code",
   "execution_count": null,
   "metadata": {
    "collapsed": true
   },
   "outputs": [],
   "source": [
    "#plot(pbinom(0:10,10,.22), type = 'l')"
   ]
  },
  {
   "cell_type": "markdown",
   "metadata": {},
   "source": [
    "### Confidence intervals:\n",
    "\n",
    "In most cases obtaining a unique probability is not very reasonable, as we are dealing with random trials. It is better to supply this info using confidence intervals, normally we use 95% CF.\n",
    "\n",
    "In our previous example calculate the 95% that we obtain 5 smokers of our sample\n"
   ]
  },
  {
   "cell_type": "code",
   "execution_count": null,
   "metadata": {
    "collapsed": true
   },
   "outputs": [],
   "source": [
    "#Generate a sequency from 0 to 1 by 0.01 units\n",
    "se = seq(0,1,by = 0.01)\n",
    "\n",
    "#calculate all binomial probabilities at each initial probability\n",
    "a = dbinom(5,10,prob = se)\n",
    "\n",
    "#combine data\n",
    "#df = as.data.frame(cbind(se,a))\n",
    "#df"
   ]
  },
  {
   "cell_type": "code",
   "execution_count": null,
   "metadata": {
    "collapsed": true
   },
   "outputs": [],
   "source": [
    "plot(seq(0,1,by=0.01),a, type = 'l')\n",
    "abline(h = 0.05, xlim =c(0,1), col ='red')"
   ]
  },
  {
   "cell_type": "markdown",
   "metadata": {},
   "source": [
    "Obviously we can do it in R, in an easier manner"
   ]
  },
  {
   "cell_type": "code",
   "execution_count": null,
   "metadata": {
    "collapsed": true
   },
   "outputs": [],
   "source": [
    "#install.packages(\"binom\")\n",
    "library(binom)\n",
    "binom.confint(5, 10, conf.level = 0.95)"
   ]
  },
  {
   "cell_type": "code",
   "execution_count": null,
   "metadata": {
    "collapsed": true
   },
   "outputs": [],
   "source": []
  },
  {
   "cell_type": "markdown",
   "metadata": {},
   "source": [
    "### Comparing Distributions\n",
    "\n",
    "We can visually see how two distributions are different from each other by plotting their two PMFs (or histograms) on the same plot. For example.\n",
    "\n",
    "Lets compare two distributions of a coin flip simulation where one of the coins is biased (p = 0.3) instead of a normal p = 0.5\n",
    "\n",
    "We know that this type of trials (sampling with replacement) follow a binomial distribution, therefore, we can then randomly sample from the binomial distribution (rbinom)"
   ]
  },
  {
   "cell_type": "code",
   "execution_count": null,
   "metadata": {
    "collapsed": true
   },
   "outputs": [],
   "source": [
    "experiment_num<-10000\n",
    "my_size<-100\n",
    "\n",
    "##we will sample 10000 times flipping 100 coins, and get the counts of successes\n",
    "fair_flips <- rbinom(n = experiment_num, size = my_size, prob = 0.5)\n",
    "biased_flips <- rbinom(n = experiment_num, size = my_size, prob = 0.3)#note this the biased coin\n",
    "\n",
    "## We can construct histograms to represent each distribution\n",
    "\n",
    "hist(fair_flips, col = rgb(1,1,0,0.5), xlim = c(10,70), ylim = c(0,1000), breaks = 40 ,\n",
    "     main = \"Histogram of biased (green) and fair (yellow) flips\")\n",
    "hist(biased_flips,col = rgb(0,1,0,0.5),breaks = 40,add=T) ##add = T, adds the plot to a previous plot call\n",
    "\n",
    "\n",
    "\n"
   ]
  },
  {
   "cell_type": "code",
   "execution_count": null,
   "metadata": {
    "collapsed": true
   },
   "outputs": [],
   "source": [
    "# we can extract a matrix of counts and frequency for each count\n",
    "ff = hist(fair_flips, breaks = 40 ,plot = F)\n",
    "bf = hist(biased_flips,breaks = 40,plot = F)\n",
    "names(ff)\n",
    "ff$counts\n"
   ]
  },
  {
   "cell_type": "code",
   "execution_count": null,
   "metadata": {
    "collapsed": true
   },
   "outputs": [],
   "source": [
    "my_xlim<-range(c(ff$breaks, bf$breaks))\n",
    "my_ylim<-range(c(ff$counts, bf$counts))\n",
    "hist(fair_flips, breaks = 40, \n",
    "     xlim= my_xlim, ylim=my_ylim, \n",
    "     main=\"Histogram of coin flips\", \n",
    "     xlab=paste(\"Heads out of\", my_size, \"flips\"))\n",
    "\n",
    "b<-par('usr') ##lets save the coordinates for this previous plot\n",
    "\n"
   ]
  },
  {
   "cell_type": "code",
   "execution_count": null,
   "metadata": {
    "collapsed": true
   },
   "outputs": [],
   "source": [
    "rect(b[1], b[3], b[2], b[4], col=\"gray\")##using the previously recorded coordinates - lets draw a nicer plot\n",
    "plot(ff, col=rgb(1,0,0,.6), add=T)\n",
    "plot(bf, col=rgb(0,0,1,.6), add=T)"
   ]
  },
  {
   "cell_type": "code",
   "execution_count": null,
   "metadata": {
    "collapsed": true
   },
   "outputs": [],
   "source": [
    "##Lets construct the PMF but a smaller k, to see a better plot (you can tried with a large k, but the idea is the same)\n",
    "\n",
    "fair_flips_pmf <- dbinom(1:100, size = 100, prob = 0.5)\n",
    "biased_flips_pmf <- dbinom(1:100, size = 100, prob = 0.3)\n",
    "plot(fair_flips_pmf, type = \"h\")\n",
    "points(fair_flips_pmf,pch=19)\n",
    "par(new=TRUE)\n",
    "plot(biased_flips_pmf, type = \"h\")\n",
    "points(biased_flips_pmf,pch=19)"
   ]
  },
  {
   "cell_type": "code",
   "execution_count": null,
   "metadata": {
    "collapsed": true
   },
   "outputs": [],
   "source": [
    "##or in two different plots\n",
    "\n",
    "par(mfrow=c(1,2))\n",
    "plot(fair_flips_pmf, type = \"h\")\n",
    "points(fair_flips_pmf,pch=19)\n",
    "plot(biased_flips_pmf, type = \"h\")\n",
    "points(biased_flips_pmf,pch=19)\n",
    "par(mfrow=c(1,1))"
   ]
  },
  {
   "cell_type": "code",
   "execution_count": null,
   "metadata": {
    "collapsed": true
   },
   "outputs": [],
   "source": [
    "##And the CDF\n",
    "\n",
    "plot(cumsum(fair_flips_pmf), type = \"l\")\n",
    "lines(cumsum(biased_flips_pmf), col = \"red\")"
   ]
  },
  {
   "cell_type": "code",
   "execution_count": null,
   "metadata": {
    "collapsed": true
   },
   "outputs": [],
   "source": [
    "###Which is the same as\n",
    "\n",
    "plot(pbinom(1:100,100,0.5), type = \"l\")\n",
    "lines(pbinom(1:100,100,0.3), col = \"red\")"
   ]
  }
 ],
 "metadata": {
  "kernelspec": {
   "display_name": "R",
   "language": "R",
   "name": "ir"
  },
  "language_info": {
   "codemirror_mode": "r",
   "file_extension": ".r",
   "mimetype": "text/x-r-source",
   "name": "R",
   "pygments_lexer": "r",
   "version": "3.4.1"
  }
 },
 "nbformat": 4,
 "nbformat_minor": 2
}
