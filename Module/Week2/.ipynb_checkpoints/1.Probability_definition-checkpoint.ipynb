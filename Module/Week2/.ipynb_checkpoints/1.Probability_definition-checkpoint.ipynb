{
 "cells": [
  {
   "cell_type": "markdown",
   "metadata": {
    "slideshow": {
     "slide_type": "slide"
    }
   },
   "source": [
    "# 1. History of Probability"
   ]
  },
  {
   "cell_type": "markdown",
   "metadata": {
    "slideshow": {
     "slide_type": "subslide"
    }
   },
   "source": [
    "The history of probability is tightly tied to the history of gambling, the earliest six-sided dice dated to about 3000 BC. The first playing cards were known to have existed in the 9th century. However, during most of humanity there was not a formal definition of the mathematics  of chance. \n",
    "\n",
    "One problem was the abstract concept of randomness. For most of the history of humanity, randomness was mostly attributed to divine intervention thus not really tried to be treated as a mathematical concept. Another problem was the inconvenience of the earlier numerical systems. It was not until the adoption of the indian-arabic numerals that real advances were made regarding the concept and rules of gambling."
   ]
  },
  {
   "cell_type": "markdown",
   "metadata": {
    "slideshow": {
     "slide_type": "subslide"
    }
   },
   "source": [
    "It was not until the 17th century that a more formal definition of probability and chance was developed. The intial records of the attempts to solve gambling problems are found in a series of correspondences between two mathematicians Blaise Pascal and Pierre de Fermat.\n",
    "\n",
    "In these letters they attempt to solve questions related to gambling that were raised by a French nobleman (Antoine Gombaud, Chevalier de Mere) whom was an avid gambler."
   ]
  },
  {
   "cell_type": "markdown",
   "metadata": {},
   "source": [
    "### Lets review one of the questions that Chevalier the Mere asked to Pascal:"
   ]
  },
  {
   "cell_type": "markdown",
   "metadata": {},
   "source": [
    "For the first question, de Mere made bet with even odds on getting at least one six on four rolls of a fair die. He was actually making money from this bet, why? \n",
    "\n",
    "We shall try to see if de Mere is correct by simulating his various bets"
   ]
  },
  {
   "cell_type": "markdown",
   "metadata": {},
   "source": [
    "#### How can we generate random draws in R?"
   ]
  },
  {
   "cell_type": "code",
   "execution_count": 1,
   "metadata": {},
   "outputs": [],
   "source": [
    "##Generate a random number from 0 to 1 using the uniform distribution\n",
    "## We will use the function runif()\n",
    "?runif"
   ]
  },
  {
   "cell_type": "code",
   "execution_count": 2,
   "metadata": {},
   "outputs": [
    {
     "data": {
      "text/html": [
       "<ol class=list-inline>\n",
       "\t<li>0.132339362986386</li>\n",
       "\t<li>0.300945019116625</li>\n",
       "\t<li>0.843961706617847</li>\n",
       "\t<li>0.198301328578964</li>\n",
       "\t<li>0.618314224528149</li>\n",
       "\t<li>0.727425021585077</li>\n",
       "\t<li>0.627292492426932</li>\n",
       "\t<li>0.451017716666684</li>\n",
       "\t<li>2.75133643299341e-05</li>\n",
       "\t<li>0.448058869224042</li>\n",
       "\t<li>0.0950984372757375</li>\n",
       "\t<li>0.2014287665952</li>\n",
       "\t<li>0.15296422294341</li>\n",
       "\t<li>0.864530036225915</li>\n",
       "\t<li>0.629510090919212</li>\n",
       "\t<li>0.269919278798625</li>\n",
       "\t<li>0.539041473064572</li>\n",
       "\t<li>0.807987034786493</li>\n",
       "\t<li>0.434930354822427</li>\n",
       "\t<li>0.0994006940163672</li>\n",
       "</ol>\n"
      ],
      "text/latex": [
       "\\begin{enumerate*}\n",
       "\\item 0.132339362986386\n",
       "\\item 0.300945019116625\n",
       "\\item 0.843961706617847\n",
       "\\item 0.198301328578964\n",
       "\\item 0.618314224528149\n",
       "\\item 0.727425021585077\n",
       "\\item 0.627292492426932\n",
       "\\item 0.451017716666684\n",
       "\\item 2.75133643299341e-05\n",
       "\\item 0.448058869224042\n",
       "\\item 0.0950984372757375\n",
       "\\item 0.2014287665952\n",
       "\\item 0.15296422294341\n",
       "\\item 0.864530036225915\n",
       "\\item 0.629510090919212\n",
       "\\item 0.269919278798625\n",
       "\\item 0.539041473064572\n",
       "\\item 0.807987034786493\n",
       "\\item 0.434930354822427\n",
       "\\item 0.0994006940163672\n",
       "\\end{enumerate*}\n"
      ],
      "text/markdown": [
       "1. 0.132339362986386\n",
       "2. 0.300945019116625\n",
       "3. 0.843961706617847\n",
       "4. 0.198301328578964\n",
       "5. 0.618314224528149\n",
       "6. 0.727425021585077\n",
       "7. 0.627292492426932\n",
       "8. 0.451017716666684\n",
       "9. 2.75133643299341e-05\n",
       "10. 0.448058869224042\n",
       "11. 0.0950984372757375\n",
       "12. 0.2014287665952\n",
       "13. 0.15296422294341\n",
       "14. 0.864530036225915\n",
       "15. 0.629510090919212\n",
       "16. 0.269919278798625\n",
       "17. 0.539041473064572\n",
       "18. 0.807987034786493\n",
       "19. 0.434930354822427\n",
       "20. 0.0994006940163672\n",
       "\n",
       "\n"
      ],
      "text/plain": [
       " [1] 1.323394e-01 3.009450e-01 8.439617e-01 1.983013e-01 6.183142e-01\n",
       " [6] 7.274250e-01 6.272925e-01 4.510177e-01 2.751336e-05 4.480589e-01\n",
       "[11] 9.509844e-02 2.014288e-01 1.529642e-01 8.645300e-01 6.295101e-01\n",
       "[16] 2.699193e-01 5.390415e-01 8.079870e-01 4.349304e-01 9.940069e-02"
      ]
     },
     "metadata": {},
     "output_type": "display_data"
    }
   ],
   "source": [
    "runif(20, 0,1)"
   ]
  },
  {
   "cell_type": "code",
   "execution_count": null,
   "metadata": {
    "collapsed": true
   },
   "outputs": [],
   "source": [
    "## Antoher was to generate a random draw is with the function sample() \n",
    "?sample"
   ]
  },
  {
   "cell_type": "code",
   "execution_count": 21,
   "metadata": {},
   "outputs": [
    {
     "data": {
      "text/html": [
       "2"
      ],
      "text/latex": [
       "2"
      ],
      "text/markdown": [
       "2"
      ],
      "text/plain": [
       "[1] 2"
      ]
     },
     "metadata": {},
     "output_type": "display_data"
    }
   ],
   "source": [
    "##Randomly sample 1 object from the numerical range 1 to 6 \n",
    "sample(1:6,1)"
   ]
  },
  {
   "cell_type": "code",
   "execution_count": 8,
   "metadata": {},
   "outputs": [
    {
     "data": {
      "image/png": "[encoded data removed]",
      "text/plain": [
       "Plot with title “Histogram of sample(1:6, n, replace = T)”"
      ]
     },
     "metadata": {},
     "output_type": "display_data"
    }
   ],
   "source": [
    "##The function hist() creates a histogram of the proportions of values obtained in n random draws\n",
    "n = 100000\n",
    "hist(sample(1:6, n, replace = T))"
   ]
  },
  {
   "cell_type": "markdown",
   "metadata": {},
   "source": [
    "What happens to our proportions when we increase n to a larger number (100,10000,100000)"
   ]
  },
  {
   "cell_type": "markdown",
   "metadata": {},
   "source": [
    "We can also sample any type of vector, for example"
   ]
  },
  {
   "cell_type": "code",
   "execution_count": 9,
   "metadata": {},
   "outputs": [
    {
     "data": {
      "text/html": [
       "<ol class=list-inline>\n",
       "\t<li>'Kansas'</li>\n",
       "\t<li>'Mississippi'</li>\n",
       "\t<li>'Washington'</li>\n",
       "\t<li>'Wisconsin'</li>\n",
       "\t<li>'Ohio'</li>\n",
       "\t<li>'New Hampshire'</li>\n",
       "\t<li>'Kentucky'</li>\n",
       "\t<li>'Pennsylvania'</li>\n",
       "\t<li>'Alaska'</li>\n",
       "\t<li>'Indiana'</li>\n",
       "</ol>\n"
      ],
      "text/latex": [
       "\\begin{enumerate*}\n",
       "\\item 'Kansas'\n",
       "\\item 'Mississippi'\n",
       "\\item 'Washington'\n",
       "\\item 'Wisconsin'\n",
       "\\item 'Ohio'\n",
       "\\item 'New Hampshire'\n",
       "\\item 'Kentucky'\n",
       "\\item 'Pennsylvania'\n",
       "\\item 'Alaska'\n",
       "\\item 'Indiana'\n",
       "\\end{enumerate*}\n"
      ],
      "text/markdown": [
       "1. 'Kansas'\n",
       "2. 'Mississippi'\n",
       "3. 'Washington'\n",
       "4. 'Wisconsin'\n",
       "5. 'Ohio'\n",
       "6. 'New Hampshire'\n",
       "7. 'Kentucky'\n",
       "8. 'Pennsylvania'\n",
       "9. 'Alaska'\n",
       "10. 'Indiana'\n",
       "\n",
       "\n"
      ],
      "text/plain": [
       " [1] \"Kansas\"        \"Mississippi\"   \"Washington\"    \"Wisconsin\"    \n",
       " [5] \"Ohio\"          \"New Hampshire\" \"Kentucky\"      \"Pennsylvania\" \n",
       " [9] \"Alaska\"        \"Indiana\"      "
      ]
     },
     "metadata": {},
     "output_type": "display_data"
    }
   ],
   "source": [
    "sample(state.name, 10)\n"
   ]
  },
  {
   "cell_type": "code",
   "execution_count": 10,
   "metadata": {},
   "outputs": [
    {
     "data": {
      "text/html": [
       "<ol class=list-inline>\n",
       "\t<li>'U'</li>\n",
       "\t<li>'D'</li>\n",
       "\t<li>'W'</li>\n",
       "\t<li>'H'</li>\n",
       "\t<li>'X'</li>\n",
       "\t<li>'B'</li>\n",
       "\t<li>'U'</li>\n",
       "\t<li>'R'</li>\n",
       "\t<li>'H'</li>\n",
       "\t<li>'E'</li>\n",
       "\t<li>'C'</li>\n",
       "\t<li>'G'</li>\n",
       "\t<li>'N'</li>\n",
       "\t<li>'V'</li>\n",
       "\t<li>'W'</li>\n",
       "\t<li>'B'</li>\n",
       "\t<li>'Q'</li>\n",
       "\t<li>'D'</li>\n",
       "\t<li>'D'</li>\n",
       "\t<li>'D'</li>\n",
       "\t<li>'C'</li>\n",
       "\t<li>'T'</li>\n",
       "\t<li>'S'</li>\n",
       "\t<li>'W'</li>\n",
       "\t<li>'J'</li>\n",
       "\t<li>'F'</li>\n",
       "\t<li>'N'</li>\n",
       "\t<li>'B'</li>\n",
       "\t<li>'T'</li>\n",
       "\t<li>'G'</li>\n",
       "</ol>\n"
      ],
      "text/latex": [
       "\\begin{enumerate*}\n",
       "\\item 'U'\n",
       "\\item 'D'\n",
       "\\item 'W'\n",
       "\\item 'H'\n",
       "\\item 'X'\n",
       "\\item 'B'\n",
       "\\item 'U'\n",
       "\\item 'R'\n",
       "\\item 'H'\n",
       "\\item 'E'\n",
       "\\item 'C'\n",
       "\\item 'G'\n",
       "\\item 'N'\n",
       "\\item 'V'\n",
       "\\item 'W'\n",
       "\\item 'B'\n",
       "\\item 'Q'\n",
       "\\item 'D'\n",
       "\\item 'D'\n",
       "\\item 'D'\n",
       "\\item 'C'\n",
       "\\item 'T'\n",
       "\\item 'S'\n",
       "\\item 'W'\n",
       "\\item 'J'\n",
       "\\item 'F'\n",
       "\\item 'N'\n",
       "\\item 'B'\n",
       "\\item 'T'\n",
       "\\item 'G'\n",
       "\\end{enumerate*}\n"
      ],
      "text/markdown": [
       "1. 'U'\n",
       "2. 'D'\n",
       "3. 'W'\n",
       "4. 'H'\n",
       "5. 'X'\n",
       "6. 'B'\n",
       "7. 'U'\n",
       "8. 'R'\n",
       "9. 'H'\n",
       "10. 'E'\n",
       "11. 'C'\n",
       "12. 'G'\n",
       "13. 'N'\n",
       "14. 'V'\n",
       "15. 'W'\n",
       "16. 'B'\n",
       "17. 'Q'\n",
       "18. 'D'\n",
       "19. 'D'\n",
       "20. 'D'\n",
       "21. 'C'\n",
       "22. 'T'\n",
       "23. 'S'\n",
       "24. 'W'\n",
       "25. 'J'\n",
       "26. 'F'\n",
       "27. 'N'\n",
       "28. 'B'\n",
       "29. 'T'\n",
       "30. 'G'\n",
       "\n",
       "\n"
      ],
      "text/plain": [
       " [1] \"U\" \"D\" \"W\" \"H\" \"X\" \"B\" \"U\" \"R\" \"H\" \"E\" \"C\" \"G\" \"N\" \"V\" \"W\" \"B\" \"Q\" \"D\" \"D\"\n",
       "[20] \"D\" \"C\" \"T\" \"S\" \"W\" \"J\" \"F\" \"N\" \"B\" \"T\" \"G\""
      ]
     },
     "metadata": {},
     "output_type": "display_data"
    }
   ],
   "source": [
    "sample(LETTERS,30, replace = T)"
   ]
  },
  {
   "cell_type": "markdown",
   "metadata": {},
   "source": [
    "Lets simulate a simple gambling game coin toss"
   ]
  },
  {
   "cell_type": "code",
   "execution_count": 11,
   "metadata": {},
   "outputs": [],
   "source": [
    "coins = c(0,1)"
   ]
  },
  {
   "cell_type": "code",
   "execution_count": 12,
   "metadata": {},
   "outputs": [],
   "source": [
    "names(coins) = c(\"H\",\"T\")"
   ]
  },
  {
   "cell_type": "code",
   "execution_count": 23,
   "metadata": {},
   "outputs": [],
   "source": [
    "n = 10000\n",
    "trial = sample(coins, n, replace = T)\n",
    "#trial"
   ]
  },
  {
   "cell_type": "code",
   "execution_count": 24,
   "metadata": {},
   "outputs": [
    {
     "data": {
      "text/html": [
       "0.5094"
      ],
      "text/latex": [
       "0.5094"
      ],
      "text/markdown": [
       "0.5094"
      ],
      "text/plain": [
       "[1] 0.5094"
      ]
     },
     "metadata": {},
     "output_type": "display_data"
    },
    {
     "data": {
      "text/html": [
       "0.4906"
      ],
      "text/latex": [
       "0.4906"
      ],
      "text/markdown": [
       "0.4906"
      ],
      "text/plain": [
       "[1] 0.4906"
      ]
     },
     "metadata": {},
     "output_type": "display_data"
    }
   ],
   "source": [
    "length(trial[trial==0])/n\n",
    "length(trial[trial==1])/n"
   ]
  },
  {
   "cell_type": "code",
   "execution_count": 25,
   "metadata": {},
   "outputs": [
    {
     "data": {
      "text/html": [
       "0.4906"
      ],
      "text/latex": [
       "0.4906"
      ],
      "text/markdown": [
       "0.4906"
      ],
      "text/plain": [
       "[1] 0.4906"
      ]
     },
     "metadata": {},
     "output_type": "display_data"
    },
    {
     "data": {
      "text/html": [
       "0.5094"
      ],
      "text/latex": [
       "0.5094"
      ],
      "text/markdown": [
       "0.5094"
      ],
      "text/plain": [
       "[1] 0.5094"
      ]
     },
     "metadata": {},
     "output_type": "display_data"
    }
   ],
   "source": [
    "length(trial[names(trial)==\"T\"])/n\n",
    "length(trial[names(trial)==\"H\"])/n"
   ]
  },
  {
   "cell_type": "code",
   "execution_count": 26,
   "metadata": {},
   "outputs": [
    {
     "data": {
      "text/plain": [
       "trial\n",
       "   0    1 \n",
       "5094 4906 "
      ]
     },
     "metadata": {},
     "output_type": "display_data"
    }
   ],
   "source": [
    "table(trial)"
   ]
  },
  {
   "cell_type": "markdown",
   "metadata": {},
   "source": [
    "## Back to our original question, we need to simulate 4 trows of a fare die and count how many 6 we get"
   ]
  },
  {
   "cell_type": "code",
   "execution_count": 27,
   "metadata": {},
   "outputs": [],
   "source": [
    "#We need to create a function that allows us to sample many times (in this case 4) from a die\n",
    "die = c(1:6)\n",
    "n = 4"
   ]
  },
  {
   "cell_type": "markdown",
   "metadata": {},
   "source": [
    "A function in R is created using the format\n",
    "Var_name = function(args){...}"
   ]
  },
  {
   "cell_type": "code",
   "execution_count": 28,
   "metadata": {},
   "outputs": [],
   "source": [
    "##This function will sample from the vector x, n times with replacement\n",
    "chevalier = function(x,n){\n",
    "  a = sample(x,n,replace = T)\n",
    "  return(a)\n",
    "}"
   ]
  },
  {
   "cell_type": "code",
   "execution_count": 29,
   "metadata": {},
   "outputs": [
    {
     "data": {
      "text/html": [
       "<ol class=list-inline>\n",
       "\t<li>5</li>\n",
       "\t<li>4</li>\n",
       "\t<li>2</li>\n",
       "\t<li>5</li>\n",
       "</ol>\n"
      ],
      "text/latex": [
       "\\begin{enumerate*}\n",
       "\\item 5\n",
       "\\item 4\n",
       "\\item 2\n",
       "\\item 5\n",
       "\\end{enumerate*}\n"
      ],
      "text/markdown": [
       "1. 5\n",
       "2. 4\n",
       "3. 2\n",
       "4. 5\n",
       "\n",
       "\n"
      ],
      "text/plain": [
       "[1] 5 4 2 5"
      ]
     },
     "metadata": {},
     "output_type": "display_data"
    }
   ],
   "source": [
    "res = chevalier(die,n)\n",
    "res"
   ]
  },
  {
   "cell_type": "code",
   "execution_count": null,
   "metadata": {},
   "outputs": [],
   "source": []
  },
  {
   "cell_type": "markdown",
   "metadata": {},
   "source": [
    "We need now to repeat this draw many times and calculate how many times we are succesful (at least one 6) or not. In python the clear method is with a loop.\n",
    "\n",
    "In R loops (for, if, while) follow the following format\n",
    "\n",
    "for (i in x){...}\n"
   ]
  },
  {
   "cell_type": "code",
   "execution_count": 31,
   "metadata": {},
   "outputs": [
    {
     "ename": "ERROR",
     "evalue": "Error: could not find function \"mul.append\"\n",
     "output_type": "error",
     "traceback": [
      "Error: could not find function \"mul.append\"\nTraceback:\n"
     ]
    }
   ],
   "source": [
    "m = 10 #how many times we are going to repeat the draw\n",
    "\n",
    "#we need a loop that cycles m times using our sampling function, \n",
    "#and assing each result to either a true or false if we have a 6 in the draw\n",
    "\n",
    "a = character(m) #create an empty vector of m number of characters\n",
    "mul = list() #create an empty list to get all our results\n",
    "res = vector()\n",
    "\n",
    "\n",
    "for (i in 1:m){\n",
    "    res = chevalier(die, n)\n",
    "    mul[[i]] = res\n",
    "    if (6 %in% res) {\n",
    "        \n",
    "    }\n",
    "}"
   ]
  },
  {
   "cell_type": "code",
   "execution_count": null,
   "metadata": {
    "collapsed": true
   },
   "outputs": [],
   "source": [
    "mul"
   ]
  },
  {
   "cell_type": "code",
   "execution_count": null,
   "metadata": {
    "collapsed": true
   },
   "outputs": [],
   "source": [
    "a"
   ]
  },
  {
   "cell_type": "code",
   "execution_count": null,
   "metadata": {
    "collapsed": true
   },
   "outputs": [],
   "source": [
    "table(a)[\"TRUE\"]/m"
   ]
  },
  {
   "cell_type": "markdown",
   "metadata": {},
   "source": [
    "we hate loops in R, loops in R run extremely slow. A very important family of built in functions serve as a more efficient way of deal with loops.\n",
    "\n",
    "This is the apply family\n",
    "\n",
    "Lets rewrite our preview example using the apply function\n",
    "\n"
   ]
  },
  {
   "cell_type": "code",
   "execution_count": null,
   "metadata": {
    "collapsed": true
   },
   "outputs": [],
   "source": [
    "?apply"
   ]
  },
  {
   "cell_type": "code",
   "execution_count": null,
   "metadata": {},
   "outputs": [],
   "source": [
    "#First lets replicate the sampling function m times\n",
    "m = 10\n",
    "die_list = replicate(m,chevalier(die,n))\n",
    "die_list"
   ]
  },
  {
   "cell_type": "code",
   "execution_count": null,
   "metadata": {},
   "outputs": [],
   "source": [
    "true_vector = apply(die_list, 2, function(r) any(r %in% 6))\n",
    "true_vector"
   ]
  },
  {
   "cell_type": "code",
   "execution_count": null,
   "metadata": {},
   "outputs": [],
   "source": [
    "length(which(true_vector == \"TRUE\"))/m"
   ]
  },
  {
   "cell_type": "code",
   "execution_count": null,
   "metadata": {
    "collapsed": true
   },
   "outputs": [],
   "source": []
  }
 ],
 "metadata": {
  "kernelspec": {
   "display_name": "R",
   "language": "R",
   "name": "ir"
  },
  "language_info": {
   "codemirror_mode": "r",
   "file_extension": ".r",
   "mimetype": "text/x-r-source",
   "name": "R",
   "pygments_lexer": "r",
   "version": "3.3.2"
  }
 },
 "nbformat": 4,
 "nbformat_minor": 2
}
